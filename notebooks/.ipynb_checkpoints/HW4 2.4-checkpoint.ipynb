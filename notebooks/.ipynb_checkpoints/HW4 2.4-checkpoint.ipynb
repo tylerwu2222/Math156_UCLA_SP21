{
 "cells": [
  {
   "cell_type": "markdown",
   "id": "400e5a0e",
   "metadata": {},
   "source": [
    "# Question 2.4"
   ]
  },
  {
   "cell_type": "code",
   "execution_count": 203,
   "id": "8554462b",
   "metadata": {},
   "outputs": [],
   "source": [
    "import numpy as np\n",
    "import pandas as pd\n",
    "import re\n",
    "from collections import Counter\n",
    "from sklearn.metrics import confusion_matrix\n",
    "from matplotlib import pyplot as plt"
   ]
  },
  {
   "cell_type": "markdown",
   "id": "e610df67",
   "metadata": {},
   "source": [
    "I decided to use a synthetic dataset I found on Kaggle. The variables were all categorical variables (nominal, ordinal, etc.). For interpretability, decided to use only the nominal features `nom_0` to `nom_4` to predict the `target` variable."
   ]
  },
  {
   "cell_type": "code",
   "execution_count": 196,
   "id": "81cc0e9c",
   "metadata": {},
   "outputs": [
    {
     "name": "stdout",
     "output_type": "stream",
     "text": [
      "(300000, 6) Index(['nom_0', 'nom_1', 'nom_2', 'nom_3', 'nom_4'], dtype='object')\n"
     ]
    },
    {
     "data": {
      "text/html": [
       "<div>\n",
       "<style scoped>\n",
       "    .dataframe tbody tr th:only-of-type {\n",
       "        vertical-align: middle;\n",
       "    }\n",
       "\n",
       "    .dataframe tbody tr th {\n",
       "        vertical-align: top;\n",
       "    }\n",
       "\n",
       "    .dataframe thead th {\n",
       "        text-align: right;\n",
       "    }\n",
       "</style>\n",
       "<table border=\"1\" class=\"dataframe\">\n",
       "  <thead>\n",
       "    <tr style=\"text-align: right;\">\n",
       "      <th></th>\n",
       "      <th>nom_0</th>\n",
       "      <th>nom_1</th>\n",
       "      <th>nom_2</th>\n",
       "      <th>nom_3</th>\n",
       "      <th>nom_4</th>\n",
       "      <th>target</th>\n",
       "    </tr>\n",
       "  </thead>\n",
       "  <tbody>\n",
       "    <tr>\n",
       "      <th>0</th>\n",
       "      <td>Red</td>\n",
       "      <td>Trapezoid</td>\n",
       "      <td>Snake</td>\n",
       "      <td>China</td>\n",
       "      <td>Oboe</td>\n",
       "      <td>1</td>\n",
       "    </tr>\n",
       "    <tr>\n",
       "      <th>1</th>\n",
       "      <td>Blue</td>\n",
       "      <td>Circle</td>\n",
       "      <td>Cat</td>\n",
       "      <td>Russia</td>\n",
       "      <td>Oboe</td>\n",
       "      <td>0</td>\n",
       "    </tr>\n",
       "    <tr>\n",
       "      <th>2</th>\n",
       "      <td>Red</td>\n",
       "      <td>Trapezoid</td>\n",
       "      <td>Lion</td>\n",
       "      <td>China</td>\n",
       "      <td>Theremin</td>\n",
       "      <td>0</td>\n",
       "    </tr>\n",
       "    <tr>\n",
       "      <th>3</th>\n",
       "      <td>Green</td>\n",
       "      <td>Trapezoid</td>\n",
       "      <td>Lion</td>\n",
       "      <td>Russia</td>\n",
       "      <td>Theremin</td>\n",
       "      <td>0</td>\n",
       "    </tr>\n",
       "    <tr>\n",
       "      <th>4</th>\n",
       "      <td>Green</td>\n",
       "      <td>Trapezoid</td>\n",
       "      <td>Snake</td>\n",
       "      <td>Russia</td>\n",
       "      <td>Oboe</td>\n",
       "      <td>1</td>\n",
       "    </tr>\n",
       "  </tbody>\n",
       "</table>\n",
       "</div>"
      ],
      "text/plain": [
       "   nom_0      nom_1  nom_2   nom_3     nom_4  target\n",
       "0    Red  Trapezoid  Snake   China      Oboe       1\n",
       "1   Blue     Circle    Cat  Russia      Oboe       0\n",
       "2    Red  Trapezoid   Lion   China  Theremin       0\n",
       "3  Green  Trapezoid   Lion  Russia  Theremin       0\n",
       "4  Green  Trapezoid  Snake  Russia      Oboe       1"
      ]
     },
     "execution_count": 196,
     "metadata": {},
     "output_type": "execute_result"
    }
   ],
   "source": [
    "# load data\n",
    "pd.options.display.max_columns = None\n",
    "data = pd.read_csv('animal_train.csv')\n",
    "data = pd.concat([data.loc[:,'nom_0':'nom_4'],data.target],axis=1)\n",
    "features = data.columns[:-1]\n",
    "print(data.shape,features)\n",
    "np.random.seed(2)\n",
    "indices = np.random.choice(a=len(data.index),size=1000,replace=False) # sample indices for train/valid\n",
    "train = data.loc[indices[0:800],]\n",
    "test = data.loc[indices[800:],]\n",
    "# reindex rows 0 to len-1\n",
    "train.reset_index(drop=True,inplace=True)\n",
    "test.reset_index(drop=True,inplace=True)\n",
    "train.head()"
   ]
  },
  {
   "cell_type": "code",
   "execution_count": 174,
   "id": "42029232",
   "metadata": {},
   "outputs": [],
   "source": [
    "# wrapper/helper functions\n",
    "def get_priors(labels):\n",
    "    ''' \n",
    "    finds count of each label in labels, converts to probabilities\n",
    "    returns list of prior probabilities\n",
    "    '''\n",
    "    count_dict = Counter(labels) # dict of counts\n",
    "    counts = list(count_dict.values())\n",
    "    probs = [c / len(labels) for c in counts]\n",
    "    prob_dict = dict(zip(list(count_dict.keys()),probs))\n",
    "    return prob_dict\n",
    "\n",
    "def get_class_cond(data,label_col,feature_cols,alpha=1):\n",
    "# def get_class_cond(labels,text):\n",
    "    '''\n",
    "    finds class conditional probabilities for all levels of feature_cols \n",
    "    and for each class with added psuedocount alpha\n",
    "    returns dictionary with key = class name; value = class-conditional probabilities\n",
    "    '''\n",
    "    classes = np.unique(data[label_col])\n",
    "    class_cond_dict = {}\n",
    "    for c in classes:\n",
    "        class_data = data.loc[data[label_col]==c,]\n",
    "        nrow = len(class_data.index)\n",
    "        count_dict = {}\n",
    "        for f in feature_cols:\n",
    "            feature_counts = {key:(val + alpha)/nrow for key,val in dict(Counter(class_data[f])).items()} # add pseuedocount\n",
    "            count_dict.update(feature_counts) # store all feature counts in one dict\n",
    "        class_cond_dict[c] = count_dict\n",
    "    return class_cond_dict\n",
    "\n",
    "def normalize_probs(prob_dict):\n",
    "    ''' normalize probability to sum to 1 '''\n",
    "    prob_sums = sum(prob_dict.values())\n",
    "    return {key:val/prob_sums for key,val in prob_dict.items()}"
   ]
  },
  {
   "cell_type": "code",
   "execution_count": 175,
   "id": "93b0d823",
   "metadata": {},
   "outputs": [],
   "source": [
    "def get_pred_probs(x_features,prior_probs,class_conds):\n",
    "    '''\n",
    "    calculate and return predictive probabilities for example x based on training data, train\n",
    "    '''\n",
    "    \n",
    "    pred_probs = {}\n",
    "    # for each class calculate predicted probability\n",
    "    for c in prior_probs:\n",
    "        pred_prob = prior_probs[c]\n",
    "        for feature in x_features:\n",
    "            class_cond_prob = class_conds[c].get(feature)\n",
    "            pred_prob *= class_cond_prob\n",
    "        pred_probs[c] = pred_prob\n",
    "    pred_probs = normalize_probs(pred_probs)\n",
    "    return pred_probs"
   ]
  },
  {
   "cell_type": "code",
   "execution_count": 176,
   "id": "d75cd2a1",
   "metadata": {},
   "outputs": [],
   "source": [
    "def classify(probs):\n",
    "    return max(probs, key=probs.get)"
   ]
  },
  {
   "cell_type": "code",
   "execution_count": 197,
   "id": "3ab7fd50",
   "metadata": {},
   "outputs": [
    {
     "name": "stdout",
     "output_type": "stream",
     "text": [
      "{1: 0.315, 0: 0.685}\n"
     ]
    }
   ],
   "source": [
    "# get prior and class-conditional of training data\n",
    "prior_probs = get_priors(train['target'])\n",
    "class_conds = get_class_cond(train,'target',features)\n",
    "print(prior_probs)"
   ]
  },
  {
   "cell_type": "code",
   "execution_count": 213,
   "id": "c1009a2d",
   "metadata": {},
   "outputs": [
    {
     "data": {
      "text/html": [
       "<div>\n",
       "<style scoped>\n",
       "    .dataframe tbody tr th:only-of-type {\n",
       "        vertical-align: middle;\n",
       "    }\n",
       "\n",
       "    .dataframe tbody tr th {\n",
       "        vertical-align: top;\n",
       "    }\n",
       "\n",
       "    .dataframe thead th {\n",
       "        text-align: right;\n",
       "    }\n",
       "</style>\n",
       "<table border=\"1\" class=\"dataframe\">\n",
       "  <thead>\n",
       "    <tr style=\"text-align: right;\">\n",
       "      <th></th>\n",
       "      <th>P(target=0|X)</th>\n",
       "      <th>P(target=1|X)</th>\n",
       "      <th>actual_target</th>\n",
       "      <th>predicted_target</th>\n",
       "    </tr>\n",
       "  </thead>\n",
       "  <tbody>\n",
       "    <tr>\n",
       "      <th>0</th>\n",
       "      <td>0.617137</td>\n",
       "      <td>0.382863</td>\n",
       "      <td>0</td>\n",
       "      <td>0</td>\n",
       "    </tr>\n",
       "    <tr>\n",
       "      <th>1</th>\n",
       "      <td>0.891064</td>\n",
       "      <td>0.108936</td>\n",
       "      <td>0</td>\n",
       "      <td>0</td>\n",
       "    </tr>\n",
       "    <tr>\n",
       "      <th>2</th>\n",
       "      <td>0.580793</td>\n",
       "      <td>0.419207</td>\n",
       "      <td>0</td>\n",
       "      <td>0</td>\n",
       "    </tr>\n",
       "    <tr>\n",
       "      <th>3</th>\n",
       "      <td>0.580702</td>\n",
       "      <td>0.419298</td>\n",
       "      <td>1</td>\n",
       "      <td>0</td>\n",
       "    </tr>\n",
       "    <tr>\n",
       "      <th>4</th>\n",
       "      <td>0.885448</td>\n",
       "      <td>0.114552</td>\n",
       "      <td>1</td>\n",
       "      <td>0</td>\n",
       "    </tr>\n",
       "  </tbody>\n",
       "</table>\n",
       "</div>"
      ],
      "text/plain": [
       "   P(target=0|X)  P(target=1|X)  actual_target  predicted_target\n",
       "0       0.617137       0.382863              0                 0\n",
       "1       0.891064       0.108936              0                 0\n",
       "2       0.580793       0.419207              0                 0\n",
       "3       0.580702       0.419298              1                 0\n",
       "4       0.885448       0.114552              1                 0"
      ]
     },
     "execution_count": 213,
     "metadata": {},
     "output_type": "execute_result"
    }
   ],
   "source": [
    "prob_0 = []; prob_1 = []\n",
    "pred_class = []; actual_class = test.target\n",
    "# calculate predictive probabilities for test data\n",
    "for i,x in test.iterrows():\n",
    "    x_features = x.loc['nom_0':'nom_4']\n",
    "    probs = get_pred_probs(x_features,prior_probs,class_conds)\n",
    "    prob_0.append(probs[0])\n",
    "    prob_1.append(probs[1])\n",
    "    pred_class.append(classify(probs))\n",
    "#     print('predictive probabilities: ', probs)\n",
    "#     print('predicted class:', classify(probs))\n",
    "#     print('actual class: ',x.target,'\\n')\n",
    "results = pd.DataFrame(list(zip(prob_0, prob_1,actual_class,pred_class)),\n",
    "               columns =['P(target=0|X)', 'P(target=1|X)','actual_target','predicted_target'])\n",
    "results.head()"
   ]
  },
  {
   "cell_type": "code",
   "execution_count": 214,
   "id": "2f8178c8",
   "metadata": {},
   "outputs": [
    {
     "data": {
      "text/plain": [
       "<matplotlib.image.AxesImage at 0x16fa43c4e50>"
      ]
     },
     "execution_count": 214,
     "metadata": {},
     "output_type": "execute_result"
    },
    {
     "data": {
      "image/png": "[encoded data removed]",
      "text/plain": [
       "<Figure size 864x504 with 1 Axes>"
      ]
     },
     "metadata": {
      "needs_background": "light"
     },
     "output_type": "display_data"
    }
   ],
   "source": [
    "# check confusion matrix\n",
    "# print(Counter(results.actual_target),Counter(results.predicted_target))\n",
    "confusion_mx = confusion_matrix(actual_class,pred_class)\n",
    "fig, ax = plt.subplots(nrows=1, ncols=1, figsize=[12, 7])\n",
    "class_labels = ['0','1']\n",
    "ax.set_xticks(np.arange(len(class_labels)))\n",
    "ax.set_xticklabels(class_labels, fontsize='15')\n",
    "ax.set_yticks(np.arange(len(class_labels)))\n",
    "ax.set_yticklabels(class_labels, fontsize='15')\n",
    "im = ax.imshow(confusion_mx)\n",
    "im"
   ]
  },
  {
   "cell_type": "markdown",
   "id": "788464eb",
   "metadata": {},
   "source": [
    "It looks like our classifier has a very hard time classifying class 1. It may be that the features between the classes are not that distinct since this is a synthetic dataset."
   ]
  }
 ],
 "metadata": {
  "kernelspec": {
   "display_name": "Python 3",
   "language": "python",
   "name": "python3"
  },
  "language_info": {
   "codemirror_mode": {
    "name": "ipython",
    "version": 3
   },
   "file_extension": ".py",
   "mimetype": "text/x-python",
   "name": "python",
   "nbconvert_exporter": "python",
   "pygments_lexer": "ipython3",
   "version": "3.8.8"
  }
 },
 "nbformat": 4,
 "nbformat_minor": 5
}

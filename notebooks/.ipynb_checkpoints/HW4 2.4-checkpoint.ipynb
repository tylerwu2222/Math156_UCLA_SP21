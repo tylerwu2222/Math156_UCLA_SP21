{
 "cells": [
  {
   "cell_type": "code",
   "execution_count": 1,
   "id": "5d2fa88d",
   "metadata": {},
   "outputs": [],
   "source": [
    "def compute_pred_prob():\n",
    "    prior_prob = [4/14,10/14] # no, yes\n",
    "    levels = ['age_young','age_mid','age_high',\n",
    "             'income_low','income_mid','income_high',\n",
    "              'student_no','student_yes',\n",
    "              'CR_low','CR_fair','CR_excellent'\n",
    "             ]\n",
    "    class_cond_prob_0 = {}\n",
    "    class_cond_prob_1 = {}\n",
    "    pred_prob = (0,0)\n",
    "    \n",
    "    return pred_prob"
   ]
  },
  {
   "cell_type": "code",
   "execution_count": null,
   "id": "177a216b",
   "metadata": {},
   "outputs": [],
   "source": []
  }
 ],
 "metadata": {
  "kernelspec": {
   "display_name": "Python 3",
   "language": "python",
   "name": "python3"
  },
  "language_info": {
   "codemirror_mode": {
    "name": "ipython",
    "version": 3
   },
   "file_extension": ".py",
   "mimetype": "text/x-python",
   "name": "python",
   "nbconvert_exporter": "python",
   "pygments_lexer": "ipython3",
   "version": "3.8.8"
  }
 },
 "nbformat": 4,
 "nbformat_minor": 5
}

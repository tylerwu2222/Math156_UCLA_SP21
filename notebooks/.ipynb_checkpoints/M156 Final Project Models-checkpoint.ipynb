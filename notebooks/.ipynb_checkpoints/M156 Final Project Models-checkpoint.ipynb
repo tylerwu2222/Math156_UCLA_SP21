{
 "cells": [
  {
   "cell_type": "code",
   "execution_count": 31,
   "id": "7d084f1c",
   "metadata": {},
   "outputs": [],
   "source": [
    "import pandas as pd\n",
    "import numpy as np\n",
    "\n",
    "from sklearn.linear_model import LogisticRegression\n",
    "from sklearn.feature_extraction.text import TfidfVectorizer, CountVectorizer\n",
    "from sklearn.model_selection import train_test_split\n",
    "from sklearn import metrics\n",
    "from sklearn.metrics import accuracy_score\n",
    "from sklearn.metrics import confusion_matrix\n",
    "\n",
    "from wordcloud import WordCloud, STOPWORDS\n",
    "from nltk.corpus import stopwords\n",
    "import re\n",
    "\n",
    "import matplotlib.pyplot as plt"
   ]
  },
  {
   "cell_type": "markdown",
   "id": "c3953041",
   "metadata": {},
   "source": [
    "### Load Data"
   ]
  },
  {
   "cell_type": "code",
   "execution_count": 2,
   "id": "6e8a06d7",
   "metadata": {},
   "outputs": [
    {
     "data": {
      "text/html": [
       "<div>\n",
       "<style scoped>\n",
       "    .dataframe tbody tr th:only-of-type {\n",
       "        vertical-align: middle;\n",
       "    }\n",
       "\n",
       "    .dataframe tbody tr th {\n",
       "        vertical-align: top;\n",
       "    }\n",
       "\n",
       "    .dataframe thead th {\n",
       "        text-align: right;\n",
       "    }\n",
       "</style>\n",
       "<table border=\"1\" class=\"dataframe\">\n",
       "  <thead>\n",
       "    <tr style=\"text-align: right;\">\n",
       "      <th></th>\n",
       "      <th>id</th>\n",
       "      <th>label</th>\n",
       "      <th>tweet</th>\n",
       "    </tr>\n",
       "  </thead>\n",
       "  <tbody>\n",
       "    <tr>\n",
       "      <th>0</th>\n",
       "      <td>1</td>\n",
       "      <td>0</td>\n",
       "      <td>@user when a father is dysfunctional and is s...</td>\n",
       "    </tr>\n",
       "    <tr>\n",
       "      <th>1</th>\n",
       "      <td>2</td>\n",
       "      <td>0</td>\n",
       "      <td>@user @user thanks for #lyft credit i can't us...</td>\n",
       "    </tr>\n",
       "    <tr>\n",
       "      <th>2</th>\n",
       "      <td>3</td>\n",
       "      <td>0</td>\n",
       "      <td>bihday your majesty</td>\n",
       "    </tr>\n",
       "    <tr>\n",
       "      <th>3</th>\n",
       "      <td>4</td>\n",
       "      <td>0</td>\n",
       "      <td>#model   i love u take with u all the time in ...</td>\n",
       "    </tr>\n",
       "    <tr>\n",
       "      <th>4</th>\n",
       "      <td>5</td>\n",
       "      <td>0</td>\n",
       "      <td>factsguide: society now    #motivation</td>\n",
       "    </tr>\n",
       "  </tbody>\n",
       "</table>\n",
       "</div>"
      ],
      "text/plain": [
       "   id  label                                              tweet\n",
       "0   1      0   @user when a father is dysfunctional and is s...\n",
       "1   2      0  @user @user thanks for #lyft credit i can't us...\n",
       "2   3      0                                bihday your majesty\n",
       "3   4      0  #model   i love u take with u all the time in ...\n",
       "4   5      0             factsguide: society now    #motivation"
      ]
     },
     "execution_count": 2,
     "metadata": {},
     "output_type": "execute_result"
    }
   ],
   "source": [
    "train = pd.read_csv(\"twitter_train.csv\")\n",
    "# print(train.shape) # 31962 x 3\n",
    "train.head() # label: 1 = racist/sexist; 0 = not racist/sexist"
   ]
  },
  {
   "cell_type": "code",
   "execution_count": 5,
   "id": "cee44de6",
   "metadata": {},
   "outputs": [
    {
     "data": {
      "text/plain": [
       "11966    flaxseed gel/shampoo results!  #peace #love #o...\n",
       "24368     @user great end to a great day! happy weekend...\n",
       "31695    @user given what we now know, how the church s...\n",
       "26812             happy day!  #altwaystoheal  #healthy    \n",
       "23501    18 km in the rain along the thames. perfect st...\n",
       "24759    #zaynmalik   bull up: you will dominate your b...\n",
       "Name: tweet, dtype: object"
      ]
     },
     "execution_count": 5,
     "metadata": {},
     "output_type": "execute_result"
    }
   ],
   "source": [
    "# sample tweets from both labels\n",
    "np.random.seed(22)\n",
    "idx0 = np.where(train['label'] == 0)\n",
    "idx1 = np.where(train['label'] == 1)\n",
    "train['tweet'][np.random.choice(idx0[0],6)] # non-racist/sexist"
   ]
  },
  {
   "cell_type": "code",
   "execution_count": 6,
   "id": "fd0c4221",
   "metadata": {},
   "outputs": [
    {
     "data": {
      "text/plain": [
       "7085     happy new year white people elected a  preside...\n",
       "14082    are you #black &amp; feel like the  are â¦on ...\n",
       "24026    @user after 8 yrs of endless lies, contempt fr...\n",
       "22285    thought factory: left-right polarisation! #tru...\n",
       "10852    @user #allahsoil not all muslims hate america....\n",
       "14530    trump is a cuck  @user #nazi #swastika #ebay! ...\n",
       "Name: tweet, dtype: object"
      ]
     },
     "execution_count": 6,
     "metadata": {},
     "output_type": "execute_result"
    }
   ],
   "source": [
    "train['tweet'][np.random.choice(idx1[0],6)] # racist/sexist"
   ]
  },
  {
   "cell_type": "markdown",
   "id": "d2874125",
   "metadata": {},
   "source": [
    "### Format, Sample Data"
   ]
  },
  {
   "cell_type": "code",
   "execution_count": 7,
   "id": "7c428294",
   "metadata": {},
   "outputs": [],
   "source": [
    "def list_to_onehot(y, list_classes):\n",
    "    \"\"\"\n",
    "    y = list of class lables of length n\n",
    "    output = n x k array, i th row = one-hot encoding of y[i] (e.g., [0,0,1,0,0])\n",
    "    \"\"\"\n",
    "    Y = np.zeros(shape = [len(y), len(list_classes)], dtype=int)\n",
    "    for i in np.arange(Y.shape[0]):\n",
    "        for j in np.arange(len(list_classes)):\n",
    "            if y[i] == list_classes[j]:\n",
    "                Y[i,j] = 1\n",
    "    return Y\n",
    "def onehot_to_list(y, list_classes=None):\n",
    "    \"\"\"\n",
    "    y = n x k array, i th row = one-hot encoding of y[i] (e.g., [0,0,1,0,0])\n",
    "    output =  list of class lables of length n\n",
    "    \"\"\"\n",
    "    if list_classes is None:\n",
    "        list_classes = np.arange(y.shape[1])\n",
    "        \n",
    "    y_list = []\n",
    "    for i in np.arange(y.shape[0]):\n",
    "        idx = np.where(y[i,:]==1)\n",
    "        idx = idx[0][0]\n",
    "        y_list.append(list_classes[idx])\n",
    "    return y_list"
   ]
  },
  {
   "cell_type": "code",
   "execution_count": 8,
   "id": "4dbbe1fd",
   "metadata": {},
   "outputs": [
    {
     "name": "stdout",
     "output_type": "stream",
     "text": [
      "X.shape: (31962, 14896)\n",
      "X_train.shape: (25557, 14896)\n",
      "X_test.shape: (6405, 14896)\n",
      "y_train.shape: (25557, 2)\n",
      "y_test.shape: (6405, 2)\n",
      "y_test\n",
      " [[1 0]\n",
      " [1 0]\n",
      " [1 0]\n",
      " ...\n",
      " [1 0]\n",
      " [1 0]\n",
      " [1 0]]\n",
      "y_list\n",
      " [0, 0, 0, 0, 0, 0]\n",
      "idx_to_word\n",
      " ['_animaladvocate' '_pearls' '_ë³' ... 'ð¾ñ' 'ó¾' 'ø¹ù']\n"
     ]
    }
   ],
   "source": [
    "def sample_tweets(list_classes=[0, 1], categories=[0,1], train_size=0.8, min_df = 2, vectorizer = 'tf-idf', full_data=None,):\n",
    "    \"\"\"\n",
    "    list_classes = one-hot labels for each class\n",
    "    train_size = proportion of full_data to split to train\n",
    "    min_df = minimum word frequency for vectorizer\n",
    "    vectorizer = either count or tf-idf\n",
    "    output = train and test X and Y, data_dict\n",
    "    \"\"\"\n",
    "    \n",
    "    # remove stopwords and numbers from tweets\n",
    "    stopwords_list = stopwords.words('english')\n",
    "    stopwords_list.extend([\"’\", \"“\", \"”\", \"https\", \"co\", \"user\", \"amp\", \"get\", \"go\", \"one\"]) # remove stopwords\n",
    "    train = [re.sub(r'\\d+','', tweet) for tweet in full_data.tweet] # remove numbers from tweets\n",
    "    y = full_data.label # tweet class labels \n",
    "    Y = list_to_onehot(y.tolist(), list_classes)\n",
    "\n",
    "    # set vectorizer\n",
    "    # min-df = n; requires words to appear at least n times in corpus\n",
    "    if vectorizer == 'tf-idf':\n",
    "        vectorizer = TfidfVectorizer(stop_words=stopwords_list,min_df=2)\n",
    "    else:\n",
    "        vectorizer = CountVectorizer(stop_words=stopwords_list,min_df=2) \n",
    "    X = vectorizer.fit_transform(train) # convert to words x docs (word frequency)\n",
    "    X = np.asarray(X.todense())\n",
    "    print('X.shape:', X.shape)\n",
    "    idx_to_word = np.array(vectorizer.get_feature_names())   # list of words that corresponds to feature coordinates\n",
    "\n",
    "    # update data dict\n",
    "    data_dict = {}\n",
    "    data_dict.update({'categories': categories})\n",
    "    data_dict.update({'train': train})\n",
    "    data_dict.update({'tweet_labels': y})\n",
    "    data_dict.update({'feature_matrix': X})\n",
    "    data_dict.update({'idx_to_word': idx_to_word})\n",
    "\n",
    "    # train-test split\n",
    "    X_train = []\n",
    "    X_test = []\n",
    "    y_test = []\n",
    "    y_train = []\n",
    "\n",
    "    for i in np.arange(X.shape[0]):\n",
    "        # for each example i, make it into train set with probabiliy 0.8 and into test set otherwise \n",
    "        U = np.random.rand() # Uniform([0,1]) variable\n",
    "        if U < train_size:\n",
    "            X_train.append(X[i,:])\n",
    "            y_train.append(Y[i,:].copy())\n",
    "        else:\n",
    "            X_test.append(X[i,:])\n",
    "            y_test.append(Y[i,:].copy())\n",
    "\n",
    "    X_train = np.asarray(X_train)\n",
    "    X_test = np.asarray(X_test)\n",
    "    y_train = np.asarray(y_train)\n",
    "    y_test = np.asarray(y_test)\n",
    "    \n",
    "    data_dict.update({'X_train': X_train})\n",
    "    data_dict.update({'X_test': X_test})\n",
    "    data_dict.update({'y_train': y_train})\n",
    "    data_dict.update({'y_test': y_test})\n",
    "  \n",
    "    return X_train, X_test, y_train, y_test, data_dict \n",
    "\n",
    "categories = ['non-racist/sexist','racist/sexist'] \n",
    "\n",
    "# fit with tf-idf vectorizer\n",
    "X_train, X_test, y_train, y_test, data_dict = sample_tweets(list_classes=[0, 1],\n",
    "                                                            categories = categories,\n",
    "                                                            train_size = 0.8,\n",
    "                                                            min_df = 2,\n",
    "                                                            vectorizer = 'tf-idf',\n",
    "#                                                             vectorizer='Count',\n",
    "                                                            full_data=train)\n",
    "print('X_train.shape:', X_train.shape)\n",
    "print('X_test.shape:', X_test.shape)\n",
    "print('y_train.shape:', y_train.shape)\n",
    "print('y_test.shape:', y_test.shape)\n",
    "print('y_test\\n', y_test)\n",
    "print('y_list\\n', onehot_to_list(y_test)[:6])\n",
    "print('idx_to_word\\n', data_dict['idx_to_word'])"
   ]
  },
  {
   "cell_type": "markdown",
   "id": "b1e18ac1",
   "metadata": {},
   "source": [
    "### Check most frequent words for other stopwords to remove\n",
    "- found: \"user\", \"amp\", \"get\", \"go\", \"one\""
   ]
  },
  {
   "cell_type": "code",
   "execution_count": 9,
   "id": "59b3b2de",
   "metadata": {},
   "outputs": [],
   "source": [
    "idx_to_word = data_dict['idx_to_word']\n",
    "sums = np.sum(X_train,axis=0)\n",
    "word_freq = pd.DataFrame(data={'word': idx_to_word, 'frequency (tf-idf)': sums})"
   ]
  },
  {
   "cell_type": "code",
   "execution_count": 10,
   "id": "342d30b0",
   "metadata": {},
   "outputs": [
    {
     "data": {
      "text/html": [
       "<div>\n",
       "<style scoped>\n",
       "    .dataframe tbody tr th:only-of-type {\n",
       "        vertical-align: middle;\n",
       "    }\n",
       "\n",
       "    .dataframe tbody tr th {\n",
       "        vertical-align: top;\n",
       "    }\n",
       "\n",
       "    .dataframe thead th {\n",
       "        text-align: right;\n",
       "    }\n",
       "</style>\n",
       "<table border=\"1\" class=\"dataframe\">\n",
       "  <thead>\n",
       "    <tr style=\"text-align: right;\">\n",
       "      <th></th>\n",
       "      <th>word</th>\n",
       "      <th>frequency (tf-idf)</th>\n",
       "    </tr>\n",
       "  </thead>\n",
       "  <tbody>\n",
       "    <tr>\n",
       "      <th>7817</th>\n",
       "      <td>love</td>\n",
       "      <td>463.009222</td>\n",
       "    </tr>\n",
       "    <tr>\n",
       "      <th>3232</th>\n",
       "      <td>day</td>\n",
       "      <td>411.911274</td>\n",
       "    </tr>\n",
       "    <tr>\n",
       "      <th>5841</th>\n",
       "      <td>happy</td>\n",
       "      <td>296.794766</td>\n",
       "    </tr>\n",
       "    <tr>\n",
       "      <th>13243</th>\n",
       "      <td>time</td>\n",
       "      <td>266.132583</td>\n",
       "    </tr>\n",
       "    <tr>\n",
       "      <th>13056</th>\n",
       "      <td>thankful</td>\n",
       "      <td>263.900414</td>\n",
       "    </tr>\n",
       "    <tr>\n",
       "      <th>10083</th>\n",
       "      <td>positive</td>\n",
       "      <td>238.902671</td>\n",
       "    </tr>\n",
       "    <tr>\n",
       "      <th>7578</th>\n",
       "      <td>life</td>\n",
       "      <td>215.521863</td>\n",
       "    </tr>\n",
       "    <tr>\n",
       "      <th>13289</th>\n",
       "      <td>today</td>\n",
       "      <td>213.846621</td>\n",
       "    </tr>\n",
       "    <tr>\n",
       "      <th>1290</th>\n",
       "      <td>bihday</td>\n",
       "      <td>202.587755</td>\n",
       "    </tr>\n",
       "    <tr>\n",
       "      <th>8918</th>\n",
       "      <td>new</td>\n",
       "      <td>188.792559</td>\n",
       "    </tr>\n",
       "    <tr>\n",
       "      <th>7610</th>\n",
       "      <td>like</td>\n",
       "      <td>186.155607</td>\n",
       "    </tr>\n",
       "    <tr>\n",
       "      <th>5473</th>\n",
       "      <td>good</td>\n",
       "      <td>180.693313</td>\n",
       "    </tr>\n",
       "    <tr>\n",
       "      <th>12863</th>\n",
       "      <td>take</td>\n",
       "      <td>180.132135</td>\n",
       "    </tr>\n",
       "    <tr>\n",
       "      <th>9725</th>\n",
       "      <td>people</td>\n",
       "      <td>169.947079</td>\n",
       "    </tr>\n",
       "    <tr>\n",
       "      <th>11506</th>\n",
       "      <td>see</td>\n",
       "      <td>165.234060</td>\n",
       "    </tr>\n",
       "    <tr>\n",
       "      <th>4575</th>\n",
       "      <td>father</td>\n",
       "      <td>159.344700</td>\n",
       "    </tr>\n",
       "    <tr>\n",
       "      <th>12008</th>\n",
       "      <td>smile</td>\n",
       "      <td>146.673912</td>\n",
       "    </tr>\n",
       "    <tr>\n",
       "      <th>8471</th>\n",
       "      <td>model</td>\n",
       "      <td>144.696416</td>\n",
       "    </tr>\n",
       "    <tr>\n",
       "      <th>14265</th>\n",
       "      <td>weekend</td>\n",
       "      <td>142.169328</td>\n",
       "    </tr>\n",
       "    <tr>\n",
       "      <th>5952</th>\n",
       "      <td>healthy</td>\n",
       "      <td>142.073640</td>\n",
       "    </tr>\n",
       "  </tbody>\n",
       "</table>\n",
       "</div>"
      ],
      "text/plain": [
       "           word  frequency (tf-idf)\n",
       "7817       love          463.009222\n",
       "3232        day          411.911274\n",
       "5841      happy          296.794766\n",
       "13243      time          266.132583\n",
       "13056  thankful          263.900414\n",
       "10083  positive          238.902671\n",
       "7578       life          215.521863\n",
       "13289     today          213.846621\n",
       "1290     bihday          202.587755\n",
       "8918        new          188.792559\n",
       "7610       like          186.155607\n",
       "5473       good          180.693313\n",
       "12863      take          180.132135\n",
       "9725     people          169.947079\n",
       "11506       see          165.234060\n",
       "4575     father          159.344700\n",
       "12008     smile          146.673912\n",
       "8471      model          144.696416\n",
       "14265   weekend          142.169328\n",
       "5952    healthy          142.073640"
      ]
     },
     "execution_count": 10,
     "metadata": {},
     "output_type": "execute_result"
    }
   ],
   "source": [
    "word_freq.sort_values(by=['frequency (tf-idf)'],ascending=False)[:20]"
   ]
  },
  {
   "cell_type": "code",
   "execution_count": null,
   "id": "837918be",
   "metadata": {},
   "outputs": [],
   "source": [
    "# word cloud for different labels\n",
    "def plot_wordcloud(Y, H, idx_to_word, categories):\n",
    "        # plot the class-conditioanl PMF as wordclouds \n",
    "        # Y = (n x k), H = (p x n) (\\Phi in lecture note), W = (p x k)\n",
    "        # idx_to_word = list of words used in the vectorization of documents \n",
    "        # categories = list of class labels\n",
    "        # prior on class labels = empirical PMF = [ # class i examples / total ]\n",
    "        # class-conditional for class i = [ # word j in class i examples / # words in class i examples]\n",
    "        \n",
    "        class_conditional_PMF = []\n",
    "        for i in np.arange(Y.shape[1]):\n",
    "            idx = np.where(Y[:,i]==1)\n",
    "            sub_H = H[:,idx[0]]\n",
    "            word_count_per_class = np.sum(sub_H, axis=1)\n",
    "            class_conditional_PMF.append(word_count_per_class/np.sum(word_count_per_class))\n",
    "    \n",
    "        ### topic mode\n",
    "        num_words_to_sample = 10000\n",
    "        \n",
    "        fig, axs = plt.subplots(nrows=1, ncols=2, figsize=(14, 7), subplot_kw={'xticks': [], 'yticks': []})\n",
    "        for ax, i in zip(axs.flat, np.arange(Y.shape[0])):\n",
    "            dist = class_conditional_PMF[i]\n",
    "\n",
    "            # sample (num_words_to_sample) proportionate to CC_PMF\n",
    "            list_words = []\n",
    "        \n",
    "            for j in range(num_words_to_sample):\n",
    "                idx = np.random.choice(np.arange(H.shape[0]), p=dist)\n",
    "                list_words.append(idx_to_word[idx])\n",
    "                \n",
    "            Y = \" \".join(list_words) # list to string\n",
    "#             print(Y)\n",
    "            STOPWORDS.update([\"’\", \"“\", \"”\", \"https\", \"co\", \"user\", \"amp\", \"get\", \"go\", \"one\"])\n",
    "            wordcloud = WordCloud(background_color=\"black\",\n",
    "                                  relative_scaling=0.1,\n",
    "                                  width=400,\n",
    "                                  height=400).generate(Y)\n",
    "            ax.imshow(wordcloud, interpolation='bilinear')\n",
    "            ax.set_xlabel(categories[i], fontsize='20')\n",
    "            # ax.axis(\"off\")\n",
    "\n",
    "        plt.tight_layout()\n",
    "        plt.subplots_adjust(0.08, 0.02, 0.92, 0.85, 0.08, 0.08)\n",
    "        plt.savefig('wordcloud_tf-idf_twitter.pdf', bbox_inches='tight')\n",
    "\n",
    "plot_wordcloud(Y=np.asarray(y_train), H=X_train.T, idx_to_word=idx_to_word, categories=categories)"
   ]
  },
  {
   "cell_type": "markdown",
   "id": "006f2f9c",
   "metadata": {},
   "source": [
    "## Naive Bayes Classifier"
   ]
  },
  {
   "cell_type": "code",
   "execution_count": 11,
   "id": "c7dc794d",
   "metadata": {},
   "outputs": [
    {
     "name": "stdout",
     "output_type": "stream",
     "text": [
      "[0.92976484 0.07023516]\n",
      "[[1.65293073e-05 1.49876748e-05 1.11397453e-05 ... 8.18972305e-06\n",
      "  8.20334232e-04 1.14201273e-05]\n",
      " [3.74611132e-06 3.74611132e-06 3.74611132e-06 ... 3.74611132e-06\n",
      "  3.74611132e-06 1.05507741e-04]]\n"
     ]
    }
   ],
   "source": [
    "def fit_NB(Y, H,pseudocount = 10**-5):\n",
    "    '''\n",
    "    Fit Multinomial Naive Bayes Calssifier\n",
    "    Use the Maximum Likelihood prior and class conditional probabilities (in closed forms)\n",
    "    Y = (n x k), H = (p x n) (\\Phi in lecture note), W = (p x k)\n",
    "    prior on class labels = empirical PMF = [ # class i examples / total ]\n",
    "    class-conditional for class i = [ # word j in class i examples / # words in class i examples]\n",
    "    Output = prior (k, ), class_conditional_PMF = (k, p)\n",
    "    '''\n",
    "    k = Y.shape[1] # number of classes (2)\n",
    "\n",
    "    prior = np.sum(Y, axis=0)/np.sum(np.sum(Y, axis=0))\n",
    "#     print(prior)\n",
    "\n",
    "    class_conditional_PMF = []\n",
    "    for i in np.arange(Y.shape[1]):\n",
    "        idx = np.where(Y[:,i]==1) # select indices with class 0 or 1\n",
    "        # sub_H: documents with matching class\n",
    "        sub_H = H[:,idx[0]] + pseudocount # add psuedocount\n",
    "        word_count_per_class = np.sum(sub_H, axis=1)\n",
    "        class_conditional_PMF.append(word_count_per_class/np.sum(word_count_per_class))\n",
    "\n",
    "    return prior, np.asarray(class_conditional_PMF)\n",
    "\n",
    "# find prior and class_conditional of train data \n",
    "prior, class_conditional_PMF = fit_NB(Y=y_train, H=X_train.T)\n",
    "print(prior)\n",
    "print(class_conditional_PMF)"
   ]
  },
  {
   "cell_type": "code",
   "execution_count": 12,
   "id": "4acacd6a",
   "metadata": {},
   "outputs": [
    {
     "data": {
      "image/png": "[encoded data removed]",
      "text/plain": [
       "<Figure size 1080x360 with 1 Axes>"
      ]
     },
     "metadata": {
      "needs_background": "light"
     },
     "output_type": "display_data"
    }
   ],
   "source": [
    "fig, ax = plt.subplots(nrows=1, ncols=1, figsize=[15, 5])\n",
    "for i in [0,1]:\n",
    "    ax.plot(np.arange(X_train.shape[1]), class_conditional_PMF[i], label=categories[i])\n",
    "ax.legend(fontsize='15')\n",
    "plt.suptitle(\"Class conditional PMFs (tf-idf)\", fontsize='15')\n",
    "plt.savefig('PMF_dist_tf-idf_twitter.pdf', bbox_inches='tight')"
   ]
  },
  {
   "cell_type": "code",
   "execution_count": 13,
   "id": "508c4020",
   "metadata": {},
   "outputs": [
    {
     "name": "stdout",
     "output_type": "stream",
     "text": [
      "(6405, 14896)\n",
      "(2, 14896)\n",
      "[[9.98711635e-01 1.28836530e-03]\n",
      " [9.98508833e-01 1.49116683e-03]\n",
      " [9.99997654e-01 2.34624389e-06]\n",
      " [9.99507980e-01 4.92020083e-04]\n",
      " [9.96431050e-01 3.56895022e-03]\n",
      " [9.87865528e-01 1.21344723e-02]]\n"
     ]
    },
    {
     "data": {
      "text/plain": [
       "[<matplotlib.lines.Line2D at 0x17b346a1d60>]"
      ]
     },
     "execution_count": 13,
     "metadata": {},
     "output_type": "execute_result"
    },
    {
     "data": {
      "image/png": "[encoded data removed]",
      "text/plain": [
       "<Figure size 432x288 with 1 Axes>"
      ]
     },
     "metadata": {
      "needs_background": "light"
     },
     "output_type": "display_data"
    }
   ],
   "source": [
    "def predict_MNB(X_test, prior, class_conditional_PMF):\n",
    "    '''\n",
    "    Compute predicted PMF for the test data given prior and class_conditional_PMF\n",
    "    Simple use of Bayes' Theorem \n",
    "    X_test = (p x n) (words x docs)\n",
    "    '''\n",
    "    print(X_test.shape)\n",
    "    print(class_conditional_PMF.shape)\n",
    "    \n",
    "    P = class_conditional_PMF / np.min(class_conditional_PMF) # normalize so that log(P) is not too small \n",
    "    Q = np.exp(X_test @ np.log(P).T)\n",
    "    Q = Q * np.repeat(prior[:, np.newaxis], repeats=Q.shape[0], axis=1).T\n",
    "    sum_of_rows = Q.sum(axis=1)\n",
    "    \n",
    "    return Q / sum_of_rows[:, np.newaxis]\n",
    "\n",
    "# find predictive PMF for X_test\n",
    "predictive_PMF = predict_MNB(X_test, prior, class_conditional_PMF)\n",
    "print(predictive_PMF[:6])\n",
    "plt.title(\"Tweet 5\")\n",
    "plt.plot(predictive_PMF[4])"
   ]
  },
  {
   "cell_type": "code",
   "execution_count": 14,
   "id": "d829e546",
   "metadata": {},
   "outputs": [],
   "source": [
    "def compute_accuracy_metrics(Y_test, P_pred, use_opt_threshold=False, verbose=True):\n",
    "    \n",
    "    # y_test = binary label \n",
    "    # P_pred = predicted probability for y_test\n",
    "    # compuate various binary classification accuracy metrics\n",
    "    fpr, tpr, thresholds = metrics.roc_curve(Y_test, P_pred, pos_label=None)\n",
    "    mythre = thresholds[np.argmax(tpr - fpr)]\n",
    "    myauc = metrics.auc(fpr, tpr)\n",
    "    # print('!!! auc', myauc)\n",
    "    \n",
    "    # Compute classification statistics\n",
    "    threshold = 0.5\n",
    "    if use_opt_threshold:\n",
    "        threshold = mythre\n",
    "    \n",
    "    Y_pred = P_pred.copy()\n",
    "    Y_pred[Y_pred < threshold] = 0\n",
    "    Y_pred[Y_pred >= threshold] = 1\n",
    "\n",
    "    mcm = confusion_matrix(Y_test, Y_pred)\n",
    "    \n",
    "    tn = mcm[0, 0]\n",
    "    tp = mcm[1, 1]\n",
    "    fn = mcm[1, 0]\n",
    "    fp = mcm[0, 1]\n",
    "\n",
    "    accuracy = (tp + tn) / (tp + tn + fp + fn)\n",
    "    sensitivity = tn / (tn + fp)\n",
    "    specificity = tp / (tp + fn)\n",
    "    precision = tp / (tp + fp)\n",
    "    fall_out = fp / (fp + tn)\n",
    "    miss_rate = fn / (fn + tp)\n",
    "\n",
    "    # Save results\n",
    "    results_dict = {}\n",
    "    results_dict.update({'Y_test': Y_test})\n",
    "    results_dict.update({'Y_pred': Y_pred})\n",
    "    results_dict.update({'AUC': myauc})\n",
    "    results_dict.update({'Opt_threshold': mythre})\n",
    "    results_dict.update({'Accuracy': accuracy})\n",
    "    results_dict.update({'Sensitivity': sensitivity})\n",
    "    results_dict.update({'Specificity': specificity})\n",
    "    results_dict.update({'Precision': precision})\n",
    "    results_dict.update({'Fall_out': fall_out})\n",
    "    results_dict.update({'Miss_rate': miss_rate})\n",
    "    results_dict.update({'Confusion_mx': mcm})\n",
    "    \n",
    "    \n",
    "    if verbose:\n",
    "        for key in [key for key in results_dict.keys()]:\n",
    "            if key not in ['Y_test', 'Y_pred', 'Confusion_mx']:\n",
    "                print('% s ===> %.3f' % (key, results_dict.get(key)))\n",
    "#         print('Confusion matrix \\n ===>', mcm)\n",
    "            \n",
    "    return results_dict"
   ]
  },
  {
   "cell_type": "markdown",
   "id": "fe0df955",
   "metadata": {},
   "source": [
    "### Compute Accuracy"
   ]
  },
  {
   "cell_type": "code",
   "execution_count": 15,
   "id": "d2737c36",
   "metadata": {},
   "outputs": [
    {
     "name": "stdout",
     "output_type": "stream",
     "text": [
      "AUC ===> 0.962\n",
      "Opt_threshold ===> 0.042\n",
      "Accuracy ===> 0.964\n",
      "Sensitivity ===> 0.996\n",
      "Specificity ===> 0.541\n",
      "Precision ===> 0.913\n",
      "Fall_out ===> 0.004\n",
      "Miss_rate ===> 0.459\n",
      "Confusion Matrix ===>\n",
      " [[0.96661238 0.08679245]\n",
      " [0.03338762 0.91320755]]\n"
     ]
    }
   ],
   "source": [
    "result_dict_list = []\n",
    "W_list = []\n",
    "list_vectorizer = ['tf-idf']\n",
    "for i in np.arange(len(list_vectorizer)):\n",
    "    # compute metrics\n",
    "    results_dict = compute_accuracy_metrics(Y_test=onehot_to_list(y_test), P_pred=predictive_PMF[:,1], verbose=True)\n",
    "    result_dict_list.append(results_dict.copy())\n",
    "    W_list.append(results_dict.get('Confusion_mx').copy())\n",
    "\n",
    "    # scale W_list by count to format as proportion for confusion matrix\n",
    "    true_counts = np.sum(W_list[0],axis=0)\n",
    "    W_list2 = []\n",
    "    conf_mat_prop = W_list[0] / true_counts\n",
    "    print('Confusion Matrix ===>\\n', conf_mat_prop)\n",
    "    W_list2.append(conf_mat_prop)"
   ]
  },
  {
   "cell_type": "code",
   "execution_count": 16,
   "id": "c693d5ec",
   "metadata": {},
   "outputs": [
    {
     "data": {
      "image/png": "[encoded data removed]",
      "text/plain": [
       "<Figure size 864x504 with 2 Axes>"
      ]
     },
     "metadata": {
      "needs_background": "light"
     },
     "output_type": "display_data"
    }
   ],
   "source": [
    "# make plot\n",
    "fig, ax = plt.subplots(nrows=1, ncols=len(list_vectorizer), figsize=[12, 7])\n",
    "class_labels= categories\n",
    "for i in np.arange(len(list_vectorizer)):\n",
    "    results_dict = result_dict_list[i]\n",
    "    confusion_mx = results_dict.get('Confusion_mx')\n",
    "    if len(list_vectorizer) > 1:\n",
    "        confusion_mx = W_list2[i]\n",
    "        im = ax[i].imshow(confusion_mx, vmin=np.min(W_list2), vmax=np.max(W_list2))\n",
    "        ax[i].title.set_text(\"NB Confusion mx using %s vectorizer\" % list_vectorizer[i])\n",
    "        # ax[i].legend()\n",
    "        # if i == len(list_digits) - 1:\n",
    "        ax[i].set_xticks(np.arange(len(class_labels)))\n",
    "        # ax[i].set_xticklabels(class_labels)\n",
    "        ax[i].set_yticks(np.arange(len(class_labels)))\n",
    "        ax[i].set_yticklabels(class_labels)\n",
    "    else:\n",
    "        confusion_mx = W_list2[i]\n",
    "        im = ax.imshow(confusion_mx, vmin=np.min(W_list2), vmax=np.max(W_list2))\n",
    "        ax.title.set_text(\"NB Confusion mx using %s vectorizer\" % list_vectorizer[i])\n",
    "        # ax[i].legend()\n",
    "        # if i == len(list_digits) - 1:\n",
    "        ax.set_xticks(np.arange(len(class_labels)))\n",
    "        ax.set_yticks(np.arange(len(class_labels)))\n",
    "        ax.set_yticklabels(class_labels, fontsize='15')\n",
    "    \n",
    "    subtitle = \"vectorizer: \" + str(list_vectorizer[i]) + \"\\n\" + \"classifier: \" + str('Naive Bayes')\n",
    "    keys_list = [i for i in results_dict.keys()]\n",
    "    for key in keys_list:\n",
    "        if key not in ['Y_test', 'Y_pred', 'AUC', 'Opt_threshold', 'Confusion_mx']:\n",
    "            subtitle += \"\\n\" + str(key) + \" = \" + str(np.round(results_dict.get(key),3))\n",
    "            # print('%s = %f' % (key, results_list[i].get(key)))\n",
    "    ax.set_title(subtitle, fontsize='15')\n",
    "    \n",
    "cbar_ax = fig.add_axes([0.8, 0.15, 0.01, 0.7])\n",
    "fig.colorbar(im, cax=cbar_ax)\n",
    "plt.savefig('confusion_mat_tf-idf_twitter.pdf', bbox_inches='tight')"
   ]
  },
  {
   "cell_type": "markdown",
   "id": "b53b3e54",
   "metadata": {},
   "source": [
    "## Logistic Regression"
   ]
  },
  {
   "cell_type": "code",
   "execution_count": 17,
   "id": "992bbd67",
   "metadata": {},
   "outputs": [
    {
     "data": {
      "text/plain": [
       "LogisticRegression()"
      ]
     },
     "execution_count": 17,
     "metadata": {},
     "output_type": "execute_result"
    }
   ],
   "source": [
    "LR = LogisticRegression()\n",
    "LR.fit(X_train, np.argmax(y_train,axis=1))"
   ]
  },
  {
   "cell_type": "markdown",
   "id": "3b14dbf8",
   "metadata": {},
   "source": [
    "### Predict and Compute Accuracy"
   ]
  },
  {
   "cell_type": "code",
   "execution_count": 18,
   "id": "1c4f2329",
   "metadata": {},
   "outputs": [],
   "source": [
    "LRpreds = LR.predict(X_test)"
   ]
  },
  {
   "cell_type": "code",
   "execution_count": 19,
   "id": "facdfbba",
   "metadata": {},
   "outputs": [
    {
     "name": "stdout",
     "output_type": "stream",
     "text": [
      "AUC ===> 0.645\n",
      "Opt_threshold ===> 1.000\n",
      "Accuracy ===> 0.949\n",
      "Sensitivity ===> 0.999\n",
      "Specificity ===> 0.291\n",
      "Precision ===> 0.942\n",
      "Fall_out ===> 0.001\n",
      "Miss_rate ===> 0.709\n"
     ]
    },
    {
     "data": {
      "text/plain": [
       "{'Y_test': array([0, 0, 0, ..., 0, 0, 0], dtype=int64),\n",
       " 'Y_pred': array([0, 0, 0, ..., 0, 0, 0], dtype=int64),\n",
       " 'AUC': 0.6447425040158064,\n",
       " 'Opt_threshold': 1,\n",
       " 'Accuracy': 0.9492583918813428,\n",
       " 'Sensitivity': 0.9986572675394427,\n",
       " 'Specificity': 0.29082774049217003,\n",
       " 'Precision': 0.9420289855072463,\n",
       " 'Fall_out': 0.001342732460557234,\n",
       " 'Miss_rate': 0.70917225950783,\n",
       " 'Confusion_mx': array([[5950,    8],\n",
       "        [ 317,  130]], dtype=int64)}"
      ]
     },
     "execution_count": 19,
     "metadata": {},
     "output_type": "execute_result"
    }
   ],
   "source": [
    "compute_accuracy_metrics(Y_test=np.argmax(y_test,axis=1), P_pred = LRpreds)"
   ]
  },
  {
   "cell_type": "code",
   "execution_count": 29,
   "id": "73f63382",
   "metadata": {},
   "outputs": [],
   "source": [
    "def fit_LR(stopwords_list, vectorizer=CountVectorizer, min_df = 0, train_size=0.8, penalty = 'l2', solver = 'lbfgs'):\n",
    "    vec=vectorizer(stop_words=stopwords_list, min_df =min_df)\n",
    "    vectors = vec.fit_transform(train[\"tweet\"])\n",
    "    idx_to_word = np.array(vec.get_feature_names())\n",
    "    X = np.asarray(vectors.todense(), dtype = np.float32)  \n",
    "    y = train['label']\n",
    "    X_train, X_test, y_train,y_test = train_test_split(X, y,train_size = train_size, random_state = 1)\n",
    "    LR = LogisticRegression(penalty = penalty, solver = solver)\n",
    "    LR.fit(X_train,y_train)\n",
    "    LRpreds = LR.predict(X_test)\n",
    "    accuracy = compute_accuracy_metrics(Y_test=y_test, P_pred = LRpreds)\n",
    "    coefs = np.ravel(LR.coef_)\n",
    "    top_ten_thresh = np.sort(coefs, )[-11]\n",
    "    bottom_ten_thresh = np.sort(coefs, )[10]\n",
    "    top_df = pd.DataFrame({'words': idx_to_word[coefs > top_ten_thresh], 'coefs': coefs[coefs > top_ten_thresh]})\n",
    "    top_df = top_df.sort_values(by=['coefs'], ascending = False, ignore_index=True)\n",
    "    bottom_df = pd.DataFrame({'words': idx_to_word[coefs < bottom_ten_thresh], 'coefs': coefs[coefs < bottom_ten_thresh]})\n",
    "    bottom_df = bottom_df.sort_values(by=['coefs'], ascending = True, ignore_index=True)\n",
    "    return {'Accuracy': accuracy.get('Accuracy'), 'top': top_df, 'bottom': bottom_df, 'n_cols': X_train.shape[1]}\n"
   ]
  },
  {
   "cell_type": "code",
   "execution_count": 32,
   "id": "867252bd",
   "metadata": {},
   "outputs": [
    {
     "ename": "MemoryError",
     "evalue": "Unable to allocate 4.91 GiB for an array with shape (15981, 41246) and data type float64",
     "output_type": "error",
     "traceback": [
      "\u001b[1;31m---------------------------------------------------------------------------\u001b[0m",
      "\u001b[1;31mMemoryError\u001b[0m                               Traceback (most recent call last)",
      "\u001b[1;32m<ipython-input-32-7b9da1191d6c>\u001b[0m in \u001b[0;36m<module>\u001b[1;34m\u001b[0m\n\u001b[0;32m      4\u001b[0m \u001b[0maccuracies\u001b[0m \u001b[1;33m=\u001b[0m \u001b[1;33m[\u001b[0m\u001b[1;33m]\u001b[0m\u001b[1;33m\u001b[0m\u001b[1;33m\u001b[0m\u001b[0m\n\u001b[0;32m      5\u001b[0m \u001b[1;32mfor\u001b[0m \u001b[0mi\u001b[0m \u001b[1;32min\u001b[0m \u001b[0mrange\u001b[0m\u001b[1;33m(\u001b[0m\u001b[1;36m1\u001b[0m\u001b[1;33m,\u001b[0m\u001b[1;36m11\u001b[0m\u001b[1;33m)\u001b[0m\u001b[1;33m:\u001b[0m\u001b[1;33m\u001b[0m\u001b[1;33m\u001b[0m\u001b[0m\n\u001b[1;32m----> 6\u001b[1;33m     \u001b[0maccuracies\u001b[0m\u001b[1;33m.\u001b[0m\u001b[0mappend\u001b[0m\u001b[1;33m(\u001b[0m\u001b[0mfit_LR\u001b[0m\u001b[1;33m(\u001b[0m\u001b[0mmin_df\u001b[0m \u001b[1;33m=\u001b[0m \u001b[0mi\u001b[0m\u001b[1;33m,\u001b[0m \u001b[0mtrain_size\u001b[0m \u001b[1;33m=\u001b[0m \u001b[1;36m0.5\u001b[0m\u001b[1;33m,\u001b[0m\u001b[0mstopwords_list\u001b[0m \u001b[1;33m=\u001b[0m \u001b[0mstopwords_list\u001b[0m\u001b[1;33m)\u001b[0m\u001b[1;33m.\u001b[0m\u001b[0mget\u001b[0m\u001b[1;33m(\u001b[0m\u001b[1;34m'Accuracy'\u001b[0m\u001b[1;33m)\u001b[0m\u001b[1;33m)\u001b[0m\u001b[1;33m\u001b[0m\u001b[1;33m\u001b[0m\u001b[0m\n\u001b[0m\u001b[0;32m      7\u001b[0m     \u001b[0msizes\u001b[0m\u001b[1;33m.\u001b[0m\u001b[0mappend\u001b[0m\u001b[1;33m(\u001b[0m\u001b[0mi\u001b[0m\u001b[1;33m)\u001b[0m\u001b[1;33m\u001b[0m\u001b[1;33m\u001b[0m\u001b[0m\n",
      "\u001b[1;32m<ipython-input-29-ea428a2fcbb7>\u001b[0m in \u001b[0;36mfit_LR\u001b[1;34m(stopwords_list, vectorizer, min_df, train_size, penalty, solver)\u001b[0m\n\u001b[0;32m      7\u001b[0m     \u001b[0mX_train\u001b[0m\u001b[1;33m,\u001b[0m \u001b[0mX_test\u001b[0m\u001b[1;33m,\u001b[0m \u001b[0my_train\u001b[0m\u001b[1;33m,\u001b[0m\u001b[0my_test\u001b[0m \u001b[1;33m=\u001b[0m \u001b[0mtrain_test_split\u001b[0m\u001b[1;33m(\u001b[0m\u001b[0mX\u001b[0m\u001b[1;33m,\u001b[0m \u001b[0my\u001b[0m\u001b[1;33m,\u001b[0m\u001b[0mtrain_size\u001b[0m \u001b[1;33m=\u001b[0m \u001b[0mtrain_size\u001b[0m\u001b[1;33m,\u001b[0m \u001b[0mrandom_state\u001b[0m \u001b[1;33m=\u001b[0m \u001b[1;36m1\u001b[0m\u001b[1;33m)\u001b[0m\u001b[1;33m\u001b[0m\u001b[1;33m\u001b[0m\u001b[0m\n\u001b[0;32m      8\u001b[0m     \u001b[0mLR\u001b[0m \u001b[1;33m=\u001b[0m \u001b[0mLogisticRegression\u001b[0m\u001b[1;33m(\u001b[0m\u001b[0mpenalty\u001b[0m \u001b[1;33m=\u001b[0m \u001b[0mpenalty\u001b[0m\u001b[1;33m,\u001b[0m \u001b[0msolver\u001b[0m \u001b[1;33m=\u001b[0m \u001b[0msolver\u001b[0m\u001b[1;33m)\u001b[0m\u001b[1;33m\u001b[0m\u001b[1;33m\u001b[0m\u001b[0m\n\u001b[1;32m----> 9\u001b[1;33m     \u001b[0mLR\u001b[0m\u001b[1;33m.\u001b[0m\u001b[0mfit\u001b[0m\u001b[1;33m(\u001b[0m\u001b[0mX_train\u001b[0m\u001b[1;33m,\u001b[0m\u001b[0my_train\u001b[0m\u001b[1;33m)\u001b[0m\u001b[1;33m\u001b[0m\u001b[1;33m\u001b[0m\u001b[0m\n\u001b[0m\u001b[0;32m     10\u001b[0m     \u001b[0mLRpreds\u001b[0m \u001b[1;33m=\u001b[0m \u001b[0mLR\u001b[0m\u001b[1;33m.\u001b[0m\u001b[0mpredict\u001b[0m\u001b[1;33m(\u001b[0m\u001b[0mX_test\u001b[0m\u001b[1;33m)\u001b[0m\u001b[1;33m\u001b[0m\u001b[1;33m\u001b[0m\u001b[0m\n\u001b[0;32m     11\u001b[0m     \u001b[0maccuracy\u001b[0m \u001b[1;33m=\u001b[0m \u001b[0mcompute_accuracy_metrics\u001b[0m\u001b[1;33m(\u001b[0m\u001b[0mY_test\u001b[0m\u001b[1;33m=\u001b[0m\u001b[0my_test\u001b[0m\u001b[1;33m,\u001b[0m \u001b[0mP_pred\u001b[0m \u001b[1;33m=\u001b[0m \u001b[0mLRpreds\u001b[0m\u001b[1;33m)\u001b[0m\u001b[1;33m\u001b[0m\u001b[1;33m\u001b[0m\u001b[0m\n",
      "\u001b[1;32m~\\anaconda3\\lib\\site-packages\\sklearn\\linear_model\\_logistic.py\u001b[0m in \u001b[0;36mfit\u001b[1;34m(self, X, y, sample_weight)\u001b[0m\n\u001b[0;32m   1342\u001b[0m             \u001b[0m_dtype\u001b[0m \u001b[1;33m=\u001b[0m \u001b[1;33m[\u001b[0m\u001b[0mnp\u001b[0m\u001b[1;33m.\u001b[0m\u001b[0mfloat64\u001b[0m\u001b[1;33m,\u001b[0m \u001b[0mnp\u001b[0m\u001b[1;33m.\u001b[0m\u001b[0mfloat32\u001b[0m\u001b[1;33m]\u001b[0m\u001b[1;33m\u001b[0m\u001b[1;33m\u001b[0m\u001b[0m\n\u001b[0;32m   1343\u001b[0m \u001b[1;33m\u001b[0m\u001b[0m\n\u001b[1;32m-> 1344\u001b[1;33m         X, y = self._validate_data(X, y, accept_sparse='csr', dtype=_dtype,\n\u001b[0m\u001b[0;32m   1345\u001b[0m                                    \u001b[0morder\u001b[0m\u001b[1;33m=\u001b[0m\u001b[1;34m\"C\"\u001b[0m\u001b[1;33m,\u001b[0m\u001b[1;33m\u001b[0m\u001b[1;33m\u001b[0m\u001b[0m\n\u001b[0;32m   1346\u001b[0m                                    accept_large_sparse=solver != 'liblinear')\n",
      "\u001b[1;32m~\\anaconda3\\lib\\site-packages\\sklearn\\base.py\u001b[0m in \u001b[0;36m_validate_data\u001b[1;34m(self, X, y, reset, validate_separately, **check_params)\u001b[0m\n\u001b[0;32m    431\u001b[0m                 \u001b[0my\u001b[0m \u001b[1;33m=\u001b[0m \u001b[0mcheck_array\u001b[0m\u001b[1;33m(\u001b[0m\u001b[0my\u001b[0m\u001b[1;33m,\u001b[0m \u001b[1;33m**\u001b[0m\u001b[0mcheck_y_params\u001b[0m\u001b[1;33m)\u001b[0m\u001b[1;33m\u001b[0m\u001b[1;33m\u001b[0m\u001b[0m\n\u001b[0;32m    432\u001b[0m             \u001b[1;32melse\u001b[0m\u001b[1;33m:\u001b[0m\u001b[1;33m\u001b[0m\u001b[1;33m\u001b[0m\u001b[0m\n\u001b[1;32m--> 433\u001b[1;33m                 \u001b[0mX\u001b[0m\u001b[1;33m,\u001b[0m \u001b[0my\u001b[0m \u001b[1;33m=\u001b[0m \u001b[0mcheck_X_y\u001b[0m\u001b[1;33m(\u001b[0m\u001b[0mX\u001b[0m\u001b[1;33m,\u001b[0m \u001b[0my\u001b[0m\u001b[1;33m,\u001b[0m \u001b[1;33m**\u001b[0m\u001b[0mcheck_params\u001b[0m\u001b[1;33m)\u001b[0m\u001b[1;33m\u001b[0m\u001b[1;33m\u001b[0m\u001b[0m\n\u001b[0m\u001b[0;32m    434\u001b[0m             \u001b[0mout\u001b[0m \u001b[1;33m=\u001b[0m \u001b[0mX\u001b[0m\u001b[1;33m,\u001b[0m \u001b[0my\u001b[0m\u001b[1;33m\u001b[0m\u001b[1;33m\u001b[0m\u001b[0m\n\u001b[0;32m    435\u001b[0m \u001b[1;33m\u001b[0m\u001b[0m\n",
      "\u001b[1;32m~\\anaconda3\\lib\\site-packages\\sklearn\\utils\\validation.py\u001b[0m in \u001b[0;36minner_f\u001b[1;34m(*args, **kwargs)\u001b[0m\n\u001b[0;32m     61\u001b[0m             \u001b[0mextra_args\u001b[0m \u001b[1;33m=\u001b[0m \u001b[0mlen\u001b[0m\u001b[1;33m(\u001b[0m\u001b[0margs\u001b[0m\u001b[1;33m)\u001b[0m \u001b[1;33m-\u001b[0m \u001b[0mlen\u001b[0m\u001b[1;33m(\u001b[0m\u001b[0mall_args\u001b[0m\u001b[1;33m)\u001b[0m\u001b[1;33m\u001b[0m\u001b[1;33m\u001b[0m\u001b[0m\n\u001b[0;32m     62\u001b[0m             \u001b[1;32mif\u001b[0m \u001b[0mextra_args\u001b[0m \u001b[1;33m<=\u001b[0m \u001b[1;36m0\u001b[0m\u001b[1;33m:\u001b[0m\u001b[1;33m\u001b[0m\u001b[1;33m\u001b[0m\u001b[0m\n\u001b[1;32m---> 63\u001b[1;33m                 \u001b[1;32mreturn\u001b[0m \u001b[0mf\u001b[0m\u001b[1;33m(\u001b[0m\u001b[1;33m*\u001b[0m\u001b[0margs\u001b[0m\u001b[1;33m,\u001b[0m \u001b[1;33m**\u001b[0m\u001b[0mkwargs\u001b[0m\u001b[1;33m)\u001b[0m\u001b[1;33m\u001b[0m\u001b[1;33m\u001b[0m\u001b[0m\n\u001b[0m\u001b[0;32m     64\u001b[0m \u001b[1;33m\u001b[0m\u001b[0m\n\u001b[0;32m     65\u001b[0m             \u001b[1;31m# extra_args > 0\u001b[0m\u001b[1;33m\u001b[0m\u001b[1;33m\u001b[0m\u001b[1;33m\u001b[0m\u001b[0m\n",
      "\u001b[1;32m~\\anaconda3\\lib\\site-packages\\sklearn\\utils\\validation.py\u001b[0m in \u001b[0;36mcheck_X_y\u001b[1;34m(X, y, accept_sparse, accept_large_sparse, dtype, order, copy, force_all_finite, ensure_2d, allow_nd, multi_output, ensure_min_samples, ensure_min_features, y_numeric, estimator)\u001b[0m\n\u001b[0;32m    812\u001b[0m         \u001b[1;32mraise\u001b[0m \u001b[0mValueError\u001b[0m\u001b[1;33m(\u001b[0m\u001b[1;34m\"y cannot be None\"\u001b[0m\u001b[1;33m)\u001b[0m\u001b[1;33m\u001b[0m\u001b[1;33m\u001b[0m\u001b[0m\n\u001b[0;32m    813\u001b[0m \u001b[1;33m\u001b[0m\u001b[0m\n\u001b[1;32m--> 814\u001b[1;33m     X = check_array(X, accept_sparse=accept_sparse,\n\u001b[0m\u001b[0;32m    815\u001b[0m                     \u001b[0maccept_large_sparse\u001b[0m\u001b[1;33m=\u001b[0m\u001b[0maccept_large_sparse\u001b[0m\u001b[1;33m,\u001b[0m\u001b[1;33m\u001b[0m\u001b[1;33m\u001b[0m\u001b[0m\n\u001b[0;32m    816\u001b[0m                     \u001b[0mdtype\u001b[0m\u001b[1;33m=\u001b[0m\u001b[0mdtype\u001b[0m\u001b[1;33m,\u001b[0m \u001b[0morder\u001b[0m\u001b[1;33m=\u001b[0m\u001b[0morder\u001b[0m\u001b[1;33m,\u001b[0m \u001b[0mcopy\u001b[0m\u001b[1;33m=\u001b[0m\u001b[0mcopy\u001b[0m\u001b[1;33m,\u001b[0m\u001b[1;33m\u001b[0m\u001b[1;33m\u001b[0m\u001b[0m\n",
      "\u001b[1;32m~\\anaconda3\\lib\\site-packages\\sklearn\\utils\\validation.py\u001b[0m in \u001b[0;36minner_f\u001b[1;34m(*args, **kwargs)\u001b[0m\n\u001b[0;32m     61\u001b[0m             \u001b[0mextra_args\u001b[0m \u001b[1;33m=\u001b[0m \u001b[0mlen\u001b[0m\u001b[1;33m(\u001b[0m\u001b[0margs\u001b[0m\u001b[1;33m)\u001b[0m \u001b[1;33m-\u001b[0m \u001b[0mlen\u001b[0m\u001b[1;33m(\u001b[0m\u001b[0mall_args\u001b[0m\u001b[1;33m)\u001b[0m\u001b[1;33m\u001b[0m\u001b[1;33m\u001b[0m\u001b[0m\n\u001b[0;32m     62\u001b[0m             \u001b[1;32mif\u001b[0m \u001b[0mextra_args\u001b[0m \u001b[1;33m<=\u001b[0m \u001b[1;36m0\u001b[0m\u001b[1;33m:\u001b[0m\u001b[1;33m\u001b[0m\u001b[1;33m\u001b[0m\u001b[0m\n\u001b[1;32m---> 63\u001b[1;33m                 \u001b[1;32mreturn\u001b[0m \u001b[0mf\u001b[0m\u001b[1;33m(\u001b[0m\u001b[1;33m*\u001b[0m\u001b[0margs\u001b[0m\u001b[1;33m,\u001b[0m \u001b[1;33m**\u001b[0m\u001b[0mkwargs\u001b[0m\u001b[1;33m)\u001b[0m\u001b[1;33m\u001b[0m\u001b[1;33m\u001b[0m\u001b[0m\n\u001b[0m\u001b[0;32m     64\u001b[0m \u001b[1;33m\u001b[0m\u001b[0m\n\u001b[0;32m     65\u001b[0m             \u001b[1;31m# extra_args > 0\u001b[0m\u001b[1;33m\u001b[0m\u001b[1;33m\u001b[0m\u001b[1;33m\u001b[0m\u001b[0m\n",
      "\u001b[1;32m~\\anaconda3\\lib\\site-packages\\sklearn\\utils\\validation.py\u001b[0m in \u001b[0;36mcheck_array\u001b[1;34m(array, accept_sparse, accept_large_sparse, dtype, order, copy, force_all_finite, ensure_2d, allow_nd, ensure_min_samples, ensure_min_features, estimator)\u001b[0m\n\u001b[0;32m    614\u001b[0m                     \u001b[0marray\u001b[0m \u001b[1;33m=\u001b[0m \u001b[0marray\u001b[0m\u001b[1;33m.\u001b[0m\u001b[0mastype\u001b[0m\u001b[1;33m(\u001b[0m\u001b[0mdtype\u001b[0m\u001b[1;33m,\u001b[0m \u001b[0mcasting\u001b[0m\u001b[1;33m=\u001b[0m\u001b[1;34m\"unsafe\"\u001b[0m\u001b[1;33m,\u001b[0m \u001b[0mcopy\u001b[0m\u001b[1;33m=\u001b[0m\u001b[1;32mFalse\u001b[0m\u001b[1;33m)\u001b[0m\u001b[1;33m\u001b[0m\u001b[1;33m\u001b[0m\u001b[0m\n\u001b[0;32m    615\u001b[0m                 \u001b[1;32melse\u001b[0m\u001b[1;33m:\u001b[0m\u001b[1;33m\u001b[0m\u001b[1;33m\u001b[0m\u001b[0m\n\u001b[1;32m--> 616\u001b[1;33m                     \u001b[0marray\u001b[0m \u001b[1;33m=\u001b[0m \u001b[0mnp\u001b[0m\u001b[1;33m.\u001b[0m\u001b[0masarray\u001b[0m\u001b[1;33m(\u001b[0m\u001b[0marray\u001b[0m\u001b[1;33m,\u001b[0m \u001b[0morder\u001b[0m\u001b[1;33m=\u001b[0m\u001b[0morder\u001b[0m\u001b[1;33m,\u001b[0m \u001b[0mdtype\u001b[0m\u001b[1;33m=\u001b[0m\u001b[0mdtype\u001b[0m\u001b[1;33m)\u001b[0m\u001b[1;33m\u001b[0m\u001b[1;33m\u001b[0m\u001b[0m\n\u001b[0m\u001b[0;32m    617\u001b[0m             \u001b[1;32mexcept\u001b[0m \u001b[0mComplexWarning\u001b[0m \u001b[1;32mas\u001b[0m \u001b[0mcomplex_warning\u001b[0m\u001b[1;33m:\u001b[0m\u001b[1;33m\u001b[0m\u001b[1;33m\u001b[0m\u001b[0m\n\u001b[0;32m    618\u001b[0m                 raise ValueError(\"Complex data not supported\\n\"\n",
      "\u001b[1;32m~\\anaconda3\\lib\\site-packages\\numpy\\core\\_asarray.py\u001b[0m in \u001b[0;36masarray\u001b[1;34m(a, dtype, order)\u001b[0m\n\u001b[0;32m     81\u001b[0m \u001b[1;33m\u001b[0m\u001b[0m\n\u001b[0;32m     82\u001b[0m     \"\"\"\n\u001b[1;32m---> 83\u001b[1;33m     \u001b[1;32mreturn\u001b[0m \u001b[0marray\u001b[0m\u001b[1;33m(\u001b[0m\u001b[0ma\u001b[0m\u001b[1;33m,\u001b[0m \u001b[0mdtype\u001b[0m\u001b[1;33m,\u001b[0m \u001b[0mcopy\u001b[0m\u001b[1;33m=\u001b[0m\u001b[1;32mFalse\u001b[0m\u001b[1;33m,\u001b[0m \u001b[0morder\u001b[0m\u001b[1;33m=\u001b[0m\u001b[0morder\u001b[0m\u001b[1;33m)\u001b[0m\u001b[1;33m\u001b[0m\u001b[1;33m\u001b[0m\u001b[0m\n\u001b[0m\u001b[0;32m     84\u001b[0m \u001b[1;33m\u001b[0m\u001b[0m\n\u001b[0;32m     85\u001b[0m \u001b[1;33m\u001b[0m\u001b[0m\n",
      "\u001b[1;31mMemoryError\u001b[0m: Unable to allocate 4.91 GiB for an array with shape (15981, 41246) and data type float64"
     ]
    }
   ],
   "source": [
    "stopwords_list = stopwords.words('english')\n",
    "stopwords_list.extend([\"’\", \"“\", \"”\", \"https\", \"co\", \"user\", \"amp\", \"get\", \"go\", \"one\"]) # remove stopwords\n",
    "\n",
    "accuracies = []\n",
    "for i in range(1,11): \n",
    "    accuracies.append(fit_LR(min_df = i, train_size = 0.5,stopwords_list = stopwords_list).get('Accuracy'))\n",
    "    sizes.append(i)"
   ]
  },
  {
   "cell_type": "code",
   "execution_count": null,
   "id": "505825bb",
   "metadata": {},
   "outputs": [],
   "source": [
    "plt.plot(range(1,11),accuracies)"
   ]
  },
  {
   "cell_type": "code",
   "execution_count": null,
   "id": "049b2481",
   "metadata": {},
   "outputs": [],
   "source": [
    "n_columns = []\n",
    "for i in range(1,11):\n",
    "    n_columns.append(fit_LR(min_df = i, train_size = 0.3).get('n_cols'))"
   ]
  },
  {
   "cell_type": "code",
   "execution_count": null,
   "id": "fbf6813c",
   "metadata": {},
   "outputs": [],
   "source": [
    "plt.plot(range(1,11),n_columns)"
   ]
  },
  {
   "cell_type": "code",
   "execution_count": null,
   "id": "8d501f9a",
   "metadata": {},
   "outputs": [],
   "source": [
    "accuracies = []\n",
    "sizes = []\n",
    "for i in np.arange(0.1,1,0.1):\n",
    "    accuracies.append(fit_LR(min_df = 2, train_size = i))\n",
    "    sizes.append(i)"
   ]
  },
  {
   "cell_type": "code",
   "execution_count": null,
   "id": "ae2b5398",
   "metadata": {},
   "outputs": [],
   "source": [
    "plt.plot(sizes, accuracies)"
   ]
  },
  {
   "cell_type": "code",
   "execution_count": null,
   "id": "f1f7396c",
   "metadata": {},
   "outputs": [],
   "source": [
    "fit_LR(min_df = 2, train_size = 0.8, vectorizer=TfidfVectorizer)\n",
    "fit_LR(min_df = 2, train_size = 0.8, vectorizer=CountVectorizer)"
   ]
  },
  {
   "cell_type": "code",
   "execution_count": null,
   "id": "e7538c77",
   "metadata": {},
   "outputs": [],
   "source": [
    "top_df = fit_LR(min_df = 2, train_size = 0.8, vectorizer=CountVectorizer).get('top')\n",
    "bottom_df = fit_LR(min_df = 2, train_size = 0.8, vectorizer=CountVectorizer).get('bottom')"
   ]
  },
  {
   "cell_type": "code",
   "execution_count": null,
   "id": "be2f42d9",
   "metadata": {},
   "outputs": [],
   "source": [
    "top_df"
   ]
  },
  {
   "cell_type": "code",
   "execution_count": null,
   "id": "4626555f",
   "metadata": {},
   "outputs": [],
   "source": [
    "bottom_df"
   ]
  }
 ],
 "metadata": {
  "kernelspec": {
   "display_name": "Python 3",
   "language": "python",
   "name": "python3"
  },
  "language_info": {
   "codemirror_mode": {
    "name": "ipython",
    "version": 3
   },
   "file_extension": ".py",
   "mimetype": "text/x-python",
   "name": "python",
   "nbconvert_exporter": "python",
   "pygments_lexer": "ipython3",
   "version": "3.8.8"
  }
 },
 "nbformat": 4,
 "nbformat_minor": 5
}

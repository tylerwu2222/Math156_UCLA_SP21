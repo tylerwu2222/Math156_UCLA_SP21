{
 "cells": [
  {
   "cell_type": "markdown",
   "metadata": {},
   "source": [
    "## Convolutional Neural Network for MNIST image classficiation "
   ]
  },
  {
   "cell_type": "code",
   "execution_count": 1,
   "metadata": {},
   "outputs": [],
   "source": [
    "import numpy as np\n",
    "# from sklearn.utils.extmath import softmax\n",
    "from matplotlib import pyplot as plt\n",
    "import re\n",
    "from tqdm import trange\n",
    "from sklearn import metrics\n",
    "from sklearn.metrics import accuracy_score\n",
    "from sklearn.metrics import confusion_matrix\n",
    "from mpl_toolkits.axes_grid1 import make_axes_locatable\n",
    "import pandas as pd\n",
    "from sklearn.datasets import fetch_openml\n",
    "\n",
    "plt.rcParams['font.family'] = 'serif'\n",
    "plt.rcParams['font.serif'] = ['Times New Roman'] + plt.rcParams['font.serif']"
   ]
  },
  {
   "cell_type": "code",
   "execution_count": 2,
   "metadata": {},
   "outputs": [],
   "source": [
    "import sys\n",
    "sys.path.append(\"../\")\n",
<<<<<<< HEAD
    "from src.CNN import CNN, compute_accuracy_metrics, multiclass_accuracy_metrics, list2onehot, onehot2list, hi"
=======
    "from src.CNN import CNN, compute_accuracy_metrics, multiclass_accuracy_metrics, list2onehot, onehot2list"
>>>>>>> upstream/main
   ]
  },
  {
   "cell_type": "code",
<<<<<<< HEAD
   "execution_count": 4,
=======
   "execution_count": 3,
>>>>>>> upstream/main
   "metadata": {},
   "outputs": [
    {
     "name": "stdout",
     "output_type": "stream",
     "text": [
      "X.shape (70000, 784)\n",
      "y.shape (70000,)\n"
     ]
    },
    {
     "data": {
      "text/plain": [
       "'\\nEach row of X is a vectroization of an image of 28 x 28 = 784 pixels.  \\nThe corresponding row of y holds the true class label from {0,1, .. , 9}.\\n'"
      ]
     },
<<<<<<< HEAD
     "execution_count": 4,
=======
     "execution_count": 3,
>>>>>>> upstream/main
     "metadata": {},
     "output_type": "execute_result"
    }
   ],
   "source": [
    "# Load data from https://www.openml.org/d/554\n",
    "X, y = fetch_openml('mnist_784', version=1, return_X_y=True)\n",
    "# X = X.values  ### Uncomment this line if you are having type errors in plotting. It is loading as a pandas dataframe, but our indexing is for numpy array. \n",
    "X = X / 255.\n",
    "\n",
    "print('X.shape', X.shape)\n",
    "print('y.shape', y.shape)\n",
    "\n",
    "'''\n",
    "Each row of X is a vectroization of an image of 28 x 28 = 784 pixels.  \n",
    "The corresponding row of y holds the true class label from {0,1, .. , 9}.\n",
    "'''"
   ]
  },
  {
   "cell_type": "code",
<<<<<<< HEAD
   "execution_count": 5,
=======
   "execution_count": 4,
>>>>>>> upstream/main
   "metadata": {},
   "outputs": [],
   "source": [
    "def random_padding(img, thickness=1):\n",
    "    # img = a x b image \n",
    "    [a,b] = img.shape\n",
    "    Y = np.zeros(shape=[a+thickness, b+thickness])\n",
    "    r_loc = np.random.choice(np.arange(thickness+1))\n",
    "    c_loc = np.random.choice(np.arange(thickness+1))\n",
    "    Y[r_loc:r_loc+a, c_loc:c_loc+b] = img\n",
    "    return Y"
   ]
  },
  {
   "cell_type": "code",
<<<<<<< HEAD
   "execution_count": 6,
=======
   "execution_count": 5,
>>>>>>> upstream/main
   "metadata": {},
   "outputs": [],
   "source": [
    "def sample_multiclass_MNIST_padding(list_digits=['0','1', '2'], full_MNIST=[X,y], padding_thickness=10):\n",
    "    # get train and test set from MNIST of given digits\n",
    "    # e.g., list_digits = ['0', '1', '2']\n",
    "    # pad each 28 x 28 image with zeros so that it has now \"padding_thickness\" more rows and columns\n",
    "    # The original image is superimposed at a uniformly chosen location \n",
    "    if full_MNIST is not None:\n",
    "        X, y = full_MNIST\n",
    "    else:\n",
    "        X, y = fetch_openml('mnist_784', version=1, return_X_y=True)\n",
    "        X = X / 255.\n",
    "    Y = list2onehot(y.tolist(), list_digits)\n",
    "    \n",
    "    idx = [i for i in np.arange(len(y)) if y[i] in list_digits] # list of indices where the label y is in list_digits\n",
    "    \n",
<<<<<<< HEAD
    "    X01 = X.iloc[idx,:]\n",
=======
    "    X01 = X[idx,:]\n",
>>>>>>> upstream/main
    "    y01 = Y[idx,:]\n",
    "\n",
    "    X_train = []\n",
    "    X_test = []\n",
    "    y_test = [] # list of one-hot encodings (indicator vectors) of each label  \n",
    "    y_train = [] # list of one-hot encodings (indicator vectors) of each label  \n",
    "\n",
    "    for i in trange(X01.shape[0]):\n",
    "        # for each example i, make it into train set with probabiliy 0.8 and into test set otherwise \n",
    "        U = np.random.rand() # Uniform([0,1]) variable\n",
<<<<<<< HEAD
    "        img_padded = random_padding(X01.iloc[i,:].values.reshape(28,28), thickness=padding_thickness)\n",
=======
    "        img_padded = random_padding(X01[i,:].reshape(28,28), thickness=padding_thickness)\n",
>>>>>>> upstream/main
    "        img_padded_vec = img_padded.reshape(1,-1)\n",
    "        if U<0.8:\n",
    "            X_train.append(img_padded_vec[0,:].copy())\n",
    "            y_train.append(y01[i,:].copy())\n",
    "        else:\n",
    "            X_test.append(img_padded_vec[0,:].copy())\n",
    "            y_test.append(y01[i,:].copy())\n",
    "\n",
    "    X_train = np.asarray(X_train)\n",
    "    X_test = np.asarray(X_test)\n",
    "    y_train = np.asarray(y_train)\n",
    "    y_test = np.asarray(y_test)\n",
    "    return X_train, X_test, y_train, y_test"
   ]
  },
  {
   "cell_type": "code",
<<<<<<< HEAD
   "execution_count": 17,
=======
   "execution_count": 6,
>>>>>>> upstream/main
   "metadata": {},
   "outputs": [
    {
     "name": "stderr",
     "output_type": "stream",
     "text": [
<<<<<<< HEAD
      "100%|██████████████████████████████████████████████████████████████████████████| 14780/14780 [00:02<00:00, 6877.67it/s]\n",
      "  0%|                                                                                           | 0/20 [00:00<?, ?it/s]"
=======
      "100%|██████████| 14780/14780 [00:00<00:00, 65308.99it/s]\n",
      "  0%|          | 0/20 [00:00<?, ?it/s]\n",
      "  0%|          | 0/4 [00:00<?, ?it/s]\u001b[A"
>>>>>>> upstream/main
     ]
    },
    {
     "name": "stdout",
     "output_type": "stream",
     "text": [
      "self.img_x_dim 28\n",
      "LR:0.01, MiniBatch Size:32\n"
     ]
    },
    {
     "name": "stderr",
     "output_type": "stream",
     "text": [
<<<<<<< HEAD
      "\r",
      "  5%|████▏                                                                              | 1/20 [00:07<02:14,  7.10s/it]"
     ]
    },
    {
     "name": "stdout",
     "output_type": "stream",
     "text": [
      "iteration 0, error 0.69326\n"
     ]
    },
    {
     "name": "stderr",
     "output_type": "stream",
     "text": [
      " 30%|████████████████████████▉                                                          | 6/20 [00:44<01:44,  7.44s/it]"
     ]
    },
    {
     "name": "stdout",
     "output_type": "stream",
     "text": [
      "iteration 5, error 0.55750\n"
     ]
    },
    {
     "name": "stderr",
     "output_type": "stream",
     "text": [
      " 55%|█████████████████████████████████████████████                                     | 11/20 [01:21<01:06,  7.42s/it]"
     ]
    },
    {
     "name": "stdout",
     "output_type": "stream",
     "text": [
      "iteration 10, error 0.42183\n"
     ]
    },
    {
     "name": "stderr",
     "output_type": "stream",
     "text": [
      " 75%|█████████████████████████████████████████████████████████████▌                    | 15/20 [01:57<00:39,  7.81s/it]"
=======
      "\n",
      " 25%|██▌       | 1/4 [00:03<00:10,  3.58s/it]\u001b[A\n",
      " 50%|█████     | 2/4 [00:07<00:07,  3.58s/it]\u001b[A\n",
      " 75%|███████▌  | 3/4 [00:10<00:03,  3.60s/it]\u001b[A\n",
      "100%|██████████| 4/4 [00:11<00:00,  2.82s/it]\u001b[A\n",
      "  5%|▌         | 1/20 [00:11<03:34, 11.27s/it]\n",
      "  0%|          | 0/4 [00:00<?, ?it/s]\u001b[A"
>>>>>>> upstream/main
     ]
    },
    {
     "name": "stdout",
     "output_type": "stream",
     "text": [
<<<<<<< HEAD
      "iteration 15, error 0.00752\n"
=======
      "iteration 0, error 0.68890\n"
>>>>>>> upstream/main
     ]
    },
    {
     "name": "stderr",
     "output_type": "stream",
     "text": [
<<<<<<< HEAD
      "\n"
=======
      "\n",
      " 25%|██▌       | 1/4 [00:03<00:10,  3.65s/it]\u001b[A\n",
      " 50%|█████     | 2/4 [00:07<00:07,  3.62s/it]\u001b[A\n",
      " 75%|███████▌  | 3/4 [00:10<00:03,  3.59s/it]\u001b[A\n",
      "100%|██████████| 4/4 [00:11<00:00,  2.79s/it]\u001b[A\n",
      " 10%|█         | 2/20 [00:22<03:22, 11.24s/it]\n",
      "  0%|          | 0/4 [00:00<?, ?it/s]\u001b[A\n",
      " 25%|██▌       | 1/4 [00:03<00:10,  3.54s/it]\u001b[A\n",
      " 50%|█████     | 2/4 [00:07<00:07,  3.53s/it]\u001b[A\n",
      " 75%|███████▌  | 3/4 [00:10<00:03,  3.53s/it]\u001b[A\n",
      "100%|██████████| 4/4 [00:11<00:00,  2.75s/it]\u001b[A\n",
      " 15%|█▌        | 3/20 [00:33<03:09, 11.17s/it]\n",
      "  0%|          | 0/4 [00:00<?, ?it/s]\u001b[A\n",
      " 25%|██▌       | 1/4 [00:03<00:10,  3.56s/it]\u001b[A\n",
      " 50%|█████     | 2/4 [00:07<00:07,  3.57s/it]\u001b[A\n",
      " 75%|███████▌  | 3/4 [00:10<00:03,  3.56s/it]\u001b[A\n",
      "100%|██████████| 4/4 [00:11<00:00,  2.79s/it]\u001b[A\n",
      " 15%|█▌        | 3/20 [00:44<04:12, 14.87s/it]\n"
>>>>>>> upstream/main
     ]
    },
    {
     "data": {
      "text/plain": [
<<<<<<< HEAD
       "[0.6932648802129361,\n",
       " 0.6918927140298019,\n",
       " 0.6894995746750823,\n",
       " 0.6788954080331221,\n",
       " 0.6559375974325748,\n",
       " 0.5574980496048959,\n",
       " 0.48510368776333357,\n",
       " 0.2837281134147445,\n",
       " 0.12000874418408895,\n",
       " 0.17147779897410542,\n",
       " 0.4218257049931019,\n",
       " 0.028077377063693006,\n",
       " 0.011548300060802145,\n",
       " 0.27907840038778853,\n",
       " 0.21421307726891764,\n",
       " 0.007518498518651892]"
      ]
     },
     "execution_count": 17,
=======
       "[0.6933378066621136,\n",
       " 0.6906707405747162,\n",
       " 0.6902438714813413,\n",
       " 0.6889048251734811,\n",
       " 0.6806493379551022,\n",
       " 0.6695235884666044,\n",
       " 0.6409188775856846,\n",
       " 0.5593134291009453,\n",
       " 0.5524240496998056,\n",
       " 0.4655036662297015,\n",
       " 0.33555008699342814,\n",
       " 0.20025944567295076,\n",
       " 0.04921552544836933,\n",
       " 0.04684577436101258,\n",
       " 0.12173684540981777,\n",
       " 0.005389959953714185]"
      ]
     },
     "execution_count": 6,
>>>>>>> upstream/main
     "metadata": {},
     "output_type": "execute_result"
    }
   ],
   "source": [
    "# Simple MNIST binary classification experiments \n",
    "\n",
    "X_train, X_test, y_train, y_test = sample_multiclass_MNIST_padding(list_digits=['0','1'], \n",
    "                                                                   full_MNIST=[X,y],\n",
    "                                                                   padding_thickness=0)\n",
    "\n",
    "# data subsampling \n",
    "train_size = 100\n",
    "\n",
    "idx = np.random.choice(np.arange(len(y_train)), train_size)\n",
    "X_train0 = X_train[idx, :]/np.max(X_train)\n",
    "y_train0 = y_train[idx, :]\n",
    "\n",
    "# preprocessing \n",
    "out = []\n",
    "# populate the tuple list with the data\n",
    "for i in range(X_train0.shape[0]):\n",
    "    item = list((X_train0[i,:].reshape(1,28,28), y_train0[i,:])) \n",
    "    out.append(item)\n",
    "    \n",
<<<<<<< HEAD
    "# FFNN training\n",
=======
    "# CNN training\n",
>>>>>>> upstream/main
    "CNN0 = CNN(training_data = out,\n",
    "           f = 5, # conv filter dim\n",
    "           f_pool = 2, # maxpool filter dim\n",
    "           num_filt1 = 8, # num filters for the first conv layer\n",
    "           num_filt2 = 8, # num filters for the second conv layer\n",
    "           conv_stride = 1,\n",
    "           pool_stride = 2,\n",
    "           hidden_nodes = 128)\n",
    "\n",
    "CNN0.train(lr = 0.01,\n",
    "           beta1 = 0.95,\n",
    "           beta2 = 0.99,\n",
    "           minibatch_size = 32,\n",
    "           num_epochs = 20,\n",
    "           verbose = True)\n",
    "\n"
   ]
  },
  {
   "cell_type": "code",
<<<<<<< HEAD
   "execution_count": 18,
=======
   "execution_count": null,
>>>>>>> upstream/main
   "metadata": {},
   "outputs": [
    {
     "name": "stderr",
     "output_type": "stream",
     "text": [
<<<<<<< HEAD
      "  0%|                                                                                 | 1/2967 [00:00<05:22,  9.21it/s]"
     ]
    },
    {
     "name": "stdout",
     "output_type": "stream",
     "text": [
      "X_test.shape (2967, 784)\n"
     ]
    },
    {
     "name": "stderr",
     "output_type": "stream",
     "text": [
      "100%|██████████████████████████████████████████████████████████████████████████████| 2967/2967 [05:17<00:00,  9.33it/s]"
=======
      "  0%|          | 3/2972 [00:00<02:14, 22.06it/s]"
>>>>>>> upstream/main
     ]
    },
    {
     "name": "stdout",
     "output_type": "stream",
     "text": [
<<<<<<< HEAD
      "AUC ===> 1.000\n",
      "Opt_threshold ===> 0.644\n",
      "Accuracy ===> 0.995\n",
      "Sensitivity ===> 0.990\n",
      "Specificity ===> 0.999\n",
      "Precision ===> 0.992\n",
      "Fall_out ===> 0.010\n",
      "Miss_rate ===> 0.001\n",
      "Confusion matrix  ===> \n",
      " [[1332   13]\n",
      " [   2 1620]]\n"
=======
      "X_test.shape (2972, 784)\n"
>>>>>>> upstream/main
     ]
    },
    {
     "name": "stderr",
     "output_type": "stream",
     "text": [
<<<<<<< HEAD
      "\n"
     ]
    },
    {
     "data": {
      "text/plain": [
       "{'Y_test': array([0, 0, 1, ..., 0, 1, 1]),\n",
       " 'Y_pred': array([[0.],\n",
       "        [0.],\n",
       "        [1.],\n",
       "        ...,\n",
       "        [0.],\n",
       "        [1.],\n",
       "        [1.]]),\n",
       " 'AUC': 0.9996548389019018,\n",
       " 'Opt_threshold': 0.6444245445464621,\n",
       " 'Accuracy': 0.9949443882709808,\n",
       " 'Sensitivity': 0.9903345724907063,\n",
       " 'Specificity': 0.998766954377312,\n",
       " 'Precision': 0.9920391916717698,\n",
       " 'Fall_out': 0.009665427509293681,\n",
       " 'Miss_rate': 0.0012330456226880395,\n",
       " 'Confusion_mx': array([[1332,   13],\n",
       "        [   2, 1620]], dtype=int64)}"
      ]
     },
     "execution_count": 18,
     "metadata": {},
     "output_type": "execute_result"
=======
      " 32%|███▏      | 960/2972 [00:45<01:38, 20.42it/s]"
     ]
>>>>>>> upstream/main
    }
   ],
   "source": [
    "# CNN prediction\n",
    "\n",
    "X_test /= np.max(X_test)\n",
    "print('X_test.shape', X_test.shape)\n",
    "out_test = []\n",
    "\n",
    "\n",
    "for i in range(X_test.shape[0]):\n",
    "    out_test.append((X_test[i,:].reshape(1,28,28)))\n",
    "                \n",
    "y_hat = CNN0.predict(image_list=out_test)\n",
    "\n",
    "y_test_label = np.asarray(onehot2list(y_test))\n",
    "P_pred = np.asarray([p[1] for p in y_hat])\n",
    "\n",
<<<<<<< HEAD
    "compute_accuracy_metrics(Y_test=y_test_label, P_pred=P_pred, use_opt_threshold=False, verbose=True)\n",
    "\n",
    "\n",
=======
    "compute_accuracy_metrics(Y_test=y_test_label, P_pred=P_pred, use_opt_threshold=False, verbose=True)"
   ]
  },
  {
   "cell_type": "code",
   "execution_count": null,
   "metadata": {},
   "outputs": [],
   "source": [
    "# Draw Filters\n",
    "\n",
    "f1 = CNN0.params.get('f1')\n",
    "\n",
    "# make plot\n",
    "nrows = 2\n",
    "ncols = 4\n",
    "fig, ax = plt.subplots(nrows=2, ncols=ncols, figsize=[10,4.5])\n",
    "\n",
    "for i in np.arange(nrows):\n",
    "    for j in np.arange(ncols):\n",
    "        im = ax[i,j].imshow(f1[j + 4*i,0,:,:])\n",
    "        ax[i,j].set_xticks([])\n",
    "        ax[i,j].set_yticks([])\n",
    "        fig.colorbar(im, ax=ax[i,j], fraction=0.0457, pad=0.04)\n",
    "        \n",
    "fig.suptitle(\"Learned filters for the first convolutional layer\", fontsize=15)\n",
    "plt.tight_layout(rect=[0, 0.03, 1, 0.9])\n",
    "plt.subplots_adjust(left=0.01, right=0.9, bottom=0.1, top=0.9, wspace=0.2, hspace=0.1)\n",
    "plt.savefig('MNIST_CNN_filter_ex1.pdf', bbox_inches=\"tight\")\n",
>>>>>>> upstream/main
    "\n"
   ]
  },
  {
   "cell_type": "code",
<<<<<<< HEAD
   "execution_count": 19,
   "metadata": {},
   "outputs": [
    {
     "name": "stderr",
     "output_type": "stream",
     "text": [
      "100%|██████████████████████████████████████████████████████████████████████████| 14780/14780 [00:02<00:00, 6668.66it/s]\n",
      "  0%|                                                                                           | 0/30 [00:00<?, ?it/s]"
     ]
    },
    {
     "name": "stdout",
     "output_type": "stream",
     "text": [
      "self.img_x_dim 38\n",
      "LR:0.01, MiniBatch Size:32\n"
     ]
    },
    {
     "name": "stderr",
     "output_type": "stream",
     "text": [
      "\r",
      "  3%|██▊                                                                                | 1/30 [00:15<07:20, 15.17s/it]"
     ]
    },
    {
     "name": "stdout",
     "output_type": "stream",
     "text": [
      "iteration 0, error 0.69237\n"
     ]
    },
    {
     "name": "stderr",
     "output_type": "stream",
     "text": [
      " 20%|████████████████▌                                                                  | 6/30 [01:30<06:02, 15.11s/it]"
     ]
    },
    {
     "name": "stdout",
     "output_type": "stream",
     "text": [
      "iteration 5, error 0.59613\n"
     ]
    },
    {
     "name": "stderr",
     "output_type": "stream",
     "text": [
      " 37%|██████████████████████████████                                                    | 11/30 [02:50<05:01, 15.87s/it]"
     ]
    },
    {
     "name": "stdout",
     "output_type": "stream",
     "text": [
      "iteration 10, error 0.57331\n"
     ]
    },
    {
     "name": "stderr",
     "output_type": "stream",
     "text": [
      " 53%|███████████████████████████████████████████▋                                      | 16/30 [04:11<03:44, 16.03s/it]"
     ]
    },
    {
     "name": "stdout",
     "output_type": "stream",
     "text": [
      "iteration 15, error 1.48895\n"
     ]
    },
    {
     "name": "stderr",
     "output_type": "stream",
     "text": [
      " 70%|█████████████████████████████████████████████████████████▍                        | 21/30 [05:31<02:23, 15.99s/it]"
     ]
    },
    {
     "name": "stdout",
     "output_type": "stream",
     "text": [
      "iteration 20, error 0.23323\n"
     ]
    },
    {
     "name": "stderr",
     "output_type": "stream",
     "text": [
      " 87%|███████████████████████████████████████████████████████████████████████           | 26/30 [06:51<01:04, 16.01s/it]"
     ]
    },
    {
     "name": "stdout",
     "output_type": "stream",
     "text": [
      "iteration 25, error 0.11476\n"
     ]
    },
    {
     "name": "stderr",
     "output_type": "stream",
     "text": [
      "100%|██████████████████████████████████████████████████████████████████████████████████| 30/30 [08:16<00:00, 16.55s/it]\n",
      "100%|████████████████████████████████████████████████████████████████████████████████| 100/100 [00:27<00:00,  3.63it/s]"
     ]
    },
    {
     "name": "stdout",
     "output_type": "stream",
     "text": [
      "AUC ===> 0.992\n",
      "Opt_threshold ===> 0.813\n",
      "Accuracy ===> 0.960\n",
      "Sensitivity ===> 0.886\n",
      "Specificity ===> 1.000\n",
      "Precision ===> 0.942\n",
      "Fall_out ===> 0.114\n",
      "Miss_rate ===> 0.000\n",
      "Confusion matrix  ===> \n",
      " [[31  4]\n",
      " [ 0 65]]\n"
     ]
    },
    {
     "name": "stderr",
     "output_type": "stream",
     "text": [
      "\n"
     ]
    },
    {
     "data": {
      "text/plain": [
       "{'Y_test': array([1, 1, 0, 1, 0, 1, 0, 1, 1, 1, 0, 1, 0, 1, 1, 1, 0, 0, 1, 1, 0, 0,\n",
       "        1, 1, 0, 0, 1, 1, 1, 1, 1, 1, 1, 1, 0, 0, 1, 1, 1, 0, 1, 1, 0, 1,\n",
       "        1, 1, 1, 0, 0, 1, 1, 1, 1, 1, 1, 1, 1, 1, 0, 0, 0, 0, 1, 0, 0, 1,\n",
       "        1, 0, 1, 1, 1, 0, 0, 0, 1, 0, 0, 0, 1, 1, 1, 1, 1, 1, 1, 0, 1, 0,\n",
       "        1, 1, 0, 1, 0, 1, 1, 1, 1, 1, 0, 1]),\n",
       " 'Y_pred': array([[1.],\n",
       "        [1.],\n",
       "        [0.],\n",
       "        [1.],\n",
       "        [0.],\n",
       "        [1.],\n",
       "        [0.],\n",
       "        [1.],\n",
       "        [1.],\n",
       "        [1.],\n",
       "        [0.],\n",
       "        [1.],\n",
       "        [0.],\n",
       "        [1.],\n",
       "        [1.],\n",
       "        [1.],\n",
       "        [0.],\n",
       "        [0.],\n",
       "        [1.],\n",
       "        [1.],\n",
       "        [0.],\n",
       "        [1.],\n",
       "        [1.],\n",
       "        [1.],\n",
       "        [0.],\n",
       "        [1.],\n",
       "        [1.],\n",
       "        [1.],\n",
       "        [1.],\n",
       "        [1.],\n",
       "        [1.],\n",
       "        [1.],\n",
       "        [1.],\n",
       "        [1.],\n",
       "        [0.],\n",
       "        [0.],\n",
       "        [1.],\n",
       "        [1.],\n",
       "        [1.],\n",
       "        [0.],\n",
       "        [1.],\n",
       "        [1.],\n",
       "        [1.],\n",
       "        [1.],\n",
       "        [1.],\n",
       "        [1.],\n",
       "        [1.],\n",
       "        [0.],\n",
       "        [0.],\n",
       "        [1.],\n",
       "        [1.],\n",
       "        [1.],\n",
       "        [1.],\n",
       "        [1.],\n",
       "        [1.],\n",
       "        [1.],\n",
       "        [1.],\n",
       "        [1.],\n",
       "        [0.],\n",
       "        [0.],\n",
       "        [0.],\n",
       "        [1.],\n",
       "        [1.],\n",
       "        [0.],\n",
       "        [0.],\n",
       "        [1.],\n",
       "        [1.],\n",
       "        [0.],\n",
       "        [1.],\n",
       "        [1.],\n",
       "        [1.],\n",
       "        [0.],\n",
       "        [0.],\n",
       "        [0.],\n",
       "        [1.],\n",
       "        [0.],\n",
       "        [0.],\n",
       "        [0.],\n",
       "        [1.],\n",
       "        [1.],\n",
       "        [1.],\n",
       "        [1.],\n",
       "        [1.],\n",
       "        [1.],\n",
       "        [1.],\n",
       "        [0.],\n",
       "        [1.],\n",
       "        [0.],\n",
       "        [1.],\n",
       "        [1.],\n",
       "        [0.],\n",
       "        [1.],\n",
       "        [0.],\n",
       "        [1.],\n",
       "        [1.],\n",
       "        [1.],\n",
       "        [1.],\n",
       "        [1.],\n",
       "        [0.],\n",
       "        [1.]]),\n",
       " 'AUC': 0.9916483516483516,\n",
       " 'Opt_threshold': 0.8127819125282819,\n",
       " 'Accuracy': 0.96,\n",
       " 'Sensitivity': 0.8857142857142857,\n",
       " 'Specificity': 1.0,\n",
       " 'Precision': 0.9420289855072463,\n",
       " 'Fall_out': 0.11428571428571428,\n",
       " 'Miss_rate': 0.0,\n",
       " 'Confusion_mx': array([[31,  4],\n",
       "        [ 0, 65]], dtype=int64)}"
      ]
     },
     "execution_count": 19,
     "metadata": {},
     "output_type": "execute_result"
    }
   ],
=======
   "execution_count": null,
   "metadata": {},
   "outputs": [],
>>>>>>> upstream/main
   "source": [
    "# Simple MNIST binary classification experiments \n",
    "\n",
    "thickness = 10\n",
    "X_train, X_test, y_train, y_test = sample_multiclass_MNIST_padding(list_digits=['0','1'], \n",
    "                                                                   full_MNIST=[X,y],\n",
    "                                                                   padding_thickness=thickness)\n",
    "\n",
    "# data subsampling \n",
    "train_size = 100\n",
    "\n",
    "idx = np.random.choice(np.arange(len(y_train)), train_size)\n",
    "X_train0 = X_train[idx, :]/np.max(X_train)\n",
    "y_train0 = y_train[idx, :]\n",
    "\n",
    "# preprocessing \n",
    "out = []\n",
    "# populate the tuple list with the data\n",
    "for i in range(X_train0.shape[0]):\n",
    "    item = list((X_train0[i,:].reshape(1,28+thickness,28+thickness), y_train0[i,:])) \n",
    "    out.append(item)\n",
    "    \n",
    "# FFNN training\n",
    "CNN0 = CNN(training_data = out,\n",
    "           f = 5, # conv filter dim\n",
    "           f_pool = 2, # maxpool filter dim\n",
    "           num_filt1 = 8, # num filters for the first conv layer\n",
    "           num_filt2 = 8, # num filters for the second conv layer\n",
    "           conv_stride = 1,\n",
    "           pool_stride = 2,\n",
    "           hidden_nodes = 128)\n",
    "\n",
    "CNN0.train(lr = 0.01,\n",
    "           beta1 = 0.95,\n",
    "           beta2 = 0.99,\n",
    "           minibatch_size = 32,\n",
    "           num_epochs = 30,\n",
    "           verbose = True)\n",
    "\n",
    "# CNN prediction\n",
    "\n",
    "\n",
    "\n",
    "\n",
    "idx = np.random.choice(np.arange(len(y_test)), 100)\n",
    "X_test0 = X_test[idx, :]/np.max(X_test)\n",
    "y_test0 = y_test[idx, :]\n",
    "\n",
    "out_test = []\n",
    "\n",
    "for i in range(X_test0.shape[0]):\n",
    "    out_test.append((X_test0[i,:].reshape(1,28+thickness,28+thickness)))\n",
    "                \n",
    "y_hat = CNN0.predict(image_list=out_test)\n",
    "\n",
    "y_test_label = np.asarray(onehot2list(y_test0))\n",
    "P_pred = np.asarray([p[1] for p in y_hat])\n",
    "\n",
    "compute_accuracy_metrics(Y_test=y_test_label, P_pred=P_pred, use_opt_threshold=False, verbose=True)\n",
    "\n",
    "\n",
    "\n"
   ]
  },
  {
   "cell_type": "code",
   "execution_count": null,
   "metadata": {},
   "outputs": [],
   "source": [
    "# compute comparative multiclass classification metrics on test data\n",
    "\n",
    "thinkness = 10\n",
    "n_filters = [2, 5, 10, 15, 20]\n",
    "list_digits=['0','1','2','3','4']\n",
    "\n",
    "# Data preprocessing\n",
    "\n",
    "X_train, X_test, y_train, y_test = sample_multiclass_MNIST_padding(list_digits=['0','1'], \n",
    "                                                                   full_MNIST=[X,y],\n",
    "                                                                   padding_thickness=thinkness)\n",
<<<<<<< HEAD
    "train_size_list = [10, 50, 100]\n",
=======
    "train_size_list = [1000, 50, 100]\n",
>>>>>>> upstream/main
    "\n",
    "# make plot\n",
    "ncols = len(train_size_list)\n",
    "fig, ax = plt.subplots(nrows=1, ncols=ncols, figsize=[13,5])\n",
    "\n",
    "for t in np.arange(len(train_size_list)):\n",
    "    accuracy_list_test = []\n",
    "    accuracy_list_train = []\n",
    "    \n",
    "    train_size = train_size_list[t]\n",
    "    idx = np.random.choice(np.arange(len(y_train)), train_size)\n",
    "    X_train0 = X_train[idx, :]/np.max(X_train)\n",
    "    y_train0 = y_train[idx, :]\n",
    "    \n",
<<<<<<< HEAD
    "    idx = np.random.choice(np.arange(len(y_test)), 200)\n",
=======
    "    idx = np.random.choice(np.arange(len(y_test)), 1000)\n",
>>>>>>> upstream/main
    "    X_test0 = X_test[idx, :]/np.max(X_test)\n",
    "    y_test0 = y_test[idx, :]\n",
    "\n",
    "    out = []\n",
    "    out_train = []\n",
    "    # populate the tuple list with the data\n",
    "    for i in range(X_train0.shape[0]):\n",
    "        item = list((X_train0[i,:].reshape(1,28+thinkness,28+thinkness), y_train0[i,:])) \n",
    "        out.append(item)\n",
    "        out_train.append(X_train0[i,:].reshape(1,28+thinkness,28+thinkness))\n",
    "        \n",
    "    X_test /= np.max(X_test)\n",
    "    out_test = []\n",
    "    for i in range(X_test0.shape[0]):\n",
    "        out_test.append((X_test0[i,:].reshape(1,28+thinkness,28+thinkness)))\n",
    "\n",
    "    for M in n_filters:\n",
    "\n",
    "        # FFNN training\n",
    "        CNN0 = CNN(training_data = out,\n",
    "           f = 5, # conv filter dim\n",
    "           f_pool = 2, # maxpool filter dim\n",
    "           num_filt1 = M, # num filters for the first conv layer\n",
    "           num_filt2 = M, # num filters for the second conv layer\n",
    "           conv_stride = 1,\n",
    "           pool_stride = 2,\n",
    "           hidden_nodes = 128)\n",
    "\n",
    "        CNN0.train(lr = 0.01,\n",
    "                   beta1 = 0.95,\n",
    "                   beta2 = 0.99,\n",
    "                   minibatch_size = 32,\n",
<<<<<<< HEAD
    "                   num_epochs = 50,\n",
    "                   verbose = True)\n",
    "        \n",
    "        # FFNN prediction\n",
=======
    "                   num_epochs = 100,\n",
    "                   verbose = True)\n",
    "        \n",
    "        # FFNN prediction\n",
    "        print()\n",
>>>>>>> upstream/main
    "        y_hat_train = np.asarray(CNN0.predict(out_train))\n",
    "        y_hat_test = np.asarray(CNN0.predict(out_test))\n",
    "\n",
    "        y_train_label = np.asarray(onehot2list(y_train0))\n",
    "        y_test_label = np.asarray(onehot2list(y_test0))\n",
    "\n",
    "        results_train = multiclass_accuracy_metrics(Y_test=y_train0, P_pred=y_hat_train)\n",
    "        results_test = multiclass_accuracy_metrics(Y_test=y_test0, P_pred=y_hat_test)\n",
    "\n",
    "        accuracy_list_train.append(results_train.get('Accuracy'))\n",
    "        accuracy_list_test.append(results_test.get('Accuracy'))\n",
    "    \n",
    "    ## Plot\n",
    "    ax[t].plot(n_filters, accuracy_list_train, color='blue', label=\"train accuracy\")\n",
    "    ax[t].plot(n_filters, accuracy_list_test, color='red', label=\"test accuracy\")\n",
    "    ax[t].set_xlabel('Number of filters', fontsize=15)\n",
    "    ax[t].set_ylabel('Classification Accuracy', fontsize=15)\n",
    "    ax[t].title.set_text(\"num training ex = %i\" % (train_size)) \n",
    "    ax[t].legend(fontsize=15)\n",
    "            \n",
    "plt.tight_layout(rect=[0, 0.03, 1, 0.9])\n",
    "plt.savefig('MNIST_CNN_accuracy_ex1.pdf')"
   ]
  },
  {
   "cell_type": "markdown",
   "metadata": {},
   "source": [
    "## Classifying non-aligned MNIST images "
   ]
  },
  {
<<<<<<< HEAD
   "cell_type": "markdown",
   "metadata": {},
   "source": [
    "# HW 7 3"
   ]
  },
  {
   "cell_type": "code",
   "execution_count": 21,
   "metadata": {},
   "outputs": [
    {
     "name": "stderr",
     "output_type": "stream",
     "text": [
      "100%|██████████████████████████████████████████████████████████████████████████| 35735/35735 [00:05<00:00, 6129.96it/s]\n",
      "  0%|                                                                                           | 0/50 [00:00<?, ?it/s]"
     ]
    },
    {
     "name": "stdout",
     "output_type": "stream",
     "text": [
      "self.img_x_dim 28\n",
      "LR:0.01, MiniBatch Size:32\n"
     ]
    },
    {
     "name": "stderr",
     "output_type": "stream",
     "text": [
      "\r",
      "  2%|█▋                                                                                 | 1/50 [00:10<08:17, 10.16s/it]"
     ]
    },
    {
     "name": "stdout",
     "output_type": "stream",
     "text": [
      "iteration 0, error 1.60958\n"
     ]
    },
    {
     "name": "stderr",
     "output_type": "stream",
     "text": [
      " 12%|█████████▉                                                                         | 6/50 [00:59<07:04,  9.65s/it]"
     ]
    },
    {
     "name": "stdout",
     "output_type": "stream",
     "text": [
      "iteration 5, error 1.59755\n"
     ]
    },
    {
     "name": "stderr",
     "output_type": "stream",
     "text": [
      " 22%|██████████████████                                                                | 11/50 [01:45<05:58,  9.18s/it]"
     ]
    },
    {
     "name": "stdout",
     "output_type": "stream",
     "text": [
      "iteration 10, error 1.32319\n"
     ]
    },
    {
     "name": "stderr",
     "output_type": "stream",
     "text": [
      " 32%|██████████████████████████▏                                                       | 16/50 [02:30<05:07,  9.04s/it]"
     ]
    },
    {
     "name": "stdout",
     "output_type": "stream",
     "text": [
      "iteration 15, error 0.85345\n"
     ]
    },
    {
     "name": "stderr",
     "output_type": "stream",
     "text": [
      " 42%|██████████████████████████████████▍                                               | 21/50 [03:15<04:25,  9.17s/it]"
     ]
    },
    {
     "name": "stdout",
     "output_type": "stream",
     "text": [
      "iteration 20, error 0.57784\n"
     ]
    },
    {
     "name": "stderr",
     "output_type": "stream",
     "text": [
      " 52%|██████████████████████████████████████████▋                                       | 26/50 [04:03<03:47,  9.49s/it]"
     ]
    },
    {
     "name": "stdout",
     "output_type": "stream",
     "text": [
      "iteration 25, error 0.80363\n"
     ]
    },
    {
     "name": "stderr",
     "output_type": "stream",
     "text": [
      " 62%|██████████████████████████████████████████████████▊                               | 31/50 [04:49<02:54,  9.19s/it]"
     ]
    },
    {
     "name": "stdout",
     "output_type": "stream",
     "text": [
      "iteration 30, error 0.51846\n"
     ]
    },
    {
     "name": "stderr",
     "output_type": "stream",
     "text": [
      " 72%|███████████████████████████████████████████████████████████                       | 36/50 [05:34<02:06,  9.02s/it]"
     ]
    },
    {
     "name": "stdout",
     "output_type": "stream",
     "text": [
      "iteration 35, error 0.59393\n"
     ]
    },
    {
     "name": "stderr",
     "output_type": "stream",
     "text": [
      " 82%|███████████████████████████████████████████████████████████████████▏              | 41/50 [06:19<01:20,  8.99s/it]"
     ]
    },
    {
     "name": "stdout",
     "output_type": "stream",
     "text": [
      "iteration 40, error 0.28271\n"
     ]
    },
    {
     "name": "stderr",
     "output_type": "stream",
     "text": [
      " 92%|███████████████████████████████████████████████████████████████████████████▍      | 46/50 [07:06<00:37,  9.40s/it]"
     ]
    },
    {
     "name": "stdout",
     "output_type": "stream",
     "text": [
      "iteration 45, error 0.10830\n"
     ]
    },
    {
     "name": "stderr",
     "output_type": "stream",
     "text": [
      "100%|██████████████████████████████████████████████████████████████████████████████████| 50/50 [07:43<00:00,  9.27s/it]\n",
      "  0%|▎                                                                                 | 1/300 [00:00<00:42,  6.98it/s]"
     ]
    },
    {
     "name": "stdout",
     "output_type": "stream",
     "text": [
      "\n"
     ]
    },
    {
     "name": "stderr",
     "output_type": "stream",
     "text": [
      "100%|████████████████████████████████████████████████████████████████████████████████| 300/300 [00:41<00:00,  7.24it/s]\n",
      "100%|████████████████████████████████████████████████████████████████████████████████| 100/100 [00:13<00:00,  7.44it/s]\n"
     ]
    },
    {
     "name": "stdout",
     "output_type": "stream",
     "text": [
      "!!! confusion_mx [[54  0  0  0  1]\n",
      " [ 0 72  0  1  0]\n",
      " [ 1  3 56  1  4]\n",
      " [ 0  0  1 60  2]\n",
      " [ 0  1  0  0 43]]\n",
      "!!! Accuracy 0.95\n",
      "!!! confusion_mx [[15  0  0  0  0]\n",
      " [ 0 17  2  0  0]\n",
      " [ 0  1 25  1  1]\n",
      " [ 0  1  1 17  2]\n",
      " [ 1  1  0  0 15]]\n",
      "!!! Accuracy 0.89\n"
     ]
    },
    {
     "name": "stderr",
     "output_type": "stream",
     "text": [
      "100%|██████████████████████████████████████████████████████████████████████████| 35735/35735 [00:05<00:00, 6864.43it/s]\n",
      "  0%|                                                                                           | 0/50 [00:00<?, ?it/s]"
     ]
    },
    {
     "name": "stdout",
     "output_type": "stream",
     "text": [
      "self.img_x_dim 35\n",
      "LR:0.01, MiniBatch Size:32\n"
     ]
    },
    {
     "name": "stderr",
     "output_type": "stream",
     "text": [
      "\r",
      "  2%|█▋                                                                                 | 1/50 [00:16<13:07, 16.07s/it]"
     ]
    },
    {
     "name": "stdout",
     "output_type": "stream",
     "text": [
      "iteration 0, error 1.60960\n"
     ]
    },
    {
     "name": "stderr",
     "output_type": "stream",
     "text": [
      " 12%|█████████▉                                                                         | 6/50 [01:37<12:01, 16.39s/it]"
     ]
    },
    {
     "name": "stdout",
     "output_type": "stream",
     "text": [
      "iteration 5, error 1.60699\n"
     ]
    },
    {
     "name": "stderr",
     "output_type": "stream",
     "text": [
      " 22%|██████████████████                                                                | 11/50 [03:02<10:57, 16.86s/it]"
     ]
    },
    {
     "name": "stdout",
     "output_type": "stream",
     "text": [
      "iteration 10, error 1.59825\n"
     ]
    },
    {
     "name": "stderr",
     "output_type": "stream",
     "text": [
      " 32%|██████████████████████████▏                                                       | 16/50 [04:22<09:00, 15.88s/it]"
     ]
    },
    {
     "name": "stdout",
     "output_type": "stream",
     "text": [
      "iteration 15, error 1.55506\n"
     ]
    },
    {
     "name": "stderr",
     "output_type": "stream",
     "text": [
      " 42%|██████████████████████████████████▍                                               | 21/50 [05:39<07:31, 15.55s/it]"
     ]
    },
    {
     "name": "stdout",
     "output_type": "stream",
     "text": [
      "iteration 20, error 1.38945\n"
     ]
    },
    {
     "name": "stderr",
     "output_type": "stream",
     "text": [
      " 52%|██████████████████████████████████████████▋                                       | 26/50 [06:57<06:15, 15.64s/it]"
     ]
    },
    {
     "name": "stdout",
     "output_type": "stream",
     "text": [
      "iteration 25, error 1.04359\n"
     ]
    },
    {
     "name": "stderr",
     "output_type": "stream",
     "text": [
      " 62%|██████████████████████████████████████████████████▊                               | 31/50 [08:15<04:56, 15.60s/it]"
     ]
    },
    {
     "name": "stdout",
     "output_type": "stream",
     "text": [
      "iteration 30, error 0.99607\n"
     ]
    },
    {
     "name": "stderr",
     "output_type": "stream",
     "text": [
      " 72%|███████████████████████████████████████████████████████████                       | 36/50 [09:33<03:37, 15.57s/it]"
     ]
    },
    {
     "name": "stdout",
     "output_type": "stream",
     "text": [
      "iteration 35, error 1.21833\n"
     ]
    },
    {
     "name": "stderr",
     "output_type": "stream",
     "text": [
      " 82%|███████████████████████████████████████████████████████████████████▏              | 41/50 [10:51<02:20, 15.58s/it]"
     ]
    },
    {
     "name": "stdout",
     "output_type": "stream",
     "text": [
      "iteration 40, error 1.35168\n"
     ]
    },
    {
     "name": "stderr",
     "output_type": "stream",
     "text": [
      " 92%|███████████████████████████████████████████████████████████████████████████▍      | 46/50 [12:09<01:02, 15.58s/it]"
     ]
    },
    {
     "name": "stdout",
     "output_type": "stream",
     "text": [
      "iteration 45, error 0.77334\n"
     ]
    },
    {
     "name": "stderr",
     "output_type": "stream",
     "text": [
      "100%|██████████████████████████████████████████████████████████████████████████████████| 50/50 [13:11<00:00, 15.83s/it]\n",
      "  0%|                                                                                          | 0/300 [00:00<?, ?it/s]"
     ]
    },
    {
     "name": "stdout",
     "output_type": "stream",
     "text": [
      "\n"
     ]
    },
    {
     "name": "stderr",
     "output_type": "stream",
     "text": [
      "100%|████████████████████████████████████████████████████████████████████████████████| 300/300 [01:05<00:00,  4.56it/s]\n",
      "100%|████████████████████████████████████████████████████████████████████████████████| 100/100 [00:22<00:00,  4.51it/s]\n"
     ]
    },
    {
     "name": "stdout",
     "output_type": "stream",
     "text": [
      "!!! confusion_mx [[41  1  1  0  2]\n",
      " [ 0 72  0  2  2]\n",
      " [ 7  6 47  1  9]\n",
      " [ 2 11  7 25 11]\n",
      " [ 0  4  0  0 49]]\n",
      "!!! Accuracy 0.78\n",
      "!!! confusion_mx [[17  1  2  2  2]\n",
      " [ 1 19  1  0  3]\n",
      " [ 2  1  9  0  3]\n",
      " [ 2  8  4  5  1]\n",
      " [ 0  1  0  0 16]]\n",
      "!!! Accuracy 0.66\n"
     ]
    },
    {
     "name": "stderr",
     "output_type": "stream",
     "text": [
      "100%|██████████████████████████████████████████████████████████████████████████| 35735/35735 [00:05<00:00, 6950.73it/s]\n",
      "  0%|                                                                                           | 0/50 [00:00<?, ?it/s]"
     ]
    },
    {
     "name": "stdout",
     "output_type": "stream",
     "text": [
      "self.img_x_dim 41\n",
      "LR:0.01, MiniBatch Size:32\n"
     ]
    },
    {
     "name": "stderr",
     "output_type": "stream",
     "text": [
      "\r",
      "  2%|█▋                                                                                 | 1/50 [00:22<18:17, 22.39s/it]"
     ]
    },
    {
     "name": "stdout",
     "output_type": "stream",
     "text": [
      "iteration 0, error 1.60930\n"
     ]
    },
    {
     "name": "stderr",
     "output_type": "stream",
     "text": [
      " 12%|█████████▉                                                                         | 6/50 [02:15<16:35, 22.64s/it]"
     ]
    },
    {
     "name": "stdout",
     "output_type": "stream",
     "text": [
      "iteration 5, error 1.61713\n"
     ]
    },
    {
     "name": "stderr",
     "output_type": "stream",
     "text": [
      " 22%|██████████████████                                                                | 11/50 [04:24<16:32, 25.46s/it]"
     ]
    },
    {
     "name": "stdout",
     "output_type": "stream",
     "text": [
      "iteration 10, error 1.60008\n"
     ]
    },
    {
     "name": "stderr",
     "output_type": "stream",
     "text": [
      " 32%|██████████████████████████▏                                                       | 16/50 [06:38<15:09, 26.76s/it]"
     ]
    },
    {
     "name": "stdout",
     "output_type": "stream",
     "text": [
      "iteration 15, error 1.53969\n"
     ]
    },
    {
     "name": "stderr",
     "output_type": "stream",
     "text": [
      " 42%|██████████████████████████████████▍                                               | 21/50 [08:50<12:48, 26.50s/it]"
     ]
    },
    {
     "name": "stdout",
     "output_type": "stream",
     "text": [
      "iteration 20, error 1.59874\n"
     ]
    },
    {
     "name": "stderr",
     "output_type": "stream",
     "text": [
      " 52%|██████████████████████████████████████████▋                                       | 26/50 [11:02<10:41, 26.71s/it]"
     ]
    },
    {
     "name": "stdout",
     "output_type": "stream",
     "text": [
      "iteration 25, error 1.55631\n"
     ]
    },
    {
     "name": "stderr",
     "output_type": "stream",
     "text": [
      " 62%|██████████████████████████████████████████████████▊                               | 31/50 [13:21<08:40, 27.42s/it]"
     ]
    },
    {
     "name": "stdout",
     "output_type": "stream",
     "text": [
      "iteration 30, error 1.74567\n"
     ]
    },
    {
     "name": "stderr",
     "output_type": "stream",
     "text": [
      " 72%|███████████████████████████████████████████████████████████                       | 36/50 [15:39<06:24, 27.48s/it]"
     ]
    },
    {
     "name": "stdout",
     "output_type": "stream",
     "text": [
      "iteration 35, error 1.36334\n"
     ]
    },
    {
     "name": "stderr",
     "output_type": "stream",
     "text": [
      " 82%|███████████████████████████████████████████████████████████████████▏              | 41/50 [17:54<04:00, 26.75s/it]"
     ]
    },
    {
     "name": "stdout",
     "output_type": "stream",
     "text": [
      "iteration 40, error 1.19878\n"
     ]
    },
    {
     "name": "stderr",
     "output_type": "stream",
     "text": [
      " 92%|███████████████████████████████████████████████████████████████████████████▍      | 46/50 [20:06<01:46, 26.71s/it]"
     ]
    },
    {
     "name": "stdout",
     "output_type": "stream",
     "text": [
      "iteration 45, error 1.12494\n"
     ]
    },
    {
     "name": "stderr",
     "output_type": "stream",
     "text": [
      "100%|██████████████████████████████████████████████████████████████████████████████████| 50/50 [21:51<00:00, 26.23s/it]\n",
      "  0%|                                                                                          | 0/300 [00:00<?, ?it/s]"
     ]
    },
    {
     "name": "stdout",
     "output_type": "stream",
     "text": [
      "\n"
     ]
    },
    {
     "name": "stderr",
     "output_type": "stream",
     "text": [
      "100%|████████████████████████████████████████████████████████████████████████████████| 300/300 [01:48<00:00,  2.76it/s]\n",
      "100%|████████████████████████████████████████████████████████████████████████████████| 100/100 [00:37<00:00,  2.69it/s]\n"
     ]
    },
    {
     "name": "stdout",
     "output_type": "stream",
     "text": [
      "!!! confusion_mx [[16  0  1 49  0]\n",
      " [ 0 12  0 55  0]\n",
      " [ 6  0  8 42  0]\n",
      " [ 1  0  0 67  0]\n",
      " [ 1  0  1 30 11]]\n",
      "!!! Accuracy 0.38\n",
      "!!! confusion_mx [[ 2  0  1  8  0]\n",
      " [ 1  3  0 22  0]\n",
      " [ 0  0  1 20  0]\n",
      " [ 3  0  0 23  0]\n",
      " [ 2  0  1 11  2]]\n",
      "!!! Accuracy 0.31\n"
     ]
    },
    {
     "name": "stderr",
     "output_type": "stream",
     "text": [
      "100%|██████████████████████████████████████████████████████████████████████████| 35735/35735 [00:06<00:00, 5642.15it/s]\n",
      "  0%|                                                                                           | 0/50 [00:00<?, ?it/s]"
     ]
    },
    {
     "name": "stdout",
     "output_type": "stream",
     "text": [
      "self.img_x_dim 48\n",
      "LR:0.01, MiniBatch Size:32\n"
     ]
    },
    {
     "name": "stderr",
     "output_type": "stream",
     "text": [
      "\r",
      "  2%|█▋                                                                                 | 1/50 [00:38<31:27, 38.52s/it]"
     ]
    },
    {
     "name": "stdout",
     "output_type": "stream",
     "text": [
      "iteration 0, error 1.60942\n"
     ]
    },
    {
     "name": "stderr",
     "output_type": "stream",
     "text": [
      " 12%|█████████▉                                                                         | 6/50 [03:46<27:27, 37.43s/it]"
     ]
    },
    {
     "name": "stdout",
     "output_type": "stream",
     "text": [
      "iteration 5, error 1.60887\n"
     ]
    },
    {
     "name": "stderr",
     "output_type": "stream",
     "text": [
      " 22%|██████████████████                                                                | 11/50 [06:47<23:13, 35.74s/it]"
     ]
    },
    {
     "name": "stdout",
     "output_type": "stream",
     "text": [
      "iteration 10, error 1.60742\n"
     ]
    },
    {
     "name": "stderr",
     "output_type": "stream",
     "text": [
      " 32%|██████████████████████████▏                                                       | 16/50 [09:32<18:55, 33.40s/it]"
     ]
    },
    {
     "name": "stdout",
     "output_type": "stream",
     "text": [
      "iteration 15, error 1.59042\n"
     ]
    },
    {
     "name": "stderr",
     "output_type": "stream",
     "text": [
      " 42%|██████████████████████████████████▍                                               | 21/50 [12:38<17:55, 37.08s/it]"
     ]
    },
    {
     "name": "stdout",
     "output_type": "stream",
     "text": [
      "iteration 20, error 1.55788\n"
     ]
    },
    {
     "name": "stderr",
     "output_type": "stream",
     "text": [
      " 52%|██████████████████████████████████████████▋                                       | 26/50 [15:57<15:42, 39.26s/it]"
     ]
    },
    {
     "name": "stdout",
     "output_type": "stream",
     "text": [
      "iteration 25, error 1.62132\n"
     ]
    },
    {
     "name": "stderr",
     "output_type": "stream",
     "text": [
      " 62%|██████████████████████████████████████████████████▊                               | 31/50 [19:07<11:54, 37.60s/it]"
     ]
    },
    {
     "name": "stdout",
     "output_type": "stream",
     "text": [
      "iteration 30, error 1.49448\n"
     ]
    },
    {
     "name": "stderr",
     "output_type": "stream",
     "text": [
      " 72%|███████████████████████████████████████████████████████████                       | 36/50 [22:21<09:03, 38.79s/it]"
     ]
    },
    {
     "name": "stdout",
     "output_type": "stream",
     "text": [
      "iteration 35, error 1.41091\n"
     ]
    },
    {
     "name": "stderr",
     "output_type": "stream",
     "text": [
      " 82%|███████████████████████████████████████████████████████████████████▏              | 41/50 [25:29<05:40, 37.88s/it]"
     ]
    },
    {
     "name": "stdout",
     "output_type": "stream",
     "text": [
      "iteration 40, error 1.11142\n"
     ]
    },
    {
     "name": "stderr",
     "output_type": "stream",
     "text": [
      " 92%|███████████████████████████████████████████████████████████████████████████▍      | 46/50 [28:42<02:32, 38.24s/it]"
     ]
    },
    {
     "name": "stdout",
     "output_type": "stream",
     "text": [
      "iteration 45, error 1.30544\n"
     ]
    },
    {
     "name": "stderr",
     "output_type": "stream",
     "text": [
      "100%|██████████████████████████████████████████████████████████████████████████████████| 50/50 [31:20<00:00, 37.60s/it]\n",
      "  0%|                                                                                          | 0/300 [00:00<?, ?it/s]"
     ]
    },
    {
     "name": "stdout",
     "output_type": "stream",
     "text": [
      "\n"
     ]
    },
    {
     "name": "stderr",
     "output_type": "stream",
     "text": [
      "100%|████████████████████████████████████████████████████████████████████████████████| 300/300 [02:36<00:00,  1.92it/s]\n",
      "100%|████████████████████████████████████████████████████████████████████████████████| 100/100 [00:51<00:00,  1.94it/s]\n"
     ]
    },
    {
     "name": "stdout",
     "output_type": "stream",
     "text": [
      "!!! confusion_mx [[ 5  4 23 18  7]\n",
      " [ 0 45  3  3  5]\n",
      " [ 0  4 36  7  4]\n",
      " [ 0  7 11 54  5]\n",
      " [ 0  8 11 12 28]]\n",
      "!!! Accuracy 0.56\n",
      "!!! confusion_mx [[ 0  1  7 12  2]\n",
      " [ 0  9  2  5  4]\n",
      " [ 1  0 12  3  0]\n",
      " [ 1  2  6 10  7]\n",
      " [ 0  2  5  6  3]]\n",
      "!!! Accuracy 0.34\n"
     ]
    },
    {
     "name": "stderr",
     "output_type": "stream",
     "text": [
      "100%|██████████████████████████████████████████████████████████████████████████| 35735/35735 [00:06<00:00, 5751.62it/s]\n",
      "  0%|                                                                                           | 0/50 [00:00<?, ?it/s]"
     ]
    },
    {
     "name": "stdout",
     "output_type": "stream",
     "text": [
      "self.img_x_dim 28\n",
      "LR:0.01, MiniBatch Size:32\n"
     ]
    },
    {
     "name": "stderr",
     "output_type": "stream",
     "text": [
      "\r",
      "  2%|█▋                                                                                 | 1/50 [00:10<08:30, 10.43s/it]"
     ]
    },
    {
     "name": "stdout",
     "output_type": "stream",
     "text": [
      "iteration 0, error 1.60928\n"
     ]
    },
    {
     "name": "stderr",
     "output_type": "stream",
     "text": [
      " 12%|█████████▉                                                                         | 6/50 [01:02<07:35, 10.35s/it]"
     ]
    },
    {
     "name": "stdout",
     "output_type": "stream",
     "text": [
      "iteration 5, error 1.60188\n"
     ]
    },
    {
     "name": "stderr",
     "output_type": "stream",
     "text": [
      " 22%|██████████████████                                                                | 11/50 [01:51<06:15,  9.64s/it]"
     ]
    },
    {
     "name": "stdout",
     "output_type": "stream",
     "text": [
      "iteration 10, error 1.06575\n"
     ]
    },
    {
     "name": "stderr",
     "output_type": "stream",
     "text": [
      " 32%|██████████████████████████▏                                                       | 16/50 [02:36<05:11,  9.17s/it]"
     ]
    },
    {
     "name": "stdout",
     "output_type": "stream",
     "text": [
      "iteration 15, error 1.12874\n"
     ]
    },
    {
     "name": "stderr",
     "output_type": "stream",
     "text": [
      " 42%|██████████████████████████████████▍                                               | 21/50 [03:21<04:21,  9.02s/it]"
     ]
    },
    {
     "name": "stdout",
     "output_type": "stream",
     "text": [
      "iteration 20, error 0.94159\n"
     ]
    },
    {
     "name": "stderr",
     "output_type": "stream",
     "text": [
      " 52%|██████████████████████████████████████████▋                                       | 26/50 [04:06<03:34,  8.95s/it]"
     ]
    },
    {
     "name": "stdout",
     "output_type": "stream",
     "text": [
      "iteration 25, error 0.57994\n"
     ]
    },
    {
     "name": "stderr",
     "output_type": "stream",
     "text": [
      " 62%|██████████████████████████████████████████████████▊                               | 31/50 [04:51<02:50,  8.96s/it]"
     ]
    },
    {
     "name": "stdout",
     "output_type": "stream",
     "text": [
      "iteration 30, error 0.33471\n"
     ]
    },
    {
     "name": "stderr",
     "output_type": "stream",
     "text": [
      " 72%|███████████████████████████████████████████████████████████                       | 36/50 [05:35<02:05,  8.96s/it]"
     ]
    },
    {
     "name": "stdout",
     "output_type": "stream",
     "text": [
      "iteration 35, error 0.34350\n"
     ]
    },
    {
     "name": "stderr",
     "output_type": "stream",
     "text": [
      " 82%|███████████████████████████████████████████████████████████████████▏              | 41/50 [06:20<01:20,  9.00s/it]"
     ]
    },
    {
     "name": "stdout",
     "output_type": "stream",
     "text": [
      "iteration 40, error 0.19014\n"
     ]
    },
    {
     "name": "stderr",
     "output_type": "stream",
     "text": [
      " 92%|███████████████████████████████████████████████████████████████████████████▍      | 46/50 [07:05<00:36,  9.02s/it]"
     ]
    },
    {
     "name": "stdout",
     "output_type": "stream",
     "text": [
      "iteration 45, error 0.08876\n"
     ]
    },
    {
     "name": "stderr",
     "output_type": "stream",
     "text": [
      "100%|██████████████████████████████████████████████████████████████████████████████████| 50/50 [07:41<00:00,  9.23s/it]\n",
      "  0%|▏                                                                                 | 1/500 [00:00<01:06,  7.46it/s]"
     ]
    },
    {
     "name": "stdout",
     "output_type": "stream",
     "text": [
      "\n"
     ]
    },
    {
     "name": "stderr",
     "output_type": "stream",
     "text": [
      "100%|████████████████████████████████████████████████████████████████████████████████| 500/500 [01:09<00:00,  7.24it/s]\n",
      "100%|████████████████████████████████████████████████████████████████████████████████| 100/100 [00:13<00:00,  7.15it/s]\n"
     ]
    },
    {
     "name": "stdout",
     "output_type": "stream",
     "text": [
      "!!! confusion_mx [[ 88   0   9   0   0]\n",
      " [  0 100   5   0   0]\n",
      " [  1   0 102   0   0]\n",
      " [  1   0  23  75   2]\n",
      " [  0   1   1   0  92]]\n",
      "!!! Accuracy 0.914\n",
      "!!! confusion_mx [[19  0  1  0  0]\n",
      " [ 0 23  0  0  0]\n",
      " [ 0  0 25  0  0]\n",
      " [ 0  1  6 14  0]\n",
      " [ 0  0  0  0 11]]\n",
      "!!! Accuracy 0.92\n"
     ]
    },
    {
     "name": "stderr",
     "output_type": "stream",
     "text": [
      "100%|██████████████████████████████████████████████████████████████████████████| 35735/35735 [00:05<00:00, 6148.90it/s]\n",
      "  0%|                                                                                           | 0/50 [00:00<?, ?it/s]"
     ]
    },
    {
     "name": "stdout",
     "output_type": "stream",
     "text": [
      "self.img_x_dim 35\n",
      "LR:0.01, MiniBatch Size:32\n"
     ]
    },
    {
     "name": "stderr",
     "output_type": "stream",
     "text": [
      "\r",
      "  2%|█▋                                                                                 | 1/50 [00:18<15:26, 18.90s/it]"
     ]
    },
    {
     "name": "stdout",
     "output_type": "stream",
     "text": [
      "iteration 0, error 1.60930\n"
     ]
    },
    {
     "name": "stderr",
     "output_type": "stream",
     "text": [
      " 12%|█████████▉                                                                         | 6/50 [01:49<13:11, 18.00s/it]"
     ]
    },
    {
     "name": "stdout",
     "output_type": "stream",
     "text": [
      "iteration 5, error 1.60481\n"
     ]
    },
    {
     "name": "stderr",
     "output_type": "stream",
     "text": [
      " 22%|██████████████████                                                                | 11/50 [03:15<11:22, 17.51s/it]"
     ]
    },
    {
     "name": "stdout",
     "output_type": "stream",
     "text": [
      "iteration 10, error 1.86918\n"
     ]
    },
    {
     "name": "stderr",
     "output_type": "stream",
     "text": [
      " 32%|██████████████████████████▏                                                       | 16/50 [04:44<10:01, 17.69s/it]"
     ]
    },
    {
     "name": "stdout",
     "output_type": "stream",
     "text": [
      "iteration 15, error 1.53112\n"
     ]
    },
    {
     "name": "stderr",
     "output_type": "stream",
     "text": [
      " 42%|██████████████████████████████████▍                                               | 21/50 [06:09<08:10, 16.92s/it]"
     ]
    },
    {
     "name": "stdout",
     "output_type": "stream",
     "text": [
      "iteration 20, error 1.58344\n"
     ]
    },
    {
     "name": "stderr",
     "output_type": "stream",
     "text": [
      " 52%|██████████████████████████████████████████▋                                       | 26/50 [07:39<07:13, 18.07s/it]"
     ]
    },
    {
     "name": "stdout",
     "output_type": "stream",
     "text": [
      "iteration 25, error 1.01369\n"
     ]
    },
    {
     "name": "stderr",
     "output_type": "stream",
     "text": [
      " 62%|██████████████████████████████████████████████████▊                               | 31/50 [09:10<05:38, 17.82s/it]"
     ]
    },
    {
     "name": "stdout",
     "output_type": "stream",
     "text": [
      "iteration 30, error 1.16913\n"
     ]
    },
    {
     "name": "stderr",
     "output_type": "stream",
     "text": [
      " 72%|███████████████████████████████████████████████████████████                       | 36/50 [10:39<04:09, 17.86s/it]"
     ]
    },
    {
     "name": "stdout",
     "output_type": "stream",
     "text": [
      "iteration 35, error 0.84088\n"
     ]
    },
    {
     "name": "stderr",
     "output_type": "stream",
     "text": [
      " 82%|███████████████████████████████████████████████████████████████████▏              | 41/50 [12:09<02:41, 17.92s/it]"
     ]
    },
    {
     "name": "stdout",
     "output_type": "stream",
     "text": [
      "iteration 40, error 0.99860\n"
     ]
    },
    {
     "name": "stderr",
     "output_type": "stream",
     "text": [
      " 92%|███████████████████████████████████████████████████████████████████████████▍      | 46/50 [13:37<01:10, 17.71s/it]"
     ]
    },
    {
     "name": "stdout",
     "output_type": "stream",
     "text": [
      "iteration 45, error 0.40460\n"
     ]
    },
    {
     "name": "stderr",
     "output_type": "stream",
     "text": [
      "100%|██████████████████████████████████████████████████████████████████████████████████| 50/50 [14:49<00:00, 17.79s/it]\n",
      "  0%|                                                                                          | 0/500 [00:00<?, ?it/s]"
     ]
    },
    {
     "name": "stdout",
     "output_type": "stream",
     "text": [
      "\n"
     ]
    },
    {
     "name": "stderr",
     "output_type": "stream",
     "text": [
      "100%|████████████████████████████████████████████████████████████████████████████████| 500/500 [02:04<00:00,  4.03it/s]\n",
      "100%|████████████████████████████████████████████████████████████████████████████████| 100/100 [00:25<00:00,  3.98it/s]\n"
     ]
    },
    {
     "name": "stdout",
     "output_type": "stream",
     "text": [
      "!!! confusion_mx [[ 93   1   1   0   6]\n",
      " [  2 103   0   0   5]\n",
      " [ 35   6  36   3  20]\n",
      " [ 28  16   0  30  20]\n",
      " [  0   1   0   0  94]]\n",
      "!!! Accuracy 0.712\n",
      "!!! confusion_mx [[22  0  0  0  0]\n",
      " [ 0 24  0  1  2]\n",
      " [ 2  1  6  3  2]\n",
      " [ 2  3  1 10  2]\n",
      " [ 0  1  0  0 18]]\n",
      "!!! Accuracy 0.8\n"
     ]
    },
    {
     "name": "stderr",
     "output_type": "stream",
     "text": [
      "100%|██████████████████████████████████████████████████████████████████████████| 35735/35735 [00:06<00:00, 5615.93it/s]\n",
      "  0%|                                                                                           | 0/50 [00:00<?, ?it/s]"
     ]
    },
    {
     "name": "stdout",
     "output_type": "stream",
     "text": [
      "self.img_x_dim 41\n",
      "LR:0.01, MiniBatch Size:32\n"
     ]
    },
    {
     "name": "stderr",
     "output_type": "stream",
     "text": [
      "\r",
      "  2%|█▋                                                                                 | 1/50 [00:26<21:19, 26.12s/it]"
     ]
    },
    {
     "name": "stdout",
     "output_type": "stream",
     "text": [
      "iteration 0, error 1.60942\n"
     ]
    },
    {
     "name": "stderr",
     "output_type": "stream",
     "text": [
      " 12%|█████████▉                                                                         | 6/50 [02:19<16:47, 22.89s/it]"
     ]
    },
    {
     "name": "stdout",
     "output_type": "stream",
     "text": [
      "iteration 5, error 1.60792\n"
     ]
    },
    {
     "name": "stderr",
     "output_type": "stream",
     "text": [
      " 22%|██████████████████                                                                | 11/50 [04:13<14:48, 22.79s/it]"
     ]
    },
    {
     "name": "stdout",
     "output_type": "stream",
     "text": [
      "iteration 10, error 1.58560\n"
     ]
    },
    {
     "name": "stderr",
     "output_type": "stream",
     "text": [
      " 32%|██████████████████████████▏                                                       | 16/50 [06:06<12:50, 22.66s/it]"
     ]
    },
    {
     "name": "stdout",
     "output_type": "stream",
     "text": [
      "iteration 15, error 1.58024\n"
     ]
    },
    {
     "name": "stderr",
     "output_type": "stream",
     "text": [
      " 42%|██████████████████████████████████▍                                               | 21/50 [08:00<10:58, 22.70s/it]"
     ]
    },
    {
     "name": "stdout",
     "output_type": "stream",
     "text": [
      "iteration 20, error 1.52028\n"
     ]
    },
    {
     "name": "stderr",
     "output_type": "stream",
     "text": [
      " 52%|██████████████████████████████████████████▋                                       | 26/50 [09:53<09:03, 22.66s/it]"
     ]
    },
    {
     "name": "stdout",
     "output_type": "stream",
     "text": [
      "iteration 25, error 1.56140\n"
     ]
    },
    {
     "name": "stderr",
     "output_type": "stream",
     "text": [
      " 62%|██████████████████████████████████████████████████▊                               | 31/50 [11:46<07:09, 22.63s/it]"
     ]
    },
    {
     "name": "stdout",
     "output_type": "stream",
     "text": [
      "iteration 30, error 1.27462\n"
     ]
    },
    {
     "name": "stderr",
     "output_type": "stream",
     "text": [
      " 72%|███████████████████████████████████████████████████████████                       | 36/50 [13:39<05:16, 22.60s/it]"
     ]
    },
    {
     "name": "stdout",
     "output_type": "stream",
     "text": [
      "iteration 35, error 1.22793\n"
     ]
    },
    {
     "name": "stderr",
     "output_type": "stream",
     "text": [
      " 82%|███████████████████████████████████████████████████████████████████▏              | 41/50 [15:33<03:24, 22.70s/it]"
     ]
    },
    {
     "name": "stdout",
     "output_type": "stream",
     "text": [
      "iteration 40, error 1.25657\n"
     ]
    },
    {
     "name": "stderr",
     "output_type": "stream",
     "text": [
      " 92%|███████████████████████████████████████████████████████████████████████████▍      | 46/50 [17:26<01:30, 22.69s/it]"
     ]
    },
    {
     "name": "stdout",
     "output_type": "stream",
     "text": [
      "iteration 45, error 0.92599\n"
     ]
    },
    {
     "name": "stderr",
     "output_type": "stream",
     "text": [
      "100%|██████████████████████████████████████████████████████████████████████████████████| 50/50 [18:57<00:00, 22.75s/it]\n",
      "  0%|                                                                                          | 0/500 [00:00<?, ?it/s]"
     ]
    },
    {
     "name": "stdout",
     "output_type": "stream",
     "text": [
      "\n"
     ]
    },
    {
     "name": "stderr",
     "output_type": "stream",
     "text": [
      "100%|████████████████████████████████████████████████████████████████████████████████| 500/500 [02:40<00:00,  3.12it/s]\n",
      "100%|████████████████████████████████████████████████████████████████████████████████| 100/100 [00:31<00:00,  3.15it/s]\n"
     ]
    },
    {
     "name": "stdout",
     "output_type": "stream",
     "text": [
      "!!! confusion_mx [[85  0  8  3  0]\n",
      " [ 1 91  5  6  0]\n",
      " [43  0 60  1  0]\n",
      " [39  6 17 36  0]\n",
      " [44  4 20  8 23]]\n",
      "!!! Accuracy 0.59\n",
      "!!! confusion_mx [[21  0  3  2  0]\n",
      " [ 1 15  3  1  0]\n",
      " [13  0  7  2  0]\n",
      " [ 6  0  4  7  0]\n",
      " [ 5  2  3  4  1]]\n",
      "!!! Accuracy 0.51\n"
     ]
    },
    {
     "name": "stderr",
     "output_type": "stream",
     "text": [
      "100%|██████████████████████████████████████████████████████████████████████████| 35735/35735 [00:05<00:00, 6366.93it/s]\n",
      "  0%|                                                                                           | 0/50 [00:00<?, ?it/s]"
     ]
    },
    {
     "name": "stdout",
     "output_type": "stream",
     "text": [
      "self.img_x_dim 48\n",
      "LR:0.01, MiniBatch Size:32\n"
     ]
    },
    {
     "name": "stderr",
     "output_type": "stream",
     "text": [
      "\r",
      "  2%|█▋                                                                                 | 1/50 [00:32<26:43, 32.73s/it]"
     ]
    },
    {
     "name": "stdout",
     "output_type": "stream",
     "text": [
      "iteration 0, error 1.60949\n"
     ]
    },
    {
     "name": "stderr",
     "output_type": "stream",
     "text": [
      " 12%|█████████▉                                                                         | 6/50 [03:16<24:02, 32.78s/it]"
     ]
    },
    {
     "name": "stdout",
     "output_type": "stream",
     "text": [
      "iteration 5, error 1.60894\n"
     ]
    },
    {
     "name": "stderr",
     "output_type": "stream",
     "text": [
      " 22%|██████████████████                                                                | 11/50 [06:00<21:18, 32.78s/it]"
     ]
    },
    {
     "name": "stdout",
     "output_type": "stream",
     "text": [
      "iteration 10, error 1.60814\n"
     ]
    },
    {
     "name": "stderr",
     "output_type": "stream",
     "text": [
      " 32%|██████████████████████████▏                                                       | 16/50 [08:45<18:42, 33.02s/it]"
     ]
    },
    {
     "name": "stdout",
     "output_type": "stream",
     "text": [
      "iteration 15, error 1.61688\n"
     ]
    },
    {
     "name": "stderr",
     "output_type": "stream",
     "text": [
      " 42%|██████████████████████████████████▍                                               | 21/50 [11:30<15:57, 33.01s/it]"
     ]
    },
    {
     "name": "stdout",
     "output_type": "stream",
     "text": [
      "iteration 20, error 1.52937\n"
     ]
    },
    {
     "name": "stderr",
     "output_type": "stream",
     "text": [
      " 52%|██████████████████████████████████████████▋                                       | 26/50 [14:18<13:20, 33.35s/it]"
     ]
    },
    {
     "name": "stdout",
     "output_type": "stream",
     "text": [
      "iteration 25, error 1.52228\n"
     ]
    },
    {
     "name": "stderr",
     "output_type": "stream",
     "text": [
      " 62%|██████████████████████████████████████████████████▊                               | 31/50 [17:04<10:29, 33.15s/it]"
     ]
    },
    {
     "name": "stdout",
     "output_type": "stream",
     "text": [
      "iteration 30, error 1.54520\n"
     ]
    },
    {
     "name": "stderr",
     "output_type": "stream",
     "text": [
      " 72%|███████████████████████████████████████████████████████████                       | 36/50 [19:49<07:42, 33.02s/it]"
     ]
    },
    {
     "name": "stdout",
     "output_type": "stream",
     "text": [
      "iteration 35, error 1.53234\n"
     ]
    },
    {
     "name": "stderr",
     "output_type": "stream",
     "text": [
      " 82%|███████████████████████████████████████████████████████████████████▏              | 41/50 [22:34<04:57, 33.04s/it]"
     ]
    },
    {
     "name": "stdout",
     "output_type": "stream",
     "text": [
      "iteration 40, error 1.42236\n"
     ]
    },
    {
     "name": "stderr",
     "output_type": "stream",
     "text": [
      " 92%|███████████████████████████████████████████████████████████████████████████▍      | 46/50 [25:19<02:12, 33.03s/it]"
     ]
    },
    {
     "name": "stdout",
     "output_type": "stream",
     "text": [
      "iteration 45, error 1.31284\n"
     ]
    },
    {
     "name": "stderr",
     "output_type": "stream",
     "text": [
      "100%|██████████████████████████████████████████████████████████████████████████████████| 50/50 [27:31<00:00, 33.03s/it]\n",
      "  0%|                                                                                          | 0/500 [00:00<?, ?it/s]"
     ]
    },
    {
     "name": "stdout",
     "output_type": "stream",
     "text": [
      "\n"
     ]
    },
    {
     "name": "stderr",
     "output_type": "stream",
     "text": [
      "100%|████████████████████████████████████████████████████████████████████████████████| 500/500 [03:47<00:00,  2.19it/s]\n",
      "100%|████████████████████████████████████████████████████████████████████████████████| 100/100 [00:45<00:00,  2.20it/s]\n"
     ]
    },
    {
     "name": "stdout",
     "output_type": "stream",
     "text": [
      "!!! confusion_mx [[63 11 22  4  2]\n",
      " [12 67 14  0  6]\n",
      " [21  7 81  1  2]\n",
      " [15 11 51 11  4]\n",
      " [27 10 35  3 20]]\n",
      "!!! Accuracy 0.484\n",
      "!!! confusion_mx [[15  1  7  0  0]\n",
      " [ 3 14  5  0  0]\n",
      " [ 6  8  9  1  1]\n",
      " [ 4  6  8  0  0]\n",
      " [ 3  2  6  1  0]]\n",
      "!!! Accuracy 0.38\n"
     ]
    },
    {
     "name": "stderr",
     "output_type": "stream",
     "text": [
      "100%|██████████████████████████████████████████████████████████████████████████| 35735/35735 [00:05<00:00, 6695.59it/s]\n",
      "  0%|                                                                                           | 0/50 [00:00<?, ?it/s]"
     ]
    },
    {
     "name": "stdout",
     "output_type": "stream",
     "text": [
      "self.img_x_dim 28\n",
      "LR:0.01, MiniBatch Size:32\n"
     ]
    },
    {
     "name": "stderr",
     "output_type": "stream",
     "text": [
      "\r",
      "  2%|█▋                                                                                 | 1/50 [00:09<07:23,  9.06s/it]"
     ]
    },
    {
     "name": "stdout",
     "output_type": "stream",
     "text": [
      "iteration 0, error 1.60954\n"
     ]
    },
    {
     "name": "stderr",
     "output_type": "stream",
     "text": [
      " 12%|█████████▉                                                                         | 6/50 [00:54<06:37,  9.03s/it]"
     ]
    },
    {
     "name": "stdout",
     "output_type": "stream",
     "text": [
      "iteration 5, error 1.60599\n"
     ]
    },
    {
     "name": "stderr",
     "output_type": "stream",
     "text": [
      " 22%|██████████████████                                                                | 11/50 [01:39<05:53,  9.06s/it]"
     ]
    },
    {
     "name": "stdout",
     "output_type": "stream",
     "text": [
      "iteration 10, error 1.48765\n"
     ]
    },
    {
     "name": "stderr",
     "output_type": "stream",
     "text": [
      " 32%|██████████████████████████▏                                                       | 16/50 [02:24<05:06,  9.01s/it]"
     ]
    },
    {
     "name": "stdout",
     "output_type": "stream",
     "text": [
      "iteration 15, error 1.19788\n"
     ]
    },
    {
     "name": "stderr",
     "output_type": "stream",
     "text": [
      " 42%|██████████████████████████████████▍                                               | 21/50 [03:09<04:21,  9.03s/it]"
     ]
    },
    {
     "name": "stdout",
     "output_type": "stream",
     "text": [
      "iteration 20, error 0.48095\n"
     ]
    },
    {
     "name": "stderr",
     "output_type": "stream",
     "text": [
      " 52%|██████████████████████████████████████████▋                                       | 26/50 [03:54<03:37,  9.05s/it]"
     ]
    },
    {
     "name": "stdout",
     "output_type": "stream",
     "text": [
      "iteration 25, error 0.65062\n"
     ]
    },
    {
     "name": "stderr",
     "output_type": "stream",
     "text": [
      " 62%|██████████████████████████████████████████████████▊                               | 31/50 [04:39<02:51,  9.03s/it]"
     ]
    },
    {
     "name": "stdout",
     "output_type": "stream",
     "text": [
      "iteration 30, error 0.56137\n"
     ]
    },
    {
     "name": "stderr",
     "output_type": "stream",
     "text": [
      " 72%|███████████████████████████████████████████████████████████                       | 36/50 [05:24<02:05,  8.98s/it]"
     ]
    },
    {
     "name": "stdout",
     "output_type": "stream",
     "text": [
      "iteration 35, error 0.33266\n"
     ]
    },
    {
     "name": "stderr",
     "output_type": "stream",
     "text": [
      " 82%|███████████████████████████████████████████████████████████████████▏              | 41/50 [06:09<01:20,  8.96s/it]"
     ]
    },
    {
     "name": "stdout",
     "output_type": "stream",
     "text": [
      "iteration 40, error 0.13363\n"
     ]
    },
    {
     "name": "stderr",
     "output_type": "stream",
     "text": [
      " 92%|███████████████████████████████████████████████████████████████████████████▍      | 46/50 [06:54<00:35,  8.92s/it]"
     ]
    },
    {
     "name": "stdout",
     "output_type": "stream",
     "text": [
      "iteration 45, error 0.36017\n"
     ]
    },
    {
     "name": "stderr",
     "output_type": "stream",
     "text": [
      "100%|██████████████████████████████████████████████████████████████████████████████████| 50/50 [07:30<00:00,  9.00s/it]\n",
      "  0%|                                                                                 | 1/1000 [00:00<02:25,  6.85it/s]"
     ]
    },
    {
     "name": "stdout",
     "output_type": "stream",
     "text": [
      "\n"
     ]
    },
    {
     "name": "stderr",
     "output_type": "stream",
     "text": [
      "100%|██████████████████████████████████████████████████████████████████████████████| 1000/1000 [02:12<00:00,  7.54it/s]\n",
      "100%|████████████████████████████████████████████████████████████████████████████████| 100/100 [00:13<00:00,  7.54it/s]\n"
     ]
    },
    {
     "name": "stdout",
     "output_type": "stream",
     "text": [
      "!!! confusion_mx [[185   0   7   0   0]\n",
      " [  0 218  11   1   1]\n",
      " [  4   0 191   4   2]\n",
      " [ 11   1   4 176   0]\n",
      " [  2   2   6   1 173]]\n",
      "!!! Accuracy 0.943\n",
      "!!! confusion_mx [[18  0  0  0  0]\n",
      " [ 0 26  0  1  0]\n",
      " [ 0  0 17  0  0]\n",
      " [ 0  0  1 24  0]\n",
      " [ 0  2  0  0 11]]\n",
      "!!! Accuracy 0.96\n"
     ]
    },
    {
     "name": "stderr",
     "output_type": "stream",
     "text": [
      "100%|██████████████████████████████████████████████████████████████████████████| 35735/35735 [00:05<00:00, 6846.29it/s]\n",
      "  0%|                                                                                           | 0/50 [00:00<?, ?it/s]"
     ]
    },
    {
     "name": "stdout",
     "output_type": "stream",
     "text": [
      "self.img_x_dim 35\n",
      "LR:0.01, MiniBatch Size:32\n"
     ]
    },
    {
     "name": "stderr",
     "output_type": "stream",
     "text": [
      "\r",
      "  2%|█▋                                                                                 | 1/50 [00:15<12:35, 15.42s/it]"
     ]
    },
    {
     "name": "stdout",
     "output_type": "stream",
     "text": [
      "iteration 0, error 1.60956\n"
     ]
    },
    {
     "name": "stderr",
     "output_type": "stream",
     "text": [
      " 12%|█████████▉                                                                         | 6/50 [01:32<11:20, 15.47s/it]"
     ]
    },
    {
     "name": "stdout",
     "output_type": "stream",
     "text": [
      "iteration 5, error 1.60850\n"
     ]
    },
    {
     "name": "stderr",
     "output_type": "stream",
     "text": [
      " 22%|██████████████████                                                                | 11/50 [02:50<10:04, 15.50s/it]"
     ]
    },
    {
     "name": "stdout",
     "output_type": "stream",
     "text": [
      "iteration 10, error 1.60330\n"
     ]
    },
    {
     "name": "stderr",
     "output_type": "stream",
     "text": [
      " 32%|██████████████████████████▏                                                       | 16/50 [04:08<08:46, 15.47s/it]"
     ]
    },
    {
     "name": "stdout",
     "output_type": "stream",
     "text": [
      "iteration 15, error 1.47353\n"
     ]
    },
    {
     "name": "stderr",
     "output_type": "stream",
     "text": [
      " 42%|██████████████████████████████████▍                                               | 21/50 [05:24<07:25, 15.35s/it]"
     ]
    },
    {
     "name": "stdout",
     "output_type": "stream",
     "text": [
      "iteration 20, error 1.42732\n"
     ]
    },
    {
     "name": "stderr",
     "output_type": "stream",
     "text": [
      " 52%|██████████████████████████████████████████▋                                       | 26/50 [06:41<06:10, 15.42s/it]"
     ]
    },
    {
     "name": "stdout",
     "output_type": "stream",
     "text": [
      "iteration 25, error 0.96678\n"
     ]
    },
    {
     "name": "stderr",
     "output_type": "stream",
     "text": [
      " 62%|██████████████████████████████████████████████████▊                               | 31/50 [07:58<04:52, 15.39s/it]"
     ]
    },
    {
     "name": "stdout",
     "output_type": "stream",
     "text": [
      "iteration 30, error 0.93891\n"
     ]
    },
    {
     "name": "stderr",
     "output_type": "stream",
     "text": [
      " 72%|███████████████████████████████████████████████████████████                       | 36/50 [09:15<03:35, 15.41s/it]"
     ]
    },
    {
     "name": "stdout",
     "output_type": "stream",
     "text": [
      "iteration 35, error 1.02003\n"
     ]
    },
    {
     "name": "stderr",
     "output_type": "stream",
     "text": [
      " 82%|█████████████████████████████████████████████████████████████▍             | 41/50 [7:25:40<19:37:10, 7847.81s/it]"
     ]
    },
    {
     "name": "stdout",
     "output_type": "stream",
     "text": [
      "iteration 40, error 0.87035\n"
     ]
    },
    {
     "name": "stderr",
     "output_type": "stream",
     "text": [
      " 92%|█████████████████████████████████████████████████████████████████████▉      | 46/50 [7:26:59<1:28:48, 1332.04s/it]"
     ]
    },
    {
     "name": "stdout",
     "output_type": "stream",
     "text": [
      "iteration 45, error 0.87618\n"
     ]
    },
    {
     "name": "stderr",
     "output_type": "stream",
     "text": [
      "100%|███████████████████████████████████████████████████████████████████████████████| 50/50 [7:28:01<00:00, 537.62s/it]\n",
      "  0%|                                                                                         | 0/1000 [00:00<?, ?it/s]"
     ]
    },
    {
     "name": "stdout",
     "output_type": "stream",
     "text": [
      "\n"
     ]
    },
    {
     "name": "stderr",
     "output_type": "stream",
     "text": [
      "100%|██████████████████████████████████████████████████████████████████████████████| 1000/1000 [04:02<00:00,  4.13it/s]\n",
      "100%|████████████████████████████████████████████████████████████████████████████████| 100/100 [00:22<00:00,  4.42it/s]\n"
     ]
    },
    {
     "name": "stdout",
     "output_type": "stream",
     "text": [
      "!!! confusion_mx [[204   0   0   0   5]\n",
      " [  3 210   2   0  11]\n",
      " [ 77   6  59   1  25]\n",
      " [ 77  13  39  40  28]\n",
      " [ 34  10   0   3 153]]\n",
      "!!! Accuracy 0.666\n",
      "!!! confusion_mx [[21  0  0  0  2]\n",
      " [ 0 19  0  0  1]\n",
      " [ 7  1  3  0  2]\n",
      " [ 9  1  5  3  5]\n",
      " [ 1  0  0  0 20]]\n",
      "!!! Accuracy 0.66\n"
     ]
    },
    {
     "name": "stderr",
     "output_type": "stream",
     "text": [
      "100%|██████████████████████████████████████████████████████████████████████████| 35735/35735 [00:05<00:00, 6493.50it/s]\n",
      "  0%|                                                                                           | 0/50 [00:00<?, ?it/s]"
     ]
    },
    {
     "name": "stdout",
     "output_type": "stream",
     "text": [
      "self.img_x_dim 41\n",
      "LR:0.01, MiniBatch Size:32\n"
     ]
    },
    {
     "name": "stderr",
     "output_type": "stream",
     "text": [
      "\r",
      "  2%|█▋                                                                                 | 1/50 [00:22<18:30, 22.67s/it]"
     ]
    },
    {
     "name": "stdout",
     "output_type": "stream",
     "text": [
      "iteration 0, error 1.60944\n"
     ]
    },
    {
     "name": "stderr",
     "output_type": "stream",
     "text": [
      " 12%|█████████▉                                                                         | 6/50 [02:16<16:40, 22.73s/it]"
     ]
    },
    {
     "name": "stdout",
     "output_type": "stream",
     "text": [
      "iteration 5, error 1.60926\n"
     ]
    },
    {
     "name": "stderr",
     "output_type": "stream",
     "text": [
      " 22%|██████████████████                                                                | 11/50 [04:14<15:13, 23.42s/it]"
     ]
    },
    {
     "name": "stdout",
     "output_type": "stream",
     "text": [
      "iteration 10, error 1.60576\n"
     ]
    },
    {
     "name": "stderr",
     "output_type": "stream",
     "text": [
      " 32%|██████████████████████████▏                                                       | 16/50 [06:08<12:54, 22.79s/it]"
     ]
    },
    {
     "name": "stdout",
     "output_type": "stream",
     "text": [
      "iteration 15, error 1.59167\n"
     ]
    },
    {
     "name": "stderr",
     "output_type": "stream",
     "text": [
      " 42%|██████████████████████████████████▍                                               | 21/50 [08:01<10:58, 22.70s/it]"
     ]
    },
    {
     "name": "stdout",
     "output_type": "stream",
     "text": [
      "iteration 20, error 1.57832\n"
     ]
    },
    {
     "name": "stderr",
     "output_type": "stream",
     "text": [
      " 52%|██████████████████████████████████████████▋                                       | 26/50 [09:54<09:03, 22.66s/it]"
     ]
    },
    {
     "name": "stdout",
     "output_type": "stream",
     "text": [
      "iteration 25, error 1.55045\n"
     ]
    },
    {
     "name": "stderr",
     "output_type": "stream",
     "text": [
      " 62%|██████████████████████████████████████████████████▊                               | 31/50 [11:48<07:11, 22.70s/it]"
     ]
    },
    {
     "name": "stdout",
     "output_type": "stream",
     "text": [
      "iteration 30, error 1.64746\n"
     ]
    },
    {
     "name": "stderr",
     "output_type": "stream",
     "text": [
      " 72%|███████████████████████████████████████████████████████████                       | 36/50 [13:41<05:17, 22.65s/it]"
     ]
    },
    {
     "name": "stdout",
     "output_type": "stream",
     "text": [
      "iteration 35, error 1.41394\n"
     ]
    },
    {
     "name": "stderr",
     "output_type": "stream",
     "text": [
      " 82%|███████████████████████████████████████████████████████████████████▏              | 41/50 [15:34<03:23, 22.66s/it]"
     ]
    },
    {
     "name": "stdout",
     "output_type": "stream",
     "text": [
      "iteration 40, error 1.59298\n"
     ]
    },
    {
     "name": "stderr",
     "output_type": "stream",
     "text": [
      " 92%|███████████████████████████████████████████████████████████████████████████▍      | 46/50 [17:27<01:30, 22.66s/it]"
     ]
    },
    {
     "name": "stdout",
     "output_type": "stream",
     "text": [
      "iteration 45, error 1.49027\n"
     ]
    },
    {
     "name": "stderr",
     "output_type": "stream",
     "text": [
      "100%|██████████████████████████████████████████████████████████████████████████████████| 50/50 [18:58<00:00, 22.77s/it]\n",
      "  0%|                                                                                         | 0/1000 [00:00<?, ?it/s]"
     ]
    },
    {
     "name": "stdout",
     "output_type": "stream",
     "text": [
      "\n"
     ]
    },
    {
     "name": "stderr",
     "output_type": "stream",
     "text": [
      "100%|██████████████████████████████████████████████████████████████████████████████| 1000/1000 [05:22<00:00,  3.10it/s]\n",
      "100%|████████████████████████████████████████████████████████████████████████████████| 100/100 [00:31<00:00,  3.13it/s]\n"
     ]
    },
    {
     "name": "stdout",
     "output_type": "stream",
     "text": [
      "!!! confusion_mx [[  6  14  98  66  28]\n",
      " [  0 183   2   9  14]\n",
      " [  0  41  87  46  26]\n",
      " [  0  62  21  97  30]\n",
      " [  0  43  24   5  98]]\n",
      "!!! Accuracy 0.471\n",
      "!!! confusion_mx [[ 1  1 12  4  1]\n",
      " [ 0 16  0  1  5]\n",
      " [ 0  2  9  4  3]\n",
      " [ 0  5  3 12  2]\n",
      " [ 0  3  1  1 14]]\n",
      "!!! Accuracy 0.52\n"
     ]
    },
    {
     "name": "stderr",
     "output_type": "stream",
     "text": [
      "100%|██████████████████████████████████████████████████████████████████████████| 35735/35735 [00:05<00:00, 6437.33it/s]\n",
      "  0%|                                                                                           | 0/50 [00:00<?, ?it/s]"
     ]
    },
    {
     "name": "stdout",
     "output_type": "stream",
     "text": [
      "self.img_x_dim 48\n",
      "LR:0.01, MiniBatch Size:32\n"
     ]
    },
    {
     "name": "stderr",
     "output_type": "stream",
     "text": [
      "\r",
      "  2%|█▋                                                                                 | 1/50 [00:32<26:48, 32.83s/it]"
     ]
    },
    {
     "name": "stdout",
     "output_type": "stream",
     "text": [
      "iteration 0, error 1.60944\n"
     ]
    },
    {
     "name": "stderr",
     "output_type": "stream",
     "text": [
      " 12%|█████████▉                                                                         | 6/50 [03:52<30:53, 42.12s/it]"
     ]
    },
    {
     "name": "stdout",
     "output_type": "stream",
     "text": [
      "iteration 5, error 1.61086\n"
     ]
    },
    {
     "name": "stderr",
     "output_type": "stream",
     "text": [
      " 22%|██████████████████                                                                | 11/50 [08:41<36:37, 56.34s/it]"
     ]
    },
    {
     "name": "stdout",
     "output_type": "stream",
     "text": [
      "iteration 10, error 1.60333\n"
     ]
    },
    {
     "name": "stderr",
     "output_type": "stream",
     "text": [
      " 32%|██████████████████████████▏                                                       | 16/50 [13:54<34:31, 60.93s/it]"
     ]
    },
    {
     "name": "stdout",
     "output_type": "stream",
     "text": [
      "iteration 15, error 1.61059\n"
     ]
    },
    {
     "name": "stderr",
     "output_type": "stream",
     "text": [
      " 42%|██████████████████████████████████▍                                               | 21/50 [19:05<29:52, 61.82s/it]"
     ]
    },
    {
     "name": "stdout",
     "output_type": "stream",
     "text": [
      "iteration 20, error 1.58600\n"
     ]
    },
    {
     "name": "stderr",
     "output_type": "stream",
     "text": [
      " 52%|██████████████████████████████████████████▋                                       | 26/50 [24:08<24:13, 60.57s/it]"
     ]
    },
    {
     "name": "stdout",
     "output_type": "stream",
     "text": [
      "iteration 25, error 1.56859\n"
     ]
    },
    {
     "name": "stderr",
     "output_type": "stream",
     "text": [
      " 62%|██████████████████████████████████████████████████▊                               | 31/50 [29:11<19:13, 60.72s/it]"
     ]
    },
    {
     "name": "stdout",
     "output_type": "stream",
     "text": [
      "iteration 30, error 1.56554\n"
     ]
    },
    {
     "name": "stderr",
     "output_type": "stream",
     "text": [
      " 72%|███████████████████████████████████████████████████████████                       | 36/50 [34:18<14:19, 61.39s/it]"
     ]
    },
    {
     "name": "stdout",
     "output_type": "stream",
     "text": [
      "iteration 35, error 1.48818\n"
     ]
    },
    {
     "name": "stderr",
     "output_type": "stream",
     "text": [
      " 82%|███████████████████████████████████████████████████████████████████▏              | 41/50 [39:39<09:37, 64.19s/it]"
     ]
    },
    {
     "name": "stdout",
     "output_type": "stream",
     "text": [
      "iteration 40, error 1.49033\n"
     ]
    },
    {
     "name": "stderr",
     "output_type": "stream",
     "text": [
      " 92%|███████████████████████████████████████████████████████████████████████████▍      | 46/50 [44:04<03:31, 52.89s/it]"
     ]
    },
    {
     "name": "stdout",
     "output_type": "stream",
     "text": [
      "iteration 45, error 1.49933\n"
     ]
    },
    {
     "name": "stderr",
     "output_type": "stream",
     "text": [
      "100%|██████████████████████████████████████████████████████████████████████████████████| 50/50 [48:11<00:00, 57.83s/it]\n",
      "  0%|                                                                                         | 0/1000 [00:00<?, ?it/s]"
     ]
    },
    {
     "name": "stdout",
     "output_type": "stream",
     "text": [
      "\n"
     ]
    },
    {
     "name": "stderr",
     "output_type": "stream",
     "text": [
      "100%|██████████████████████████████████████████████████████████████████████████████| 1000/1000 [13:42<00:00,  1.22it/s]\n",
      "100%|████████████████████████████████████████████████████████████████████████████████| 100/100 [01:19<00:00,  1.25it/s]\n"
     ]
    },
    {
     "name": "stdout",
     "output_type": "stream",
     "text": [
      "!!! confusion_mx [[ 28   1  70  36  48]\n",
      " [  0 138  25  30  25]\n",
      " [  6   2  92  55  54]\n",
      " [  1  12  81  69  54]\n",
      " [  0   9  54  36  74]]\n",
      "!!! Accuracy 0.401\n",
      "!!! confusion_mx [[ 4  0  8  3  4]\n",
      " [ 0 14  0  3  1]\n",
      " [ 0  0  2 14  7]\n",
      " [ 0  2  7  8  4]\n",
      " [ 0  1  5  3 10]]\n",
      "!!! Accuracy 0.38\n"
     ]
    },
    {
     "data": {
      "image/png": "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\n",
      "text/plain": [
       "<Figure size 936x360 with 3 Axes>"
      ]
     },
     "metadata": {
      "needs_background": "light"
     },
     "output_type": "display_data"
    }
   ],
   "source": [
    "# compute comparative multiclass classification metrics on test data\n",
    "\n",
    "padding_list = [0, 7, 13, 20]\n",
    "list_digits=['0','1','2','3','4']\n",
    "\n",
    "## Train\n",
    "# train_size_list = [50, 100, 200]\n",
    "train_size_list = [300, 500, 1000]\n",
    "# make plot\n",
    "ncols = len(train_size_list)\n",
    "fig, ax = plt.subplots(nrows=1, ncols=ncols, figsize=[13,5])\n",
    "\n",
    "for t in np.arange(len(train_size_list)):\n",
    "    accuracy_list_test = []\n",
    "    accuracy_list_train = []\n",
    "    \n",
    "    train_size = train_size_list[t]\n",
    "    \n",
    "    for thickness in padding_list:\n",
    "        # Data preprocessing\n",
    "        X_train, X_test, y_train, y_test = sample_multiclass_MNIST_padding(list_digits=list_digits, \n",
    "                                                                           full_MNIST=[X,y], \n",
    "                                                                           padding_thickness=thickness)\n",
    "            \n",
    "        idx = np.random.choice(np.arange(len(y_train)), train_size)\n",
    "        X_train0 = X_train[idx, :]/np.max(X_train)\n",
    "        y_train0 = y_train[idx, :]\n",
    "\n",
    "        \n",
    "        \n",
    "        idx = np.random.choice(np.arange(len(y_test)), 100)\n",
    "        X_test0 = X_test[idx, :]/np.max(X_test)\n",
    "        y_test0 = y_test[idx, :]\n",
    "\n",
    "        out = []\n",
    "        out_train = []\n",
    "        # populate the tuple list with the data\n",
    "        for i in range(X_train0.shape[0]):\n",
    "            item = list((X_train0[i,:].reshape(1, 28+thickness, 28+thickness), y_train0[i,:])) \n",
    "            \n",
    "            out.append(item)\n",
    "            out_train.append(X_train0[i,:].reshape(1, 28+thickness, 28+thickness))\n",
    "\n",
    "        X_test /= np.max(X_test)\n",
    "        out_test = []\n",
    "        for i in range(X_test0.shape[0]):\n",
    "            out_test.append((X_test0[i,:].reshape(1, 28+thickness, 28+thickness)))\n",
    "    \n",
    "    \n",
    "    \n",
    "        # FFNN training\n",
    "        CNN0 = CNN(training_data = out,\n",
    "           f = 5, # conv filter dim\n",
    "           f_pool = 2, # maxpool filter dim\n",
    "           num_filt1 = 10, # num filters for the first conv layer\n",
    "           num_filt2 = 10, # num filters for the second conv layer\n",
    "           conv_stride = 1,\n",
    "           pool_stride = 2,\n",
    "           hidden_nodes = 128)\n",
    "\n",
    "        CNN0.train(lr = 0.01,\n",
    "                   beta1 = 0.95,\n",
    "                   beta2 = 0.99,\n",
    "                   minibatch_size = 32,\n",
    "                   num_epochs = 50,\n",
    "                   verbose = True)\n",
    "\n",
    "        # FFNN prediction\n",
    "        y_hat_train = np.asarray(CNN0.predict(out_train))\n",
    "        y_hat_test = np.asarray(CNN0.predict(out_test))\n",
    "\n",
    "        y_train_label = np.asarray(onehot2list(y_train0))\n",
    "        y_test_label = np.asarray(onehot2list(y_test0))\n",
    "\n",
    "        results_train = multiclass_accuracy_metrics(Y_test=y_train0, P_pred=y_hat_train)\n",
    "        results_test = multiclass_accuracy_metrics(Y_test=y_test0, P_pred=y_hat_test)\n",
    "\n",
    "        accuracy_list_train.append(results_train.get('Accuracy'))\n",
    "        accuracy_list_test.append(results_test.get('Accuracy'))\n",
    "    \n",
    "    ## Plot\n",
    "    ax[t].plot(padding_list, accuracy_list_train, color='blue', label=\"train accuracy\")\n",
    "    ax[t].plot(padding_list, accuracy_list_test, color='red', label=\"test accuracy\")\n",
    "    ax[t].set_xlabel('Padding thickness', fontsize=15)\n",
    "    ax[t].set_ylabel('Classification Accuracy', fontsize=15)\n",
    "    ax[t].title.set_text(\"num training ex = %i\" % (train_size)) \n",
    "    ax[t].legend(fontsize=15)\n",
    "            \n",
    "plt.tight_layout(rect=[0, 0.03, 1, 0.9])\n",
    "plt.savefig('MNIST_CNN_accuracy_padding_ex2.pdf')"
   ]
  },
  {
   "cell_type": "markdown",
   "metadata": {},
   "source": [
    "# HW 7 4"
   ]
  },
  {
   "cell_type": "code",
   "execution_count": 25,
   "metadata": {},
   "outputs": [
    {
     "name": "stderr",
     "output_type": "stream",
     "text": [
      "100%|██████████████████████████████████████████████████████████████████████████| 35735/35735 [00:05<00:00, 6404.86it/s]\n",
      "  0%|                                                                                           | 0/50 [00:00<?, ?it/s]"
     ]
    },
    {
     "name": "stdout",
     "output_type": "stream",
     "text": [
      "self.img_x_dim 38\n",
      "LR:0.01, MiniBatch Size:32\n"
     ]
    },
    {
     "name": "stderr",
     "output_type": "stream",
     "text": [
      "\r",
      "  2%|█▋                                                                                 | 1/50 [00:03<03:06,  3.80s/it]"
     ]
    },
    {
     "name": "stdout",
     "output_type": "stream",
     "text": [
      "iteration 0, error 1.61000\n"
     ]
    },
    {
     "name": "stderr",
     "output_type": "stream",
     "text": [
      " 12%|█████████▉                                                                         | 6/50 [00:22<02:42,  3.70s/it]"
     ]
    },
    {
     "name": "stdout",
     "output_type": "stream",
     "text": [
      "iteration 5, error 1.55037\n"
     ]
    },
    {
     "name": "stderr",
     "output_type": "stream",
     "text": [
      " 22%|██████████████████                                                                | 11/50 [00:40<02:24,  3.70s/it]"
     ]
    },
    {
     "name": "stdout",
     "output_type": "stream",
     "text": [
      "iteration 10, error 1.01038\n"
     ]
    },
    {
     "name": "stderr",
     "output_type": "stream",
     "text": [
      " 32%|██████████████████████████▏                                                       | 16/50 [00:59<02:05,  3.69s/it]"
     ]
    },
    {
     "name": "stdout",
     "output_type": "stream",
     "text": [
      "iteration 15, error 0.40243\n"
     ]
    },
    {
     "name": "stderr",
     "output_type": "stream",
     "text": [
      " 42%|██████████████████████████████████▍                                               | 21/50 [01:17<01:47,  3.71s/it]"
     ]
    },
    {
     "name": "stdout",
     "output_type": "stream",
     "text": [
      "iteration 20, error 0.05701\n"
     ]
    },
    {
     "name": "stderr",
     "output_type": "stream",
     "text": [
      " 46%|█████████████████████████████████████▋                                            | 23/50 [01:28<01:44,  3.87s/it]\n",
      "100%|██████████████████████████████████████████████████████████████████████████████████| 10/10 [00:00<00:00, 16.72it/s]\n",
      "100%|████████████████████████████████████████████████████████████████████████████████| 100/100 [00:05<00:00, 18.46it/s]\n",
      "  0%|                                                                                           | 0/50 [00:00<?, ?it/s]"
     ]
    },
    {
     "name": "stdout",
     "output_type": "stream",
     "text": [
      "!!! confusion_mx [[2 0 0 0 0]\n",
      " [0 3 0 0 0]\n",
      " [0 0 2 0 0]\n",
      " [0 0 0 2 0]\n",
      " [0 0 0 0 1]]\n",
      "!!! Accuracy 1.0\n",
      "!!! confusion_mx [[ 7  1  1  5  0]\n",
      " [ 3 16  2 10  0]\n",
      " [ 3  3  7  3  1]\n",
      " [ 0 13  2 13  0]\n",
      " [ 2  5  1  2  0]]\n",
      "!!! Accuracy 0.43\n",
      "self.img_x_dim 38\n",
      "LR:0.01, MiniBatch Size:32\n"
     ]
    },
    {
     "name": "stderr",
     "output_type": "stream",
     "text": [
      "\r",
      "  2%|█▋                                                                                 | 1/50 [00:09<07:39,  9.38s/it]"
     ]
    },
    {
     "name": "stdout",
     "output_type": "stream",
     "text": [
      "iteration 0, error 1.60907\n"
     ]
    },
    {
     "name": "stderr",
     "output_type": "stream",
     "text": [
      " 12%|█████████▉                                                                         | 6/50 [00:56<06:51,  9.35s/it]"
     ]
    },
    {
     "name": "stdout",
     "output_type": "stream",
     "text": [
      "iteration 5, error 1.51961\n"
     ]
    },
    {
     "name": "stderr",
     "output_type": "stream",
     "text": [
      " 22%|██████████████████                                                                | 11/50 [01:42<06:03,  9.33s/it]"
     ]
    },
    {
     "name": "stdout",
     "output_type": "stream",
     "text": [
      "iteration 10, error 0.42155\n"
     ]
    },
    {
     "name": "stderr",
     "output_type": "stream",
     "text": [
      " 32%|██████████████████████████▏                                                       | 16/50 [02:29<05:17,  9.34s/it]"
     ]
    },
    {
     "name": "stdout",
     "output_type": "stream",
     "text": [
      "iteration 15, error 0.42954\n"
     ]
    },
    {
     "name": "stderr",
     "output_type": "stream",
     "text": [
      " 36%|█████████████████████████████▌                                                    | 18/50 [02:57<05:15,  9.86s/it]\n",
      "100%|██████████████████████████████████████████████████████████████████████████████████| 10/10 [00:01<00:00,  6.81it/s]\n",
      "100%|████████████████████████████████████████████████████████████████████████████████| 100/100 [00:14<00:00,  7.09it/s]\n",
      "  0%|                                                                                           | 0/50 [00:00<?, ?it/s]"
     ]
    },
    {
     "name": "stdout",
     "output_type": "stream",
     "text": [
      "!!! confusion_mx [[2 0 0 0 0]\n",
      " [0 3 0 0 0]\n",
      " [0 0 2 0 0]\n",
      " [0 0 0 2 0]\n",
      " [0 0 0 0 1]]\n",
      "!!! Accuracy 1.0\n",
      "!!! confusion_mx [[ 9  1  1  3  0]\n",
      " [ 2 14  4  9  2]\n",
      " [ 3  3  5  5  1]\n",
      " [ 3 12  4  9  0]\n",
      " [ 3  5  1  1  0]]\n",
      "!!! Accuracy 0.37\n",
      "self.img_x_dim 38\n",
      "LR:0.01, MiniBatch Size:32\n"
     ]
    },
    {
     "name": "stderr",
     "output_type": "stream",
     "text": [
      "\r",
      "  2%|█▋                                                                                 | 1/50 [00:18<15:28, 18.94s/it]"
     ]
    },
    {
     "name": "stdout",
     "output_type": "stream",
     "text": [
      "iteration 0, error 1.60940\n"
     ]
    },
    {
     "name": "stderr",
     "output_type": "stream",
     "text": [
      " 12%|█████████▉                                                                         | 6/50 [01:55<14:09, 19.31s/it]"
     ]
    },
    {
     "name": "stdout",
     "output_type": "stream",
     "text": [
      "iteration 5, error 1.59425\n"
     ]
    },
    {
     "name": "stderr",
     "output_type": "stream",
     "text": [
      " 22%|██████████████████                                                                | 11/50 [03:31<12:24, 19.10s/it]"
     ]
    },
    {
     "name": "stdout",
     "output_type": "stream",
     "text": [
      "iteration 10, error 1.29425\n"
     ]
    },
    {
     "name": "stderr",
     "output_type": "stream",
     "text": [
      " 32%|██████████████████████████▏                                                       | 16/50 [05:06<10:50, 19.13s/it]"
     ]
    },
    {
     "name": "stdout",
     "output_type": "stream",
     "text": [
      "iteration 15, error 0.43352\n"
     ]
    },
    {
     "name": "stderr",
     "output_type": "stream",
     "text": [
      " 40%|████████████████████████████████▊                                                 | 20/50 [06:42<10:03, 20.10s/it]\n",
      "  0%|                                                                                           | 0/10 [00:00<?, ?it/s]"
     ]
    },
    {
     "name": "stdout",
     "output_type": "stream",
     "text": [
      "iteration 20, error 0.00850\n"
     ]
    },
    {
     "name": "stderr",
     "output_type": "stream",
     "text": [
      "100%|██████████████████████████████████████████████████████████████████████████████████| 10/10 [00:02<00:00,  3.68it/s]\n",
      "100%|████████████████████████████████████████████████████████████████████████████████| 100/100 [00:26<00:00,  3.74it/s]\n",
      "  0%|                                                                                           | 0/50 [00:00<?, ?it/s]"
     ]
    },
    {
     "name": "stdout",
     "output_type": "stream",
     "text": [
      "!!! confusion_mx [[2 0 0 0 0]\n",
      " [0 3 0 0 0]\n",
      " [0 0 2 0 0]\n",
      " [0 0 0 2 0]\n",
      " [0 0 0 0 1]]\n",
      "!!! Accuracy 1.0\n",
      "!!! confusion_mx [[ 8  1  2  3  0]\n",
      " [ 3 16  4  8  0]\n",
      " [ 3  3  6  4  1]\n",
      " [ 0 10  7 11  0]\n",
      " [ 2  4  2  2  0]]\n",
      "!!! Accuracy 0.41\n",
      "self.img_x_dim 38\n",
      "LR:0.01, MiniBatch Size:32\n"
     ]
    },
    {
     "name": "stderr",
     "output_type": "stream",
     "text": [
      "\r",
      "  2%|█▋                                                                                 | 1/50 [00:39<32:28, 39.77s/it]"
     ]
    },
    {
     "name": "stdout",
     "output_type": "stream",
     "text": [
      "iteration 0, error 1.60945\n"
     ]
    },
    {
     "name": "stderr",
     "output_type": "stream",
     "text": [
      " 12%|█████████▉                                                                         | 6/50 [03:56<28:51, 39.34s/it]"
     ]
    },
    {
     "name": "stdout",
     "output_type": "stream",
     "text": [
      "iteration 5, error 1.60432\n"
     ]
    },
    {
     "name": "stderr",
     "output_type": "stream",
     "text": [
      " 22%|██████████████████                                                                | 11/50 [07:13<25:37, 39.42s/it]"
     ]
    },
    {
     "name": "stdout",
     "output_type": "stream",
     "text": [
      "iteration 10, error 1.65714\n"
     ]
    },
    {
     "name": "stderr",
     "output_type": "stream",
     "text": [
      " 32%|██████████████████████████▏                                                       | 16/50 [10:30<22:19, 39.40s/it]"
     ]
    },
    {
     "name": "stdout",
     "output_type": "stream",
     "text": [
      "iteration 15, error 0.05745\n"
     ]
    },
    {
     "name": "stderr",
     "output_type": "stream",
     "text": [
      " 36%|█████████████████████████████▌                                                    | 18/50 [12:28<22:09, 41.56s/it]\n",
      "100%|██████████████████████████████████████████████████████████████████████████████████| 10/10 [00:05<00:00,  1.89it/s]\n",
      "100%|████████████████████████████████████████████████████████████████████████████████| 100/100 [00:52<00:00,  1.92it/s]\n"
     ]
    },
    {
     "name": "stdout",
     "output_type": "stream",
     "text": [
      "!!! confusion_mx [[2 0 0 0 0]\n",
      " [0 3 0 0 0]\n",
      " [0 0 2 0 0]\n",
      " [0 0 0 2 0]\n",
      " [0 0 0 0 1]]\n",
      "!!! Accuracy 1.0\n",
      "!!! confusion_mx [[ 8  1  2  3  0]\n",
      " [ 2 13  4 12  0]\n",
      " [ 3  2  6  5  1]\n",
      " [ 1  8  6 13  0]\n",
      " [ 3  3  3  1  0]]\n",
      "!!! Accuracy 0.4\n"
     ]
    },
    {
     "name": "stderr",
     "output_type": "stream",
     "text": [
      "100%|██████████████████████████████████████████████████████████████████████████| 35735/35735 [00:05<00:00, 6705.41it/s]\n",
      "  0%|                                                                                           | 0/50 [00:00<?, ?it/s]"
     ]
    },
    {
     "name": "stdout",
     "output_type": "stream",
     "text": [
      "self.img_x_dim 38\n",
      "LR:0.01, MiniBatch Size:32\n"
     ]
    },
    {
     "name": "stderr",
     "output_type": "stream",
     "text": [
      "\r",
      "  2%|█▋                                                                                 | 1/50 [00:03<03:01,  3.71s/it]"
     ]
    },
    {
     "name": "stdout",
     "output_type": "stream",
     "text": [
      "iteration 0, error 1.60934\n"
     ]
    },
    {
     "name": "stderr",
     "output_type": "stream",
     "text": [
      " 12%|█████████▉                                                                         | 6/50 [00:22<02:42,  3.69s/it]"
     ]
    },
    {
     "name": "stdout",
     "output_type": "stream",
     "text": [
      "iteration 5, error 1.62353\n"
     ]
    },
    {
     "name": "stderr",
     "output_type": "stream",
     "text": [
      " 22%|██████████████████                                                                | 11/50 [00:40<02:23,  3.69s/it]"
     ]
    },
    {
     "name": "stdout",
     "output_type": "stream",
     "text": [
      "iteration 10, error 1.17166\n"
     ]
    },
    {
     "name": "stderr",
     "output_type": "stream",
     "text": [
      " 32%|██████████████████████████▏                                                       | 16/50 [00:59<02:06,  3.71s/it]"
     ]
    },
    {
     "name": "stdout",
     "output_type": "stream",
     "text": [
      "iteration 15, error 1.31320\n"
     ]
    },
    {
     "name": "stderr",
     "output_type": "stream",
     "text": [
      " 42%|██████████████████████████████████▍                                               | 21/50 [01:17<01:47,  3.69s/it]"
     ]
    },
    {
     "name": "stdout",
     "output_type": "stream",
     "text": [
      "iteration 20, error 0.60775\n"
     ]
    },
    {
     "name": "stderr",
     "output_type": "stream",
     "text": [
      " 52%|██████████████████████████████████████████▋                                       | 26/50 [01:36<01:28,  3.69s/it]"
     ]
    },
    {
     "name": "stdout",
     "output_type": "stream",
     "text": [
      "iteration 25, error 0.60112\n"
     ]
    },
    {
     "name": "stderr",
     "output_type": "stream",
     "text": [
      " 62%|██████████████████████████████████████████████████▊                               | 31/50 [01:54<01:10,  3.69s/it]"
     ]
    },
    {
     "name": "stdout",
     "output_type": "stream",
     "text": [
      "iteration 30, error 0.44422\n"
     ]
    },
    {
     "name": "stderr",
     "output_type": "stream",
     "text": [
      " 72%|███████████████████████████████████████████████████████████                       | 36/50 [02:13<00:52,  3.78s/it]"
     ]
    },
    {
     "name": "stdout",
     "output_type": "stream",
     "text": [
      "iteration 35, error 0.43009\n"
     ]
    },
    {
     "name": "stderr",
     "output_type": "stream",
     "text": [
      " 82%|███████████████████████████████████████████████████████████████████▏              | 41/50 [02:32<00:33,  3.70s/it]"
     ]
    },
    {
     "name": "stdout",
     "output_type": "stream",
     "text": [
      "iteration 40, error 0.14762\n"
     ]
    },
    {
     "name": "stderr",
     "output_type": "stream",
     "text": [
      " 92%|███████████████████████████████████████████████████████████████████████████▍      | 46/50 [02:50<00:14,  3.69s/it]"
     ]
    },
    {
     "name": "stdout",
     "output_type": "stream",
     "text": [
      "iteration 45, error 0.13849\n"
     ]
    },
    {
     "name": "stderr",
     "output_type": "stream",
     "text": [
      "100%|██████████████████████████████████████████████████████████████████████████████████| 50/50 [03:05<00:00,  3.71s/it]\n",
      "100%|██████████████████████████████████████████████████████████████████████████████████| 50/50 [00:02<00:00, 18.06it/s]\n",
      "100%|████████████████████████████████████████████████████████████████████████████████| 100/100 [00:05<00:00, 17.29it/s]\n",
      "  0%|                                                                                           | 0/50 [00:00<?, ?it/s]"
     ]
    },
    {
     "name": "stdout",
     "output_type": "stream",
     "text": [
      "!!! confusion_mx [[ 8  0  0  0  0]\n",
      " [ 0 12  0  0  0]\n",
      " [ 0  0 11  0  0]\n",
      " [ 0  1  0  5  0]\n",
      " [ 0  2  1  0 10]]\n",
      "!!! Accuracy 0.92\n",
      "!!! confusion_mx [[ 5  0 10  1  0]\n",
      " [ 0 14  5  6  0]\n",
      " [ 1  0 15  2  2]\n",
      " [ 0  4 14  2  1]\n",
      " [ 1  3  4  2  8]]\n",
      "!!! Accuracy 0.44\n",
      "self.img_x_dim 38\n",
      "LR:0.01, MiniBatch Size:32\n"
     ]
    },
    {
     "name": "stderr",
     "output_type": "stream",
     "text": [
      "\r",
      "  2%|█▋                                                                                 | 1/50 [00:09<07:38,  9.35s/it]"
     ]
    },
    {
     "name": "stdout",
     "output_type": "stream",
     "text": [
      "iteration 0, error 1.60940\n"
     ]
    },
    {
     "name": "stderr",
     "output_type": "stream",
     "text": [
      " 12%|█████████▉                                                                         | 6/50 [00:56<06:52,  9.38s/it]"
     ]
    },
    {
     "name": "stdout",
     "output_type": "stream",
     "text": [
      "iteration 5, error 1.60660\n"
     ]
    },
    {
     "name": "stderr",
     "output_type": "stream",
     "text": [
      " 22%|██████████████████                                                                | 11/50 [01:42<06:03,  9.33s/it]"
     ]
    },
    {
     "name": "stdout",
     "output_type": "stream",
     "text": [
      "iteration 10, error 1.59450\n"
     ]
    },
    {
     "name": "stderr",
     "output_type": "stream",
     "text": [
      " 32%|██████████████████████████▏                                                       | 16/50 [02:29<05:18,  9.37s/it]"
     ]
    },
    {
     "name": "stdout",
     "output_type": "stream",
     "text": [
      "iteration 15, error 1.58749\n"
     ]
    },
    {
     "name": "stderr",
     "output_type": "stream",
     "text": [
      " 42%|██████████████████████████████████▍                                               | 21/50 [03:16<04:31,  9.36s/it]"
     ]
    },
    {
     "name": "stdout",
     "output_type": "stream",
     "text": [
      "iteration 20, error 1.28373\n"
     ]
    },
    {
     "name": "stderr",
     "output_type": "stream",
     "text": [
      " 52%|██████████████████████████████████████████▋                                       | 26/50 [04:03<03:46,  9.44s/it]"
     ]
    },
    {
     "name": "stdout",
     "output_type": "stream",
     "text": [
      "iteration 25, error 0.92707\n"
     ]
    },
    {
     "name": "stderr",
     "output_type": "stream",
     "text": [
      " 62%|██████████████████████████████████████████████████▊                               | 31/50 [04:50<02:59,  9.43s/it]"
     ]
    },
    {
     "name": "stdout",
     "output_type": "stream",
     "text": [
      "iteration 30, error 0.69192\n"
     ]
    },
    {
     "name": "stderr",
     "output_type": "stream",
     "text": [
      " 72%|███████████████████████████████████████████████████████████                       | 36/50 [05:41<02:20, 10.03s/it]"
     ]
    },
    {
     "name": "stdout",
     "output_type": "stream",
     "text": [
      "iteration 35, error 0.43706\n"
     ]
    },
    {
     "name": "stderr",
     "output_type": "stream",
     "text": [
      " 82%|███████████████████████████████████████████████████████████████████▏              | 41/50 [06:31<01:30, 10.06s/it]"
     ]
    },
    {
     "name": "stdout",
     "output_type": "stream",
     "text": [
      "iteration 40, error 0.19168\n"
     ]
    },
    {
     "name": "stderr",
     "output_type": "stream",
     "text": [
      " 92%|███████████████████████████████████████████████████████████████████████████▍      | 46/50 [07:26<00:44, 11.00s/it]"
     ]
    },
    {
     "name": "stdout",
     "output_type": "stream",
     "text": [
      "iteration 45, error 0.06950\n"
     ]
    },
    {
     "name": "stderr",
     "output_type": "stream",
     "text": [
      "100%|██████████████████████████████████████████████████████████████████████████████████| 50/50 [08:08<00:00,  9.77s/it]\n",
      "100%|██████████████████████████████████████████████████████████████████████████████████| 50/50 [00:07<00:00,  6.70it/s]\n",
      "100%|████████████████████████████████████████████████████████████████████████████████| 100/100 [00:15<00:00,  6.66it/s]\n",
      "  0%|                                                                                           | 0/50 [00:00<?, ?it/s]"
     ]
    },
    {
     "name": "stdout",
     "output_type": "stream",
     "text": [
      "!!! confusion_mx [[ 8  0  0  0  0]\n",
      " [ 0 12  0  0  0]\n",
      " [ 0  0 11  0  0]\n",
      " [ 0  0  0  6  0]\n",
      " [ 0  0  0  0 13]]\n",
      "!!! Accuracy 1.0\n",
      "!!! confusion_mx [[ 9  0  5  0  2]\n",
      " [ 3 15  1  6  0]\n",
      " [ 3  0 13  1  3]\n",
      " [ 4  7  6  2  2]\n",
      " [ 5  3  2  6  2]]\n",
      "!!! Accuracy 0.41\n",
      "self.img_x_dim 38\n",
      "LR:0.01, MiniBatch Size:32\n"
     ]
    },
    {
     "name": "stderr",
     "output_type": "stream",
     "text": [
      "\r",
      "  2%|█▋                                                                                 | 1/50 [00:21<17:23, 21.30s/it]"
     ]
    },
    {
     "name": "stdout",
     "output_type": "stream",
     "text": [
      "iteration 0, error 1.60949\n"
     ]
    },
    {
     "name": "stderr",
     "output_type": "stream",
     "text": [
      " 12%|█████████▉                                                                         | 6/50 [01:58<14:22, 19.60s/it]"
     ]
    },
    {
     "name": "stdout",
     "output_type": "stream",
     "text": [
      "iteration 5, error 1.59868\n"
     ]
    },
    {
     "name": "stderr",
     "output_type": "stream",
     "text": [
      " 22%|██████████████████                                                                | 11/50 [03:43<13:23, 20.59s/it]"
     ]
    },
    {
     "name": "stdout",
     "output_type": "stream",
     "text": [
      "iteration 10, error 1.55434\n"
     ]
    },
    {
     "name": "stderr",
     "output_type": "stream",
     "text": [
      " 32%|██████████████████████████▏                                                       | 16/50 [05:23<11:23, 20.10s/it]"
     ]
    },
    {
     "name": "stdout",
     "output_type": "stream",
     "text": [
      "iteration 15, error 1.41446\n"
     ]
    },
    {
     "name": "stderr",
     "output_type": "stream",
     "text": [
      " 42%|██████████████████████████████████▍                                               | 21/50 [07:07<09:58, 20.63s/it]"
     ]
    },
    {
     "name": "stdout",
     "output_type": "stream",
     "text": [
      "iteration 20, error 0.94120\n"
     ]
    },
    {
     "name": "stderr",
     "output_type": "stream",
     "text": [
      " 52%|██████████████████████████████████████████▋                                       | 26/50 [08:49<08:10, 20.46s/it]"
     ]
    },
    {
     "name": "stdout",
     "output_type": "stream",
     "text": [
      "iteration 25, error 0.67019\n"
     ]
    },
    {
     "name": "stderr",
     "output_type": "stream",
     "text": [
      " 62%|██████████████████████████████████████████████████▊                               | 31/50 [10:34<06:36, 20.87s/it]"
     ]
    },
    {
     "name": "stdout",
     "output_type": "stream",
     "text": [
      "iteration 30, error 0.40050\n"
     ]
    },
    {
     "name": "stderr",
     "output_type": "stream",
     "text": [
      " 72%|███████████████████████████████████████████████████████████                       | 36/50 [12:19<04:52, 20.91s/it]"
     ]
    },
    {
     "name": "stdout",
     "output_type": "stream",
     "text": [
      "iteration 35, error 0.39962\n"
     ]
    },
    {
     "name": "stderr",
     "output_type": "stream",
     "text": [
      " 82%|███████████████████████████████████████████████████████████████████▏              | 41/50 [14:07<03:11, 21.32s/it]"
     ]
    },
    {
     "name": "stdout",
     "output_type": "stream",
     "text": [
      "iteration 40, error 0.01509\n"
     ]
    },
    {
     "name": "stderr",
     "output_type": "stream",
     "text": [
      " 84%|████████████████████████████████████████████████████████████████████▉             | 42/50 [14:48<02:49, 21.16s/it]\n",
      "100%|██████████████████████████████████████████████████████████████████████████████████| 50/50 [00:14<00:00,  3.47it/s]\n",
      "100%|████████████████████████████████████████████████████████████████████████████████| 100/100 [00:29<00:00,  3.44it/s]\n",
      "  0%|                                                                                           | 0/50 [00:00<?, ?it/s]"
     ]
    },
    {
     "name": "stdout",
     "output_type": "stream",
     "text": [
      "!!! confusion_mx [[ 8  0  0  0  0]\n",
      " [ 0 12  0  0  0]\n",
      " [ 0  0 11  0  0]\n",
      " [ 0  0  0  6  0]\n",
      " [ 0  0  0  0 13]]\n",
      "!!! Accuracy 1.0\n",
      "!!! confusion_mx [[ 8  0  4  0  4]\n",
      " [ 1 14  3  7  0]\n",
      " [ 2  0 14  1  3]\n",
      " [ 1  1  9  2  8]\n",
      " [ 2  3  1  4  8]]\n",
      "!!! Accuracy 0.46\n",
      "self.img_x_dim 38\n",
      "LR:0.01, MiniBatch Size:32\n"
     ]
    },
    {
     "name": "stderr",
     "output_type": "stream",
     "text": [
      "\r",
      "  2%|█▋                                                                                 | 1/50 [00:43<35:37, 43.61s/it]"
     ]
    },
    {
     "name": "stdout",
     "output_type": "stream",
     "text": [
      "iteration 0, error 1.60953\n"
     ]
    },
    {
     "name": "stderr",
     "output_type": "stream",
     "text": [
      " 12%|█████████▉                                                                         | 6/50 [04:19<31:39, 43.17s/it]"
     ]
    },
    {
     "name": "stdout",
     "output_type": "stream",
     "text": [
      "iteration 5, error 1.60902\n"
     ]
    },
    {
     "name": "stderr",
     "output_type": "stream",
     "text": [
      " 22%|██████████████████                                                                | 11/50 [07:53<28:02, 43.14s/it]"
     ]
    },
    {
     "name": "stdout",
     "output_type": "stream",
     "text": [
      "iteration 10, error 1.54844\n"
     ]
    },
    {
     "name": "stderr",
     "output_type": "stream",
     "text": [
      " 32%|██████████████████████████▏                                                       | 16/50 [11:20<23:48, 42.02s/it]"
     ]
    },
    {
     "name": "stdout",
     "output_type": "stream",
     "text": [
      "iteration 15, error 1.64751\n"
     ]
    },
    {
     "name": "stderr",
     "output_type": "stream",
     "text": [
      " 42%|██████████████████████████████████▍                                               | 21/50 [15:00<21:01, 43.49s/it]"
     ]
    },
    {
     "name": "stdout",
     "output_type": "stream",
     "text": [
      "iteration 20, error 1.25014\n"
     ]
    },
    {
     "name": "stderr",
     "output_type": "stream",
     "text": [
      " 52%|██████████████████████████████████████████▋                                       | 26/50 [18:34<17:15, 43.13s/it]"
     ]
    },
    {
     "name": "stdout",
     "output_type": "stream",
     "text": [
      "iteration 25, error 0.46266\n"
     ]
    },
    {
     "name": "stderr",
     "output_type": "stream",
     "text": [
      " 62%|██████████████████████████████████████████████████▊                               | 31/50 [22:03<13:16, 41.92s/it]"
     ]
    },
    {
     "name": "stdout",
     "output_type": "stream",
     "text": [
      "iteration 30, error 0.57924\n"
     ]
    },
    {
     "name": "stderr",
     "output_type": "stream",
     "text": [
      " 72%|███████████████████████████████████████████████████████████                       | 36/50 [25:34<09:49, 42.13s/it]"
     ]
    },
    {
     "name": "stdout",
     "output_type": "stream",
     "text": [
      "iteration 35, error 0.33202\n"
     ]
    },
    {
     "name": "stderr",
     "output_type": "stream",
     "text": [
      " 82%|███████████████████████████████████████████████████████████████████▏              | 41/50 [29:11<06:31, 43.47s/it]"
     ]
    },
    {
     "name": "stdout",
     "output_type": "stream",
     "text": [
      "iteration 40, error 0.02236\n"
     ]
    },
    {
     "name": "stderr",
     "output_type": "stream",
     "text": [
      " 82%|███████████████████████████████████████████████████████████████████▏              | 41/50 [29:55<06:34, 43.79s/it]\n",
      "100%|██████████████████████████████████████████████████████████████████████████████████| 50/50 [00:29<00:00,  1.71it/s]\n",
      "100%|████████████████████████████████████████████████████████████████████████████████| 100/100 [00:58<00:00,  1.71it/s]\n"
     ]
    },
    {
     "name": "stdout",
     "output_type": "stream",
     "text": [
      "!!! confusion_mx [[ 8  0  0  0  0]\n",
      " [ 0 12  0  0  0]\n",
      " [ 0  0 11  0  0]\n",
      " [ 0  0  0  6  0]\n",
      " [ 0  0  0  0 13]]\n",
      "!!! Accuracy 1.0\n",
      "!!! confusion_mx [[ 9  0  4  0  3]\n",
      " [ 2 14  2  7  0]\n",
      " [ 4  0 12  1  3]\n",
      " [ 5  1  7  2  6]\n",
      " [ 3  2  0  6  7]]\n",
      "!!! Accuracy 0.44\n"
     ]
    },
    {
     "name": "stderr",
     "output_type": "stream",
     "text": [
      "100%|██████████████████████████████████████████████████████████████████████████| 35735/35735 [00:06<00:00, 5374.31it/s]\n",
      "  0%|                                                                                           | 0/50 [00:00<?, ?it/s]"
     ]
    },
    {
     "name": "stdout",
     "output_type": "stream",
     "text": [
      "self.img_x_dim 38\n",
      "LR:0.01, MiniBatch Size:32\n"
     ]
    },
    {
     "name": "stderr",
     "output_type": "stream",
     "text": [
      "\r",
      "  2%|█▋                                                                                 | 1/50 [00:04<03:22,  4.13s/it]"
     ]
    },
    {
     "name": "stdout",
     "output_type": "stream",
     "text": [
      "iteration 0, error 1.60967\n"
     ]
    },
    {
     "name": "stderr",
     "output_type": "stream",
     "text": [
      " 12%|█████████▉                                                                         | 6/50 [00:24<02:58,  4.06s/it]"
     ]
    },
    {
     "name": "stdout",
     "output_type": "stream",
     "text": [
      "iteration 5, error 1.60728\n"
     ]
    },
    {
     "name": "stderr",
     "output_type": "stream",
     "text": [
      " 22%|██████████████████                                                                | 11/50 [00:44<02:39,  4.10s/it]"
     ]
    },
    {
     "name": "stdout",
     "output_type": "stream",
     "text": [
      "iteration 10, error 1.49542\n"
     ]
    },
    {
     "name": "stderr",
     "output_type": "stream",
     "text": [
      " 32%|██████████████████████████▏                                                       | 16/50 [01:05<02:19,  4.09s/it]"
     ]
    },
    {
     "name": "stdout",
     "output_type": "stream",
     "text": [
      "iteration 15, error 1.48990\n"
     ]
    },
    {
     "name": "stderr",
     "output_type": "stream",
     "text": [
      " 42%|██████████████████████████████████▍                                               | 21/50 [01:25<01:58,  4.08s/it]"
     ]
    },
    {
     "name": "stdout",
     "output_type": "stream",
     "text": [
      "iteration 20, error 1.47791\n"
     ]
    },
    {
     "name": "stderr",
     "output_type": "stream",
     "text": [
      " 52%|██████████████████████████████████████████▋                                       | 26/50 [01:46<01:37,  4.08s/it]"
     ]
    },
    {
     "name": "stdout",
     "output_type": "stream",
     "text": [
      "iteration 25, error 1.24289\n"
     ]
    },
    {
     "name": "stderr",
     "output_type": "stream",
     "text": [
      " 62%|██████████████████████████████████████████████████▊                               | 31/50 [02:06<01:17,  4.07s/it]"
     ]
    },
    {
     "name": "stdout",
     "output_type": "stream",
     "text": [
      "iteration 30, error 0.96739\n"
     ]
    },
    {
     "name": "stderr",
     "output_type": "stream",
     "text": [
      " 72%|███████████████████████████████████████████████████████████                       | 36/50 [02:26<00:56,  4.06s/it]"
     ]
    },
    {
     "name": "stdout",
     "output_type": "stream",
     "text": [
      "iteration 35, error 1.11653\n"
     ]
    },
    {
     "name": "stderr",
     "output_type": "stream",
     "text": [
      " 82%|███████████████████████████████████████████████████████████████████▏              | 41/50 [02:47<00:36,  4.10s/it]"
     ]
    },
    {
     "name": "stdout",
     "output_type": "stream",
     "text": [
      "iteration 40, error 0.88794\n"
     ]
    },
    {
     "name": "stderr",
     "output_type": "stream",
     "text": [
      " 92%|███████████████████████████████████████████████████████████████████████████▍      | 46/50 [03:07<00:16,  4.06s/it]"
     ]
    },
    {
     "name": "stdout",
     "output_type": "stream",
     "text": [
      "iteration 45, error 0.68849\n"
     ]
    },
    {
     "name": "stderr",
     "output_type": "stream",
     "text": [
      "100%|██████████████████████████████████████████████████████████████████████████████████| 50/50 [03:23<00:00,  4.08s/it]\n",
      "100%|████████████████████████████████████████████████████████████████████████████████| 100/100 [00:06<00:00, 15.84it/s]\n",
      "100%|████████████████████████████████████████████████████████████████████████████████| 100/100 [00:06<00:00, 16.46it/s]\n",
      "  0%|                                                                                           | 0/50 [00:00<?, ?it/s]"
     ]
    },
    {
     "name": "stdout",
     "output_type": "stream",
     "text": [
      "!!! confusion_mx [[19  0  0  0  0]\n",
      " [ 1 17  0  1  0]\n",
      " [ 6  0 17  0  0]\n",
      " [ 7  1  3  8  0]\n",
      " [ 6  1  5  0  8]]\n",
      "!!! Accuracy 0.69\n",
      "!!! confusion_mx [[23  1  0  0  0]\n",
      " [ 5 17  3  0  0]\n",
      " [ 8  0  6  0  0]\n",
      " [14  0  6  3  0]\n",
      " [ 7  2  1  0  4]]\n",
      "!!! Accuracy 0.53\n",
      "self.img_x_dim 38\n",
      "LR:0.01, MiniBatch Size:32\n"
     ]
    },
    {
     "name": "stderr",
     "output_type": "stream",
     "text": [
      "\r",
      "  2%|█▋                                                                                 | 1/50 [00:10<08:20, 10.21s/it]"
     ]
    },
    {
     "name": "stdout",
     "output_type": "stream",
     "text": [
      "iteration 0, error 1.60921\n"
     ]
    },
    {
     "name": "stderr",
     "output_type": "stream",
     "text": [
      " 12%|█████████▉                                                                         | 6/50 [01:01<07:32, 10.27s/it]"
     ]
    },
    {
     "name": "stdout",
     "output_type": "stream",
     "text": [
      "iteration 5, error 1.60532\n"
     ]
    },
    {
     "name": "stderr",
     "output_type": "stream",
     "text": [
      " 22%|██████████████████                                                                | 11/50 [01:52<06:39, 10.24s/it]"
     ]
    },
    {
     "name": "stdout",
     "output_type": "stream",
     "text": [
      "iteration 10, error 1.53067\n"
     ]
    },
    {
     "name": "stderr",
     "output_type": "stream",
     "text": [
      " 32%|██████████████████████████▏                                                       | 16/50 [02:43<05:45, 10.15s/it]"
     ]
    },
    {
     "name": "stdout",
     "output_type": "stream",
     "text": [
      "iteration 15, error 1.33015\n"
     ]
    },
    {
     "name": "stderr",
     "output_type": "stream",
     "text": [
      " 42%|██████████████████████████████████▍                                               | 21/50 [03:33<04:48,  9.93s/it]"
     ]
    },
    {
     "name": "stdout",
     "output_type": "stream",
     "text": [
      "iteration 20, error 1.34903\n"
     ]
    },
    {
     "name": "stderr",
     "output_type": "stream",
     "text": [
      " 52%|██████████████████████████████████████████▋                                       | 26/50 [04:24<04:03, 10.13s/it]"
     ]
    },
    {
     "name": "stdout",
     "output_type": "stream",
     "text": [
      "iteration 25, error 1.23174\n"
     ]
    },
    {
     "name": "stderr",
     "output_type": "stream",
     "text": [
      " 62%|██████████████████████████████████████████████████▊                               | 31/50 [05:15<03:13, 10.18s/it]"
     ]
    },
    {
     "name": "stdout",
     "output_type": "stream",
     "text": [
      "iteration 30, error 1.06979\n"
     ]
    },
    {
     "name": "stderr",
     "output_type": "stream",
     "text": [
      " 72%|███████████████████████████████████████████████████████████                       | 36/50 [06:06<02:23, 10.22s/it]"
     ]
    },
    {
     "name": "stdout",
     "output_type": "stream",
     "text": [
      "iteration 35, error 0.97592\n"
     ]
    },
    {
     "name": "stderr",
     "output_type": "stream",
     "text": [
      " 82%|███████████████████████████████████████████████████████████████████▏              | 41/50 [06:57<01:31, 10.18s/it]"
     ]
    },
    {
     "name": "stdout",
     "output_type": "stream",
     "text": [
      "iteration 40, error 0.73300\n"
     ]
    },
    {
     "name": "stderr",
     "output_type": "stream",
     "text": [
      " 92%|███████████████████████████████████████████████████████████████████████████▍      | 46/50 [07:48<00:40, 10.23s/it]"
     ]
    },
    {
     "name": "stdout",
     "output_type": "stream",
     "text": [
      "iteration 45, error 0.44378\n"
     ]
    },
    {
     "name": "stderr",
     "output_type": "stream",
     "text": [
      "100%|██████████████████████████████████████████████████████████████████████████████████| 50/50 [08:29<00:00, 10.20s/it]\n",
      "100%|████████████████████████████████████████████████████████████████████████████████| 100/100 [00:14<00:00,  6.98it/s]\n",
      "100%|████████████████████████████████████████████████████████████████████████████████| 100/100 [00:14<00:00,  7.10it/s]\n",
      "  0%|                                                                                           | 0/50 [00:00<?, ?it/s]"
     ]
    },
    {
     "name": "stdout",
     "output_type": "stream",
     "text": [
      "!!! confusion_mx [[19  0  0  0  0]\n",
      " [ 0 19  0  0  0]\n",
      " [ 1  1 21  0  0]\n",
      " [ 0  1  5 13  0]\n",
      " [ 0  1  2  0 17]]\n",
      "!!! Accuracy 0.89\n",
      "!!! confusion_mx [[17  1  4  1  1]\n",
      " [ 0 23  1  1  0]\n",
      " [ 1  2  9  1  1]\n",
      " [ 4  7  7  5  0]\n",
      " [ 1  5  0  1  7]]\n",
      "!!! Accuracy 0.61\n",
      "self.img_x_dim 38\n",
      "LR:0.01, MiniBatch Size:32\n"
     ]
    },
    {
     "name": "stderr",
     "output_type": "stream",
     "text": [
      "\r",
      "  2%|█▋                                                                                 | 1/50 [00:18<15:30, 18.98s/it]"
     ]
    },
    {
     "name": "stdout",
     "output_type": "stream",
     "text": [
      "iteration 0, error 1.60955\n"
     ]
    },
    {
     "name": "stderr",
     "output_type": "stream",
     "text": [
      " 12%|█████████▉                                                                         | 6/50 [01:58<14:40, 20.02s/it]"
     ]
    },
    {
     "name": "stdout",
     "output_type": "stream",
     "text": [
      "iteration 5, error 1.60874\n"
     ]
    },
    {
     "name": "stderr",
     "output_type": "stream",
     "text": [
      " 22%|██████████████████                                                                | 11/50 [03:37<13:09, 20.24s/it]"
     ]
    },
    {
     "name": "stdout",
     "output_type": "stream",
     "text": [
      "iteration 10, error 1.60843\n"
     ]
    },
    {
     "name": "stderr",
     "output_type": "stream",
     "text": [
      " 32%|██████████████████████████▏                                                       | 16/50 [05:20<11:36, 20.49s/it]"
     ]
    },
    {
     "name": "stdout",
     "output_type": "stream",
     "text": [
      "iteration 15, error 1.58066\n"
     ]
    },
    {
     "name": "stderr",
     "output_type": "stream",
     "text": [
      " 42%|██████████████████████████████████▍                                               | 21/50 [07:06<10:08, 20.98s/it]"
     ]
    },
    {
     "name": "stdout",
     "output_type": "stream",
     "text": [
      "iteration 20, error 1.43267\n"
     ]
    },
    {
     "name": "stderr",
     "output_type": "stream",
     "text": [
      " 52%|██████████████████████████████████████████▋                                       | 26/50 [08:51<08:24, 21.01s/it]"
     ]
    },
    {
     "name": "stdout",
     "output_type": "stream",
     "text": [
      "iteration 25, error 1.05879\n"
     ]
    },
    {
     "name": "stderr",
     "output_type": "stream",
     "text": [
      " 62%|██████████████████████████████████████████████████▊                               | 31/50 [10:30<06:16, 19.79s/it]"
     ]
    },
    {
     "name": "stdout",
     "output_type": "stream",
     "text": [
      "iteration 30, error 1.20601\n"
     ]
    },
    {
     "name": "stderr",
     "output_type": "stream",
     "text": [
      " 72%|███████████████████████████████████████████████████████████                       | 36/50 [12:16<04:54, 21.05s/it]"
     ]
    },
    {
     "name": "stdout",
     "output_type": "stream",
     "text": [
      "iteration 35, error 0.80831\n"
     ]
    },
    {
     "name": "stderr",
     "output_type": "stream",
     "text": [
      " 82%|███████████████████████████████████████████████████████████████████▏              | 41/50 [14:01<03:08, 20.91s/it]"
     ]
    },
    {
     "name": "stdout",
     "output_type": "stream",
     "text": [
      "iteration 40, error 0.64268\n"
     ]
    },
    {
     "name": "stderr",
     "output_type": "stream",
     "text": [
      " 92%|███████████████████████████████████████████████████████████████████████████▍      | 46/50 [15:46<01:23, 20.99s/it]"
     ]
    },
    {
     "name": "stdout",
     "output_type": "stream",
     "text": [
      "iteration 45, error 0.35309\n"
     ]
    },
    {
     "name": "stderr",
     "output_type": "stream",
     "text": [
      "100%|██████████████████████████████████████████████████████████████████████████████████| 50/50 [17:11<00:00, 20.62s/it]\n",
      "100%|████████████████████████████████████████████████████████████████████████████████| 100/100 [00:29<00:00,  3.39it/s]\n",
      "100%|████████████████████████████████████████████████████████████████████████████████| 100/100 [00:29<00:00,  3.37it/s]\n",
      "  0%|                                                                                           | 0/50 [00:00<?, ?it/s]"
     ]
    },
    {
     "name": "stdout",
     "output_type": "stream",
     "text": [
      "!!! confusion_mx [[19  0  0  0  0]\n",
      " [ 0 18  1  0  0]\n",
      " [ 1  1 20  0  1]\n",
      " [ 3  3  6  7  0]\n",
      " [ 0  1  2  0 17]]\n",
      "!!! Accuracy 0.81\n",
      "!!! confusion_mx [[20  2  1  0  1]\n",
      " [ 0 17  7  0  1]\n",
      " [ 2  0 12  0  0]\n",
      " [ 9  5  8  0  1]\n",
      " [ 3  2  0  0  9]]\n",
      "!!! Accuracy 0.58\n",
      "self.img_x_dim 38\n",
      "LR:0.01, MiniBatch Size:32\n"
     ]
    },
    {
     "name": "stderr",
     "output_type": "stream",
     "text": [
      "\r",
      "  2%|█▋                                                                                 | 1/50 [00:44<35:59, 44.07s/it]"
     ]
    },
    {
     "name": "stdout",
     "output_type": "stream",
     "text": [
      "iteration 0, error 1.60939\n"
     ]
    },
    {
     "name": "stderr",
     "output_type": "stream",
     "text": [
      " 12%|█████████▉                                                                         | 6/50 [04:26<32:41, 44.58s/it]"
     ]
    },
    {
     "name": "stdout",
     "output_type": "stream",
     "text": [
      "iteration 5, error 1.60716\n"
     ]
    },
    {
     "name": "stderr",
     "output_type": "stream",
     "text": [
      " 22%|██████████████████                                                                | 11/50 [08:04<28:14, 43.45s/it]"
     ]
    },
    {
     "name": "stdout",
     "output_type": "stream",
     "text": [
      "iteration 10, error 1.57989\n"
     ]
    },
    {
     "name": "stderr",
     "output_type": "stream",
     "text": [
      " 32%|██████████████████████████▏                                                       | 16/50 [11:23<22:54, 40.43s/it]"
     ]
    },
    {
     "name": "stdout",
     "output_type": "stream",
     "text": [
      "iteration 15, error 1.65185\n"
     ]
    },
    {
     "name": "stderr",
     "output_type": "stream",
     "text": [
      " 42%|██████████████████████████████████▍                                               | 21/50 [14:43<19:19, 39.99s/it]"
     ]
    },
    {
     "name": "stdout",
     "output_type": "stream",
     "text": [
      "iteration 20, error 1.28882\n"
     ]
    },
    {
     "name": "stderr",
     "output_type": "stream",
     "text": [
      " 52%|██████████████████████████████████████████▋                                       | 26/50 [18:02<15:56, 39.85s/it]"
     ]
    },
    {
     "name": "stdout",
     "output_type": "stream",
     "text": [
      "iteration 25, error 1.50983\n"
     ]
    },
    {
     "name": "stderr",
     "output_type": "stream",
     "text": [
      " 62%|██████████████████████████████████████████████████▊                               | 31/50 [21:21<12:36, 39.82s/it]"
     ]
    },
    {
     "name": "stdout",
     "output_type": "stream",
     "text": [
      "iteration 30, error 1.69713\n"
     ]
    },
    {
     "name": "stderr",
     "output_type": "stream",
     "text": [
      " 72%|███████████████████████████████████████████████████████████                       | 36/50 [24:41<09:17, 39.82s/it]"
     ]
    },
    {
     "name": "stdout",
     "output_type": "stream",
     "text": [
      "iteration 35, error 0.66341\n"
     ]
    },
    {
     "name": "stderr",
     "output_type": "stream",
     "text": [
      " 82%|███████████████████████████████████████████████████████████████████▏              | 41/50 [27:59<05:57, 39.76s/it]"
     ]
    },
    {
     "name": "stdout",
     "output_type": "stream",
     "text": [
      "iteration 40, error 0.53368\n"
     ]
    },
    {
     "name": "stderr",
     "output_type": "stream",
     "text": [
      " 92%|███████████████████████████████████████████████████████████████████████████▍      | 46/50 [31:18<02:38, 39.67s/it]"
     ]
    },
    {
     "name": "stdout",
     "output_type": "stream",
     "text": [
      "iteration 45, error 0.57428\n"
     ]
    },
    {
     "name": "stderr",
     "output_type": "stream",
     "text": [
      "100%|██████████████████████████████████████████████████████████████████████████████████| 50/50 [33:57<00:00, 40.75s/it]\n",
      "100%|████████████████████████████████████████████████████████████████████████████████| 100/100 [00:52<00:00,  1.89it/s]\n",
      "100%|████████████████████████████████████████████████████████████████████████████████| 100/100 [00:52<00:00,  1.91it/s]\n"
     ]
    },
    {
     "name": "stdout",
     "output_type": "stream",
     "text": [
      "!!! confusion_mx [[19  0  0  0  0]\n",
      " [ 1 13  3  2  0]\n",
      " [ 1  0 22  0  0]\n",
      " [ 0  0  5 14  0]\n",
      " [ 3  0  6  0 11]]\n",
      "!!! Accuracy 0.79\n",
      "!!! confusion_mx [[23  0  0  1  0]\n",
      " [ 4 10  9  2  0]\n",
      " [ 4  0 10  0  0]\n",
      " [12  0  3  8  0]\n",
      " [ 3  1  2  1  7]]\n",
      "!!! Accuracy 0.58\n"
     ]
    },
    {
     "data": {
      "image/png": "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\n",
      "text/plain": [
       "<Figure size 936x360 with 3 Axes>"
      ]
     },
     "metadata": {
      "needs_background": "light"
     },
     "output_type": "display_data"
    }
   ],
   "source": [
    "# compute comparative multiclass classification metrics on test data\n",
    "\n",
    "# padding_list = [0, 7, 13, 20]\n",
    "padding_list = [10]\n",
    "list_digits=['0','1','2','3','4']\n",
    "nodes_list = [2,5,10,20]\n",
    "\n",
    "## Train\n",
    "train_size_list = [10, 50, 100]\n",
    "# train_size_list = [300, 500, 1000]\n",
=======
   "cell_type": "code",
   "execution_count": null,
   "metadata": {},
   "outputs": [],
   "source": [
    "# compute comparative multiclass classification metrics on test data\n",
    "\n",
    "padding_list = [0, 5, 10]\n",
    "# list_digits=['0','1','2','3','4']\n",
    "list_digits=['0','1']\n",
    "\n",
    "## Train\n",
    "train_size_list = [50, 100, 200]\n",
    "\n",
>>>>>>> upstream/main
    "# make plot\n",
    "ncols = len(train_size_list)\n",
    "fig, ax = plt.subplots(nrows=1, ncols=ncols, figsize=[13,5])\n",
    "\n",
    "for t in np.arange(len(train_size_list)):\n",
    "    accuracy_list_test = []\n",
    "    accuracy_list_train = []\n",
    "    \n",
    "    train_size = train_size_list[t]\n",
    "    \n",
    "    for thickness in padding_list:\n",
    "        # Data preprocessing\n",
    "        X_train, X_test, y_train, y_test = sample_multiclass_MNIST_padding(list_digits=list_digits, \n",
    "                                                                           full_MNIST=[X,y], \n",
    "                                                                           padding_thickness=thickness)\n",
    "            \n",
    "        idx = np.random.choice(np.arange(len(y_train)), train_size)\n",
    "        X_train0 = X_train[idx, :]/np.max(X_train)\n",
    "        y_train0 = y_train[idx, :]\n",
    "\n",
    "        \n",
    "        \n",
    "        idx = np.random.choice(np.arange(len(y_test)), 100)\n",
    "        X_test0 = X_test[idx, :]/np.max(X_test)\n",
    "        y_test0 = y_test[idx, :]\n",
    "\n",
    "        out = []\n",
    "        out_train = []\n",
    "        # populate the tuple list with the data\n",
    "        for i in range(X_train0.shape[0]):\n",
    "            item = list((X_train0[i,:].reshape(1, 28+thickness, 28+thickness), y_train0[i,:])) \n",
    "            \n",
    "            out.append(item)\n",
    "            out_train.append(X_train0[i,:].reshape(1, 28+thickness, 28+thickness))\n",
    "\n",
    "        X_test /= np.max(X_test)\n",
    "        out_test = []\n",
    "        for i in range(X_test0.shape[0]):\n",
    "            out_test.append((X_test0[i,:].reshape(1, 28+thickness, 28+thickness)))\n",
    "    \n",
<<<<<<< HEAD
    "        for n in nodes_list:\n",
    "#             print(n)\n",
    "            # FFNN training\n",
    "            CNN0 = CNN(training_data = out,\n",
    "               f = 5, # conv filter dim\n",
    "               f_pool = 2, # maxpool filter dim\n",
    "               num_filt1 = n, # num filters for the first conv layer\n",
    "               num_filt2 = n, # num filters for the second conv layer\n",
    "               conv_stride = 1,\n",
    "               pool_stride = 2,\n",
    "               hidden_nodes = 128)\n",
    "\n",
    "            CNN0.train(lr = 0.01,\n",
    "                       beta1 = 0.95,\n",
    "                       beta2 = 0.99,\n",
    "                       minibatch_size = 32,\n",
    "                       num_epochs = 50,\n",
    "                       verbose = True)\n",
    "\n",
    "            # FFNN prediction\n",
    "            y_hat_train = np.asarray(CNN0.predict(out_train))\n",
    "            y_hat_test = np.asarray(CNN0.predict(out_test))\n",
    "\n",
    "            y_train_label = np.asarray(onehot2list(y_train0))\n",
    "            y_test_label = np.asarray(onehot2list(y_test0))\n",
    "\n",
    "            results_train = multiclass_accuracy_metrics(Y_test=y_train0, P_pred=y_hat_train)\n",
    "            results_test = multiclass_accuracy_metrics(Y_test=y_test0, P_pred=y_hat_test)\n",
    "\n",
    "            accuracy_list_train.append(results_train.get('Accuracy'))\n",
    "            accuracy_list_test.append(results_test.get('Accuracy'))\n",
    "    \n",
    "    ## Plot\n",
    "    ax[t].plot(nodes_list, accuracy_list_train, color='blue', label=\"train accuracy\")\n",
    "    ax[t].plot(nodes_list, accuracy_list_test, color='red', label=\"test accuracy\")\n",
    "    ax[t].set_xlabel('Number of hidden nodes', fontsize=15)\n",
=======
    "    \n",
    "    \n",
    "        # FFNN training\n",
    "        CNN0 = CNN(training_data = out,\n",
    "           f = 5, # conv filter dim\n",
    "           f_pool = 2, # maxpool filter dim\n",
    "           num_filt1 = 10, # num filters for the first conv layer\n",
    "           num_filt2 = 10, # num filters for the second conv layer\n",
    "           conv_stride = 1,\n",
    "           pool_stride = 2,\n",
    "           hidden_nodes = 128)\n",
    "\n",
    "        CNN0.train(lr = 0.01,\n",
    "                   beta1 = 0.95,\n",
    "                   beta2 = 0.99,\n",
    "                   minibatch_size = 32,\n",
    "                   num_epochs = 50,\n",
    "                   verbose = True)\n",
    "\n",
    "        # FFNN prediction\n",
    "        print()\n",
    "        y_hat_train = np.asarray(CNN0.predict(out_train))\n",
    "        y_hat_test = np.asarray(CNN0.predict(out_test))\n",
    "\n",
    "        y_train_label = np.asarray(onehot2list(y_train0))\n",
    "        y_test_label = np.asarray(onehot2list(y_test0))\n",
    "\n",
    "        results_train = multiclass_accuracy_metrics(Y_test=y_train0, P_pred=y_hat_train)\n",
    "        results_test = multiclass_accuracy_metrics(Y_test=y_test0, P_pred=y_hat_test)\n",
    "\n",
    "        accuracy_list_train.append(results_train.get('Accuracy'))\n",
    "        accuracy_list_test.append(results_test.get('Accuracy'))\n",
    "    \n",
    "    ## Plot\n",
    "    ax[t].plot(padding_list, accuracy_list_train, color='blue', label=\"train accuracy\")\n",
    "    ax[t].plot(padding_list, accuracy_list_test, color='red', label=\"test accuracy\")\n",
    "    ax[t].set_xlabel('Padding thickness', fontsize=15)\n",
>>>>>>> upstream/main
    "    ax[t].set_ylabel('Classification Accuracy', fontsize=15)\n",
    "    ax[t].title.set_text(\"num training ex = %i\" % (train_size)) \n",
    "    ax[t].legend(fontsize=15)\n",
    "            \n",
    "plt.tight_layout(rect=[0, 0.03, 1, 0.9])\n",
<<<<<<< HEAD
    "plt.savefig('MNIST_CNN_accuracy_num_hidden_nodes.pdf')"
   ]
  },
  {
   "cell_type": "markdown",
   "metadata": {},
   "source": [
    "# HW 7 5"
   ]
  },
  {
   "cell_type": "code",
   "execution_count": 37,
   "metadata": {},
   "outputs": [
    {
     "name": "stderr",
     "output_type": "stream",
     "text": [
      "100%|██████████████████████████████████████████████████████████████████████████| 14780/14780 [00:02<00:00, 6556.82it/s]\n",
      "  0%|                                                                                           | 0/50 [00:00<?, ?it/s]"
     ]
    },
    {
     "name": "stdout",
     "output_type": "stream",
     "text": [
      "self.img_x_dim 28\n",
      "LR:0.01, MiniBatch Size:32\n"
     ]
    },
    {
     "name": "stderr",
     "output_type": "stream",
     "text": [
      "\r",
      "  2%|█▋                                                                                 | 1/50 [00:09<07:39,  9.38s/it]"
     ]
    },
    {
     "name": "stdout",
     "output_type": "stream",
     "text": [
      "iteration 0, error 0.69262\n"
     ]
    },
    {
     "name": "stderr",
     "output_type": "stream",
     "text": [
      " 12%|█████████▉                                                                         | 6/50 [00:54<06:38,  9.06s/it]"
     ]
    },
    {
     "name": "stdout",
     "output_type": "stream",
     "text": [
      "iteration 5, error 0.57923\n"
     ]
    },
    {
     "name": "stderr",
     "output_type": "stream",
     "text": [
      " 22%|██████████████████                                                                | 11/50 [01:40<05:52,  9.03s/it]"
     ]
    },
    {
     "name": "stdout",
     "output_type": "stream",
     "text": [
      "iteration 10, error 0.02865\n"
     ]
    },
    {
     "name": "stderr",
     "output_type": "stream",
     "text": [
      " 26%|█████████████████████▎                                                            | 13/50 [02:07<06:01,  9.78s/it]\n",
      "100%|████████████████████████████████████████████████████████████████████████████████| 100/100 [00:13<00:00,  7.33it/s]\n"
     ]
    }
   ],
   "source": [
    "# compute comparative multiclass classification metrics on test data\n",
    "\n",
    "list_digits=['0','1']\n",
    "nodes_list = [2,5,10,20]\n",
    "n = 10 # optimal number of hidden nodes\n",
    "train_size = 100\n",
    "\n",
    "# Data preprocessing\n",
    "X_train, X_test, y_train, y_test = sample_multiclass_MNIST_padding(list_digits=['0','1'], \n",
    "                                                           full_MNIST=[X,y],\n",
    "                                                           padding_thickness=0)\n",
    "\n",
    "idx = np.random.choice(np.arange(len(y_train)), train_size)\n",
    "X_train0 = X_train[idx, :]/np.max(X_train)\n",
    "y_train0 = y_train[idx, :]\n",
    "\n",
    "idx = np.random.choice(np.arange(len(y_test)), 100)\n",
    "X_test0 = X_test[idx, :]/np.max(X_test)\n",
    "y_test0 = y_test[idx, :]\n",
    "\n",
    "out = []\n",
    "out_train = []\n",
    "# populate the tuple list with the data\n",
    "for i in range(X_train0.shape[0]):\n",
    "    item = list((X_train0[i,:].reshape(1, 28, 28), y_train0[i,:])) \n",
    "\n",
    "    out.append(item)\n",
    "    out_train.append(X_train0[i,:].reshape(1, 28, 28))\n",
    "\n",
    "X_test /= np.max(X_test)\n",
    "out_test = []\n",
    "for i in range(X_test0.shape[0]):\n",
    "    out_test.append((X_test0[i,:].reshape(1, 28, 28)))\n",
    "\n",
    "# FFNN training\n",
    "CNN0 = CNN(training_data = out,\n",
    "   f = 5, # conv filter dim\n",
    "   f_pool = 2, # maxpool filter dim\n",
    "   num_filt1 = n, # num filters for the first conv layer\n",
    "   num_filt2 = n, # num filters for the second conv layer\n",
    "   conv_stride = 1,\n",
    "   pool_stride = 2,\n",
    "   hidden_nodes = 128)\n",
    "\n",
    "CNN0.train(lr = 0.01,\n",
    "           beta1 = 0.95,\n",
    "           beta2 = 0.99,\n",
    "           minibatch_size = 32,\n",
    "           num_epochs = 50,\n",
    "           verbose = True)\n",
    "\n",
    "# FFNN get conv layers\n",
    "y_hat_train, conv1_train, conv2_train = CNN0.predict(out_train)\n",
    "\n",
    "# print(\"y_train\",y_hat_train)\n",
    "# print(\"c1_train\",conv1_train)\n",
    "# y_train_label = np.asarray(onehot2list(y_train0))\n",
    "# y_test_label = np.asarray(onehot2list(y_test0))"
   ]
  },
  {
   "cell_type": "code",
   "execution_count": 35,
   "metadata": {},
   "outputs": [
    {
     "data": {
      "image/png": "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\n",
      "text/plain": [
       "<Figure size 756x360 with 2 Axes>"
      ]
     },
     "metadata": {
      "needs_background": "light"
     },
     "output_type": "display_data"
    }
   ],
   "source": [
    "fig, ax = plt.subplots(nrows=1, ncols=2, figsize=[10.5,5])\n",
    "idx = 1\n",
    "for j in range(2):\n",
    "    if j == 0: \n",
    "        ax[j].imshow(conv1_train[idx][0])\n",
    "    else:\n",
    "        ax[j].imshow(conv2_train[idx][0])\n",
    "    ax[j].title.set_text('Convolutional Layer {} for image of {}'.format(j+1,'zero'))\n",
    "plt.savefig('MNIST_conv1_0.pdf', bbox_inches='tight')"
=======
    "plt.savefig('MNIST_CNN_accuracy_padding_ex3.pdf')"
>>>>>>> upstream/main
   ]
  },
  {
   "cell_type": "code",
<<<<<<< HEAD
   "execution_count": 36,
   "metadata": {},
   "outputs": [
    {
     "data": {
      "image/png": "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\n",
      "text/plain": [
       "<Figure size 756x360 with 2 Axes>"
      ]
     },
     "metadata": {
      "needs_background": "light"
     },
     "output_type": "display_data"
    }
   ],
   "source": [
    "fig, ax = plt.subplots(nrows=1, ncols=2, figsize=[10.5,5])\n",
    "idx = 0\n",
    "for j in range(2):\n",
    "    if j == 0: \n",
    "        ax[j].imshow(conv1_train[idx][0])\n",
    "    else:\n",
    "        ax[j].imshow(conv2_train[idx][0])\n",
    "    ax[j].title.set_text('Convolutional Layer {} for image of {}'.format(j+1,'zero'))\n",
    "plt.savefig('MNIST_conv1_1.pdf', bbox_inches='tight')"
   ]
=======
   "execution_count": null,
   "metadata": {},
   "outputs": [],
   "source": []
>>>>>>> upstream/main
  }
 ],
 "metadata": {
  "kernelspec": {
<<<<<<< HEAD
   "display_name": "Python 3",
   "language": "python",
   "name": "python3"
=======
   "display_name": "colourgraphenv",
   "language": "python",
   "name": "colourgraphenv"
>>>>>>> upstream/main
  },
  "language_info": {
   "codemirror_mode": {
    "name": "ipython",
    "version": 3
   },
   "file_extension": ".py",
   "mimetype": "text/x-python",
   "name": "python",
   "nbconvert_exporter": "python",
   "pygments_lexer": "ipython3",
<<<<<<< HEAD
   "version": "3.8.8"
=======
   "version": "3.8.5"
>>>>>>> upstream/main
  }
 },
 "nbformat": 4,
 "nbformat_minor": 2
}

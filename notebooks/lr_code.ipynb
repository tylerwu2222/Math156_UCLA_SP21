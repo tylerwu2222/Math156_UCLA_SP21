{
 "cells": [
  {
   "cell_type": "code",
   "execution_count": 18,
   "metadata": {
    "id": "N9QuzdI9gIR4"
   },
   "outputs": [],
   "source": [
    "import pandas as pd\n",
    "import numpy as np\n",
    "from sklearn.model_selection import train_test_split\n",
    "from sklearn.feature_extraction.text import TfidfVectorizer\n",
    "from sklearn.feature_extraction.text import CountVectorizer\n",
    "from wordcloud import WordCloud, STOPWORDS\n",
    "import matplotlib.pyplot as plt\n",
    "from sklearn.linear_model import LogisticRegression\n",
    "from sklearn import metrics\n",
    "from sklearn.metrics import accuracy_score\n",
    "from sklearn.metrics import confusion_matrix"
   ]
  },
  {
   "cell_type": "markdown",
   "metadata": {
    "id": "6Bs9z7Oy9iDY"
   },
   "source": [
    "### Load Data"
   ]
  },
  {
   "cell_type": "code",
   "execution_count": 2,
   "metadata": {
    "colab": {
     "base_uri": "https://localhost:8080/",
     "height": 195
    },
    "id": "K_3ODMzs--vs",
    "outputId": "323b57ff-6e25-46e6-cd3d-1bfb7ce96848"
   },
   "outputs": [
    {
     "data": {
      "text/html": [
       "<div>\n",
       "<style scoped>\n",
       "    .dataframe tbody tr th:only-of-type {\n",
       "        vertical-align: middle;\n",
       "    }\n",
       "\n",
       "    .dataframe tbody tr th {\n",
       "        vertical-align: top;\n",
       "    }\n",
       "\n",
       "    .dataframe thead th {\n",
       "        text-align: right;\n",
       "    }\n",
       "</style>\n",
       "<table border=\"1\" class=\"dataframe\">\n",
       "  <thead>\n",
       "    <tr style=\"text-align: right;\">\n",
       "      <th></th>\n",
       "      <th>id</th>\n",
       "      <th>label</th>\n",
       "      <th>tweet</th>\n",
       "    </tr>\n",
       "  </thead>\n",
       "  <tbody>\n",
       "    <tr>\n",
       "      <th>0</th>\n",
       "      <td>1</td>\n",
       "      <td>0</td>\n",
       "      <td>@user when a father is dysfunctional and is s...</td>\n",
       "    </tr>\n",
       "    <tr>\n",
       "      <th>1</th>\n",
       "      <td>2</td>\n",
       "      <td>0</td>\n",
       "      <td>@user @user thanks for #lyft credit i can't us...</td>\n",
       "    </tr>\n",
       "    <tr>\n",
       "      <th>2</th>\n",
       "      <td>3</td>\n",
       "      <td>0</td>\n",
       "      <td>bihday your majesty</td>\n",
       "    </tr>\n",
       "    <tr>\n",
       "      <th>3</th>\n",
       "      <td>4</td>\n",
       "      <td>0</td>\n",
       "      <td>#model   i love u take with u all the time in ...</td>\n",
       "    </tr>\n",
       "    <tr>\n",
       "      <th>4</th>\n",
       "      <td>5</td>\n",
       "      <td>0</td>\n",
       "      <td>factsguide: society now    #motivation</td>\n",
       "    </tr>\n",
       "  </tbody>\n",
       "</table>\n",
       "</div>"
      ],
      "text/plain": [
       "   id  label                                              tweet\n",
       "0   1      0   @user when a father is dysfunctional and is s...\n",
       "1   2      0  @user @user thanks for #lyft credit i can't us...\n",
       "2   3      0                                bihday your majesty\n",
       "3   4      0  #model   i love u take with u all the time in ...\n",
       "4   5      0             factsguide: society now    #motivation"
      ]
     },
     "execution_count": 2,
     "metadata": {},
     "output_type": "execute_result"
    }
   ],
   "source": [
    "train = pd.read_csv(\"twitter_train.csv\")\n",
    "# test = pd.read_csv(\"twitter_test.csv\") # no label, so split train into train and valid set\n",
    "# print(train.shape) # 31962 x 3\n",
    "train.head() # label: 1 = racist/sexist; 0 = not racist/sexist"
   ]
  },
  {
   "cell_type": "code",
   "execution_count": 3,
   "metadata": {
    "id": "ev5Nb1_5bJpX"
   },
   "outputs": [
    {
     "data": {
      "text/plain": [
       "11966    flaxseed gel/shampoo results!  #peace #love #o...\n",
       "24368     @user great end to a great day! happy weekend...\n",
       "31695    @user given what we now know, how the church s...\n",
       "26812             happy day!  #altwaystoheal  #healthy    \n",
       "23501    18 km in the rain along the thames. perfect st...\n",
       "24759    #zaynmalik   bull up: you will dominate your b...\n",
       "22545                  @user true dat ... thanks !   @user\n",
       "17153    #fruit #tea #peach #drink #yummy   #dayoff #li...\n",
       "29593     @user @user well here i am...just waiting...a...\n",
       "20324    okay i think i've got my @user and @user chann...\n",
       "Name: tweet, dtype: object"
      ]
     },
     "execution_count": 3,
     "metadata": {},
     "output_type": "execute_result"
    }
   ],
   "source": [
    "# sample tweets from both labels\n",
    "np.random.seed(22)\n",
    "idx0 = np.where(train['label'] == 0)\n",
    "idx1 = np.where(train['label'] == 1)\n",
    "train['tweet'][np.random.choice(idx0[0],10)]"
   ]
  },
  {
   "cell_type": "code",
   "execution_count": 4,
   "metadata": {
    "id": "ev5Nb1_5bJpX"
   },
   "outputs": [
    {
     "data": {
      "text/plain": [
       "14082    are you #black &amp; feel like the  are â¦on ...\n",
       "24026    @user after 8 yrs of endless lies, contempt fr...\n",
       "22285    thought factory: left-right polarisation! #tru...\n",
       "10852    @user #allahsoil not all muslims hate america....\n",
       "14530    trump is a cuck  @user #nazi #swastika #ebay! ...\n",
       "16054    @user comment on @user reveals once more the d...\n",
       "13425    sign that i checked a bag at iah. every. singl...\n",
       "19095    @user i hate you with all of my being. #corrup...\n",
       "16656    it's time to end  now. \"days of our lives (liv...\n",
       "9685     b4 sm we didnt hear this latent  every single ...\n",
       "Name: tweet, dtype: object"
      ]
     },
     "execution_count": 4,
     "metadata": {},
     "output_type": "execute_result"
    }
   ],
   "source": [
    "train['tweet'][np.random.choice(idx1[0],10)]"
   ]
  },
  {
   "cell_type": "markdown",
   "metadata": {
    "id": "tZigcbvZbL3x"
   },
   "source": [
    "## Format Data"
   ]
  },
  {
   "cell_type": "code",
   "execution_count": 5,
   "metadata": {},
   "outputs": [],
   "source": [
    "stopwords = STOPWORDS\n",
    "stopwords.update([\"’\", \"“\", \"”\", 'ªð', 'ºï', '¼ð', 'ó¾', \"000\", \"000 000\", \"amp\", 'urð', \"https\", \"co\", \"user\",'aren', 'couldn', 'didn', 'doesn', 'don', 'hadn', 'hasn', 'haven', 'isn', 'let', 'll', 'mustn', 're', 'shan', 'shouldn', 've', 'wasn', 'weren', 'won', 'wouldn'])\n"
   ]
  },
  {
   "cell_type": "code",
   "execution_count": 6,
   "metadata": {
    "id": "HBXggr-cHpeP"
   },
   "outputs": [],
   "source": [
    "vec=CountVectorizer(stop_words=stopwords, min_df = 2)\n",
    "vectors = vec.fit_transform(train[\"tweet\"]) # create tf idf from full train data\n",
    "idx_to_word = np.array(vec.get_feature_names())"
   ]
  },
  {
   "cell_type": "code",
   "execution_count": 8,
   "metadata": {},
   "outputs": [
    {
     "data": {
      "text/plain": [
       "array(['10', '2016', 'adapt', 'affirmation', 'alone', 'already',\n",
       "       'altwaystoheal', 'always', 'amazing', 'america', 'angry',\n",
       "       'another', 'around', 'attack', 'away', 'awesome', 'baby', 'back',\n",
       "       'bad', 'beach', 'bear', 'beautiful', 'beauty', 'believe', 'best',\n",
       "       'better', 'big', 'bihday', 'bing', 'black', 'blessed', 'blog',\n",
       "       'body', 'bong', 'book', 'boy', 'buffalo', 'bull', 'business',\n",
       "       'buy', 'call', 'cat', 'change', 'check', 'children', 'city',\n",
       "       'climb', 'coffee', 'cold', 'come', 'coming', 'conference', 'cool',\n",
       "       'country', 'couple', 'crazy', 'cute', 'dad', 'dads', 'dance',\n",
       "       'day', 'days', 'dead', 'depression', 'direct', 'dog', 'dominate',\n",
       "       'done', 'dream', 'end', 'enjoy', 'enough', 'environment',\n",
       "       'euro2016', 'even', 'every', 'everyone', 'everything', 'excited',\n",
       "       'face', 'family', 'fashion', 'father', 'fathers', 'fathersday',\n",
       "       'feel', 'feeling', 'finally', 'find', 'first', 'fitness', 'follow',\n",
       "       'followme', 'food', 'forex', 'forward', 'found', 'free', 'friday',\n",
       "       'friend', 'friends', 'fuck', 'full', 'fun', 'funny', 'game', 'gay',\n",
       "       'getting', 'girl', 'girls', 'give', 'go', 'god', 'going', 'gold',\n",
       "       'gonna', 'good', 'gorilla', 'got', 'grateful', 'great', 'gt',\n",
       "       'guy', 'guys', 'hair', 'happiness', 'happy', 'hard', 'hate', 'hea',\n",
       "       'head', 'healing', 'health', 'healthy', 'hear', 'help', 'hey',\n",
       "       'holiday', 'home', 'hope', 'hot', 'hour', 'hours', 'house', 'i_am',\n",
       "       'im', 'inspiration', 'instagood', 'job', 'joy', 'june', 'keep',\n",
       "       'kids', 'know', 'last', 'leave', 'left', 'libtard', 'life',\n",
       "       'listen', 'little', 'live', 'living', 'lol', 'london', 'long',\n",
       "       'look', 'looking', 'looks', 'lost', 'lot', 'love', 'loved',\n",
       "       'lovely', 'lt', 'made', 'make', 'makes', 'making', 'man', 'many',\n",
       "       'may', 'media', 'meet', 'men', 'might', 'mind', 'mindset', 'miss',\n",
       "       'model', 'mom', 'moment', 'monday', 'money', 'month', 'mood',\n",
       "       'morning', 'motivation', 'movie', 'much', 'music', 'must', 'need',\n",
       "       'never', 'new', 'news', 'next', 'nice', 'night', 'nothing', 'now',\n",
       "       'nude', 'obama', 'oh', 'old', 'omg', 'one', 'open', 'orlando',\n",
       "       'others', 'pa', 'pay', 'peace', 'people', 'perfect', 'person',\n",
       "       'photo', 'photooftheday', 'place', 'play', 'playing', 'please',\n",
       "       'poetry', 'polar', 'politics', 'porn', 'positive', 'post', 'ppl',\n",
       "       'pretty', 'proud', 'quote', 'quotes', 'race', 'racing', 'racist',\n",
       "       'read', 'ready', 'real', 'really', 'rest', 'retweet', 'right',\n",
       "       'rip', 'run', 'sad', 'said', 'saturday', 'say', 'says', 'school',\n",
       "       'season', 'see', 'seeing', 'selfie', 'sex', 'sexy', 'share',\n",
       "       'shit', 'shooting', 'shop', 'show', 'silver', 'simulation',\n",
       "       'simulator', 'sleep', 'smile', 'someone', 'something', 'song',\n",
       "       'soon', 'sta', 'stay', 'still', 'stop', 'strong', 'success',\n",
       "       'summer', 'sun', 'sunday', 'super', 'take', 'tbt', 'team', 'tear',\n",
       "       'thank', 'thankful', 'thanks', 'thing', 'things', 'think',\n",
       "       'thought', 'thursday', 'time', 'times', 'today', 'tomorrow',\n",
       "       'tonight', 'top', 'travel', 'true', 'trump', 'truth', 'try',\n",
       "       'tweets', 'twitter', 'two', 'ur', 'us', 'use', 'via', 'video',\n",
       "       'wait', 'waiting', 'want', 'watch', 'watching', 'way', 'wedding',\n",
       "       'week', 'weekend', 'weeks', 'well', 'whatever', 'white', 'will',\n",
       "       'win', 'wish', 'without', 'woman', 'women', 'wonderful', 'words',\n",
       "       'work', 'working', 'world', 'wow', 'yay', 'yeah', 'year', 'years',\n",
       "       'yes', 'yet', 'young'], dtype='<U33')"
      ]
     },
     "execution_count": 8,
     "metadata": {},
     "output_type": "execute_result"
    }
   ],
   "source": [
    "idx_to_word[np.asarray((np.sum(vectors, axis=0) >100))[0]]"
   ]
  },
  {
   "cell_type": "markdown",
   "metadata": {
    "id": "gyeHb11ubWkL"
   },
   "source": [
    "#### y to one-hot"
   ]
  },
  {
   "cell_type": "code",
   "execution_count": 11,
   "metadata": {},
   "outputs": [],
   "source": [
    "def list2onehot(y, list_classes):\n",
    "    \"\"\"\n",
    "    y = list of class lables of length n\n",
    "    output = n x k array, i th row = one-hot encoding of y[i] (e.g., [0,0,1,0,0])\n",
    "    \"\"\"\n",
    "    Y = np.zeros(shape = [len(y), len(list_classes)], dtype=int)\n",
    "    for i in np.arange(Y.shape[0]):\n",
    "        for j in np.arange(len(list_classes)):\n",
    "            if y[i] == list_classes[j]:\n",
    "                Y[i,j] = 1\n",
    "    return Y"
   ]
  },
  {
   "cell_type": "code",
   "execution_count": 12,
   "metadata": {
    "id": "Ox5DOrBxbUS4"
   },
   "outputs": [
    {
     "ename": "NameError",
     "evalue": "name 'list_to_onehot' is not defined",
     "output_type": "error",
     "traceback": [
      "\u001b[1;31m---------------------------------------------------------------------------\u001b[0m",
      "\u001b[1;31mNameError\u001b[0m                                 Traceback (most recent call last)",
      "\u001b[1;32m<ipython-input-12-65ac42e537f0>\u001b[0m in \u001b[0;36m<module>\u001b[1;34m\u001b[0m\n\u001b[0;32m      2\u001b[0m \u001b[0mX\u001b[0m \u001b[1;33m=\u001b[0m \u001b[0mnp\u001b[0m\u001b[1;33m.\u001b[0m\u001b[0masarray\u001b[0m\u001b[1;33m(\u001b[0m\u001b[0mvectors\u001b[0m\u001b[1;33m.\u001b[0m\u001b[0mtodense\u001b[0m\u001b[1;33m(\u001b[0m\u001b[1;33m)\u001b[0m\u001b[1;33m,\u001b[0m \u001b[0mdtype\u001b[0m \u001b[1;33m=\u001b[0m \u001b[0mnp\u001b[0m\u001b[1;33m.\u001b[0m\u001b[0mfloat32\u001b[0m\u001b[1;33m)\u001b[0m \u001b[1;31m# freq form (31962 tweets, 41104 word frequencies)\u001b[0m\u001b[1;33m\u001b[0m\u001b[1;33m\u001b[0m\u001b[0m\n\u001b[0;32m      3\u001b[0m \u001b[0my\u001b[0m \u001b[1;33m=\u001b[0m \u001b[0mtrain\u001b[0m\u001b[1;33m[\u001b[0m\u001b[1;34m'label'\u001b[0m\u001b[1;33m]\u001b[0m\u001b[1;33m\u001b[0m\u001b[1;33m\u001b[0m\u001b[0m\n\u001b[1;32m----> 4\u001b[1;33m \u001b[0my_oh\u001b[0m \u001b[1;33m=\u001b[0m \u001b[0mlist_to_onehot\u001b[0m\u001b[1;33m(\u001b[0m\u001b[0my\u001b[0m\u001b[1;33m,\u001b[0m\u001b[1;33m[\u001b[0m\u001b[1;36m0\u001b[0m\u001b[1;33m,\u001b[0m \u001b[1;36m1\u001b[0m\u001b[1;33m]\u001b[0m\u001b[1;33m)\u001b[0m\u001b[1;33m\u001b[0m\u001b[1;33m\u001b[0m\u001b[0m\n\u001b[0m\u001b[0;32m      5\u001b[0m \u001b[1;31m# y_test_oh = list_to_onehot(y_test,[0, 1])\u001b[0m\u001b[1;33m\u001b[0m\u001b[1;33m\u001b[0m\u001b[1;33m\u001b[0m\u001b[0m\n",
      "\u001b[1;31mNameError\u001b[0m: name 'list_to_onehot' is not defined"
     ]
    }
   ],
   "source": [
    "# X = train['tweet'] # word form (31962 tweets,)\n",
    "X = np.asarray(vectors.todense(), dtype = np.float32) # freq form (31962 tweets, 41104 word frequencies) \n",
    "y = train['label']\n",
    "y_oh = list_to_onehot(y,[0, 1])\n",
    "# y_test_oh = list_to_onehot(y_test,[0, 1])"
   ]
  },
  {
   "cell_type": "markdown",
   "metadata": {
    "id": "lxYCx7hWPaQX"
   },
   "source": [
    "### Split train and valid "
   ]
  },
  {
   "cell_type": "code",
   "execution_count": null,
   "metadata": {
    "id": "XZ6vgK50h26w"
   },
   "outputs": [],
   "source": [
    "X_train =[]\n",
    "X_test = []\n",
    "y_test = []\n",
    "y_train = []\n",
    "for i in np.arange(X.shape[0]):\n",
    "    # for each example i, make it into train set with probabiliy 0.8 and into test set otherwise \n",
    "    U = np.random.rand() # Uniform([0,1]) variable\n",
    "    if U < 0.8:\n",
    "        # X_train = np.concatenate(X_train,X[i,:])\n",
    "        X_train.append(X[i,:])\n",
    "        y_train.append(y_oh[i,:].copy())\n",
    "    else:\n",
    "        # X_test = np.concatenate(X_test,X[i,:])\n",
    "        X_test.append(X[i,:])\n",
    "        y_test.append(y_oh[i,:].copy())\n",
    "X_train = np.asarray(X_train)\n",
    "X_test = np.asarray(X_test)\n",
    "y_train = np.asarray(y_train)\n",
    "y_test = np.asarray(y_test)"
   ]
  },
  {
   "cell_type": "code",
   "execution_count": null,
   "metadata": {
    "id": "LyA65MJpbnwT"
   },
   "outputs": [],
   "source": [
    "print(X_train.shape, X_test.shape)\n",
    "print(y_train.shape, y_test.shape)"
   ]
  },
  {
   "cell_type": "code",
   "execution_count": null,
   "metadata": {},
   "outputs": [],
   "source": [
    "del train"
   ]
  },
  {
   "cell_type": "markdown",
   "metadata": {
    "id": "asW0RcciDZyq"
   },
   "source": [
    "### Wordcloud for each Label"
   ]
  },
  {
   "cell_type": "code",
   "execution_count": 14,
   "metadata": {
    "colab": {
     "base_uri": "https://localhost:8080/",
     "height": 631
    },
    "id": "k4fZYd4u_NN1",
    "outputId": "3ed227ea-4a97-4548-f356-32f4ba66d1ce"
   },
   "outputs": [],
   "source": [
    "# word cloud for different labels\n",
    "def plot_wordcloud(Y, H, idx_to_word, categories):\n",
    "        # plot the class-conditioanl PMF as wordclouds \n",
    "        # Y = (n x k), H = (p x n) (\\Phi in lecture note), W = (p x k)\n",
    "        # idx_to_word = list of words used in the vectorization of documents \n",
    "        # categories = list of class labels\n",
    "        # prior on class labels = empirical PMF = [ # class i examples / total ]\n",
    "        # class-conditional for class i = [ # word j in class i examples / # words in class i examples]\n",
    "        \n",
    "        class_conditional_PMF = []\n",
    "        for i in np.arange(Y.shape[1]):\n",
    "            idx = np.where(Y[:,i]==1)\n",
    "            sub_H = H[:,idx[0]]\n",
    "            word_count_per_class = np.sum(sub_H, axis=1)\n",
    "            class_conditional_PMF.append(word_count_per_class/np.sum(word_count_per_class))\n",
    "    \n",
    "        ### topic mode\n",
    "        num_words_to_sample = 10000\n",
    "        \n",
    "        fig, axs = plt.subplots(nrows=1, ncols=2, figsize=(14, 7), subplot_kw={'xticks': [], 'yticks': []})\n",
    "        for ax, i in zip(axs.flat, np.arange(Y.shape[0])):\n",
    "            dist = class_conditional_PMF[i]\n",
    "\n",
    "            # sample (num_words_to_sample) proportionate to CC_PMF\n",
    "            list_words = []\n",
    "        \n",
    "            for j in range(num_words_to_sample):\n",
    "                idx = np.random.choice(np.arange(H.shape[0]), p=dist)\n",
    "                list_words.append(idx_to_word[idx])\n",
    "                \n",
    "            Y = \" \".join(list_words) # list to string\n",
    "#             print(Y)\n",
    "            stopwords = STOPWORDS\n",
    "            stopwords.update([\"’\", \"“\", \"”\", \"000\", \"000 000\", \"https\", \"co\", \"user\"])\n",
    "            wordcloud = WordCloud(background_color=\"black\",\n",
    "                                  relative_scaling=0.1,\n",
    "                                  width=400,\n",
    "                                  height=400).generate(Y)\n",
    "            ax.imshow(wordcloud, interpolation='bilinear')\n",
    "            ax.set_xlabel(categories[i], fontsize='20')\n",
    "            # ax.axis(\"off\")\n",
    "\n",
    "        plt.tight_layout()\n",
    "        plt.subplots_adjust(0.08, 0.02, 0.92, 0.85, 0.08, 0.08)\n",
    "        plt.savefig('class_conditional_PMF_wordcloud_twitter.pdf', bbox_inches='tight')"
   ]
  },
  {
   "cell_type": "code",
   "execution_count": 15,
   "metadata": {
    "colab": {
     "base_uri": "https://localhost:8080/",
     "height": 631
    },
    "id": "k4fZYd4u_NN1",
    "outputId": "3ed227ea-4a97-4548-f356-32f4ba66d1ce"
   },
   "outputs": [
    {
     "ename": "NameError",
     "evalue": "name 'y_train' is not defined",
     "output_type": "error",
     "traceback": [
      "\u001b[1;31m---------------------------------------------------------------------------\u001b[0m",
      "\u001b[1;31mNameError\u001b[0m                                 Traceback (most recent call last)",
      "\u001b[1;32m<ipython-input-15-af11720b77a1>\u001b[0m in \u001b[0;36m<module>\u001b[1;34m\u001b[0m\n\u001b[0;32m      1\u001b[0m \u001b[0mcategories\u001b[0m \u001b[1;33m=\u001b[0m \u001b[1;33m[\u001b[0m\u001b[1;34m'non-racist/sexist'\u001b[0m\u001b[1;33m,\u001b[0m\u001b[1;34m'racist/sexist'\u001b[0m\u001b[1;33m]\u001b[0m\u001b[1;33m\u001b[0m\u001b[1;33m\u001b[0m\u001b[0m\n\u001b[1;32m----> 2\u001b[1;33m \u001b[0mplot_wordcloud\u001b[0m\u001b[1;33m(\u001b[0m\u001b[0mY\u001b[0m\u001b[1;33m=\u001b[0m\u001b[0mnp\u001b[0m\u001b[1;33m.\u001b[0m\u001b[0masarray\u001b[0m\u001b[1;33m(\u001b[0m\u001b[0my_train\u001b[0m\u001b[1;33m)\u001b[0m\u001b[1;33m,\u001b[0m \u001b[0mH\u001b[0m\u001b[1;33m=\u001b[0m\u001b[0mX_train\u001b[0m\u001b[1;33m.\u001b[0m\u001b[0mT\u001b[0m\u001b[1;33m,\u001b[0m \u001b[0midx_to_word\u001b[0m\u001b[1;33m=\u001b[0m\u001b[0midx_to_word\u001b[0m\u001b[1;33m,\u001b[0m \u001b[0mcategories\u001b[0m\u001b[1;33m=\u001b[0m\u001b[0mcategories\u001b[0m\u001b[1;33m)\u001b[0m\u001b[1;33m\u001b[0m\u001b[1;33m\u001b[0m\u001b[0m\n\u001b[0m",
      "\u001b[1;31mNameError\u001b[0m: name 'y_train' is not defined"
     ]
    }
   ],
   "source": [
    "categories = ['non-racist/sexist','racist/sexist']\n",
    "plot_wordcloud(Y=np.asarray(y_train), H=X_train.T, idx_to_word=idx_to_word, categories=categories)"
   ]
  },
  {
   "cell_type": "markdown",
   "metadata": {
    "id": "c-Xsny8L_F5a"
   },
   "source": [
    "## Naive Bayes Classifier"
   ]
  },
  {
   "cell_type": "code",
   "execution_count": null,
   "metadata": {
    "id": "XQfhBCwB7OZ5"
   },
   "outputs": [],
   "source": [
    "# subset from 23800 tweets (for memory reasons: \n",
    "# MemoryError: Unable to allocate 7.28 GiB for an array with shape (23759, 41104) and data type float64)\n",
    "X_train_sm = []\n",
    "y_train_sm = []\n",
    "for i in np.arange(X_train.shape[0]):\n",
    "    U = np.random.rand() # Uniform([0,1]) variable\n",
    "    if U < 0.3:\n",
    "        # X_train = np.concatenate(X_train,X[i,:])\n",
    "        X_train_sm.append(X[i,:])\n",
    "        y_train_sm.append(y_oh[i,:].copy())"
   ]
  },
  {
   "cell_type": "code",
   "execution_count": null,
   "metadata": {
    "id": "NrwGheMOb3E_"
   },
   "outputs": [],
   "source": [
    "X_train_sm = np.array(X_train_sm)\n",
    "y_train_sm = np.array(y_train_sm)\n",
    "X_train_sm.shape"
   ]
  },
  {
   "cell_type": "code",
   "execution_count": null,
   "metadata": {
    "id": "bahXbtKIb5Jt"
   },
   "outputs": [],
   "source": [
    "def fit_NB(Y, H,pseudocount = 10**-5):\n",
    "    '''\n",
    "    Fit Multinomial Naive Bayes Calssifier\n",
    "    Use the Maximum Likelihood prior and class conditional probabilities (in closed forms)\n",
    "    Y = (n x k), H = (p x n) (\\Phi in lecture note), W = (p x k)\n",
    "    prior on class labels = empirical PMF = [ # class i examples / total ]\n",
    "    class-conditional for class i = [ # word j in class i examples / # words in class i examples]\n",
    "    Output = prior (k, ), class_conditional_PMF = (k, p)\n",
    "    '''\n",
    "    k = Y.shape[1] # number of classes (2)\n",
    "\n",
    "    prior = np.sum(Y, axis=0)/np.sum(np.sum(Y, axis=0))\n",
    "#     print(prior)\n",
    "\n",
    "    class_conditional_PMF = []\n",
    "    for i in np.arange(Y.shape[1]):\n",
    "        idx = np.where(Y[:,i]==1) # select indices with class 0 or 1\n",
    "        sub_H = H[:,idx[0]] + pseudocount # add psuedocount\n",
    "        word_count_per_class = np.sum(sub_H, axis=1)\n",
    "        class_conditional_PMF.append(word_count_per_class/np.sum(word_count_per_class))\n",
    "\n",
    "    return prior, np.asarray(class_conditional_PMF)\n",
    "\n",
    "#test \n",
    "prior, class_conditional_PMF = fit_NB(Y=y_train_sm, H=X_train_sm.T)\n",
    "print(prior)\n",
    "print(class_conditional_PMF)"
   ]
  },
  {
   "cell_type": "code",
   "execution_count": null,
   "metadata": {
    "id": "Sc3fXo5Wb6-Y"
   },
   "outputs": [],
   "source": [
    "class_conditional_PMF.shape\n",
    "X_train_sm.shape"
   ]
  },
  {
   "cell_type": "code",
   "execution_count": null,
   "metadata": {
    "id": "3d7GhTP_b9QS"
   },
   "outputs": [],
   "source": [
    "fig, ax = plt.subplots(nrows=1, ncols=1, figsize=[15, 5])\n",
    "for i in [0,1]:\n",
    "    ax.plot(np.arange(X_train_sm.shape[1]), class_conditional_PMF[i], label=categories[i])\n",
    "ax.legend(fontsize='15')\n",
    "plt.suptitle(\"Class conditional PMFs\", fontsize='15')\n",
    "plt.savefig('class_conditional_PMF_dist_twitter.pdf', bbox_inches='tight')"
   ]
  },
  {
   "cell_type": "code",
   "execution_count": null,
   "metadata": {
    "id": "gkzT9_xHb-uZ"
   },
   "outputs": [],
   "source": [
    "def predict_MNB(X_test, prior, class_conditional_PMF):\n",
    "    '''\n",
    "    Compute predicted PMF for the test data given prior and class_conditional_PMF\n",
    "    Simple use of Bayes' Theorem \n",
    "    X_test = (p x n) (words x docs)\n",
    "    '''\n",
    "    print(X_test.shape)\n",
    "    print(class_conditional_PMF.shape)\n",
    "    \n",
    "    P = class_conditional_PMF / np.min(class_conditional_PMF) # normalize so that log(P) is not too small \n",
    "    Q = np.exp(X_test @ np.log(P).T)\n",
    "    Q = Q * np.repeat(prior[:, np.newaxis], repeats=Q.shape[0], axis=1).T\n",
    "    sum_of_rows = Q.sum(axis=1)\n",
    "    \n",
    "    return Q / sum_of_rows[:, np.newaxis]\n",
    "\n",
    "# test \n",
    "predictive_PMF = predict_MNB(X_test, prior, class_conditional_PMF)\n",
    "plt.plot(predictive_PMF[4])"
   ]
  },
  {
   "cell_type": "code",
   "execution_count": 32,
   "metadata": {
    "id": "tuN_mdBGcA3i"
   },
   "outputs": [],
   "source": [
    "def compute_accuracy_metrics(Y_test, P_pred, use_opt_threshold=False, verbose=True):\n",
    "    \n",
    "    # y_test = binary label \n",
    "    # P_pred = predicted probability for y_test\n",
    "    # compuate various binary classification accuracy metrics\n",
    "    fpr, tpr, thresholds = metrics.roc_curve(Y_test, P_pred, pos_label=None)\n",
    "    mythre = thresholds[np.argmax(tpr - fpr)]\n",
    "    myauc = metrics.auc(fpr, tpr)\n",
    "    # print('!!! auc', myauc)\n",
    "    \n",
    "    # Compute classification statistics\n",
    "    threshold = 0.5\n",
    "    if use_opt_threshold:\n",
    "        threshold = mythre\n",
    "    \n",
    "    Y_pred = P_pred.copy()\n",
    "    Y_pred[Y_pred < threshold] = 0\n",
    "    Y_pred[Y_pred >= threshold] = 1\n",
    "\n",
    "    mcm = confusion_matrix(Y_test, Y_pred)\n",
    "    \n",
    "    tn = mcm[0, 0]\n",
    "    tp = mcm[1, 1]\n",
    "    fn = mcm[1, 0]\n",
    "    fp = mcm[0, 1]\n",
    "\n",
    "    accuracy = (tp + tn) / (tp + tn + fp + fn)\n",
    "    sensitivity = tn / (tn + fp)\n",
    "    specificity = tp / (tp + fn)\n",
    "    precision = tp / (tp + fp)\n",
    "    fall_out = fp / (fp + tn)\n",
    "    miss_rate = fn / (fn + tp)\n",
    "\n",
    "    # Save results\n",
    "    results_dict = {}\n",
    "    results_dict.update({'Y_test': Y_test})\n",
    "    results_dict.update({'Y_pred': Y_pred})\n",
    "    results_dict.update({'AUC': myauc})\n",
    "    results_dict.update({'Opt_threshold': mythre})\n",
    "    results_dict.update({'Accuracy': accuracy})\n",
    "    results_dict.update({'Sensitivity': sensitivity})\n",
    "    results_dict.update({'Specificity': specificity})\n",
    "    results_dict.update({'Precision': precision})\n",
    "    results_dict.update({'Fall_out': fall_out})\n",
    "    results_dict.update({'Miss_rate': miss_rate})\n",
    "    results_dict.update({'Confusion_mx': mcm})\n",
    "    \n",
    "    \n",
    "    if verbose:\n",
    "        for key in [key for key in results_dict.keys()]:\n",
    "            if key not in ['Y_test', 'Y_pred', 'Confusion_mx']:\n",
    "                print('% s ===> %.3f' % (key, results_dict.get(key)))\n",
    "        print('Confusion matrix \\n ===>\\n', mcm)\n",
    "            \n",
    "    return results_dict"
   ]
  },
  {
   "cell_type": "code",
   "execution_count": null,
   "metadata": {
    "id": "cEqPWwPOcDCk"
   },
   "outputs": [],
   "source": [
    "results_dict = compute_accuracy_metrics(Y_test=onehot_to_list(y_test), P_pred=predictive_PMF[:,1], verbose=True)"
   ]
  },
  {
   "cell_type": "markdown",
   "metadata": {},
   "source": [
    "# LR"
   ]
  },
  {
   "cell_type": "code",
   "execution_count": 17,
   "metadata": {},
   "outputs": [],
   "source": [
    "# def fit_LR_GD(Y, H, W0=None, sub_iter=100, stopping_diff=0.01):\n",
    "#         '''\n",
    "#         Convex optimization algorithm for Logistic Regression using Gradient Descent \n",
    "#         Y = (n x 1), H = (p x n) (\\Phi in lecture note), W = (p x 1)\n",
    "#         Logistic Regression: Y ~ Bernoulli(Q), Q = sigmoid(H.T @ W)\n",
    "#         MLE -->\n",
    "#         Find \\hat{W} = argmin_W ( sum_j ( log(1+exp(H_j.T @ W) ) - Y.T @ H.T @ W ) )\n",
    "#         '''\n",
    "#         if W0 is None:\n",
    "#             W0 = np.random.rand(H.shape[0],1) #If initial coefficients W0 is None, randomly initialize  \n",
    "            \n",
    "        \n",
    "        \n",
    "#         W1 = W0.copy()\n",
    "#         i = 0\n",
    "#         grad = np.ones(W0.shape)\n",
    "#         while (i < sub_iter) and (np.linalg.norm(grad) > stopping_diff):\n",
    "#             Q = 1/(1+np.exp(-H.T @ W1))  # probability matrix, same shape as Y\n",
    "#             # grad = H @ (Q - Y).T + alpha * np.ones(W0.shape[1])\n",
    "#             grad = H @ (Q - Y)\n",
    "#             W1 = W1 - (np.log(i+1) / (((i + 1) ** (0.5)))) * grad\n",
    "#             i = i + 1\n",
    "#             # print('iter %i, grad_norm %f' %(i, np.linalg.norm(grad)))\n",
    "#         return W1\n",
    "\n",
    "# H_train = np.vstack((np.ones(X_train.shape[0]), X_train.T))  # add first row of 1's for bias features \n",
    "\n",
    "#W = fit_LR_GD(Y=y_train, H=H_train) \n",
    "\n",
    "# H_test = np.vstack((np.ones(X_test.shape[0]), X_test.T))\n",
    "\n",
    "\n",
    "# Q = 1 / (1 + np.exp(-H_test.T @ W))\n",
    "\n",
    "# compute_accuracy_metrics(Y_test=np.argmax(y_test,axis=1), P_pred = np.argmax(Q,axis=1))"
   ]
  },
  {
   "cell_type": "code",
   "execution_count": 247,
   "metadata": {},
   "outputs": [
    {
     "data": {
      "text/plain": [
       "LogisticRegression(C=1.0, class_weight=None, dual=False, fit_intercept=True,\n",
       "                   intercept_scaling=1, l1_ratio=None, max_iter=100,\n",
       "                   multi_class='auto', n_jobs=None, penalty='l2',\n",
       "                   random_state=None, solver='lbfgs', tol=0.0001, verbose=0,\n",
       "                   warm_start=False)"
      ]
     },
     "execution_count": 247,
     "metadata": {},
     "output_type": "execute_result"
    }
   ],
   "source": [
    "LR = LogisticRegression()\n",
    "LR.fit(X_train, np.argmax(y_train,axis=1))"
   ]
  },
  {
   "cell_type": "code",
   "execution_count": 248,
   "metadata": {},
   "outputs": [],
   "source": [
    "LRpreds = LR.predict(X_test)"
   ]
  },
  {
   "cell_type": "code",
   "execution_count": 249,
   "metadata": {},
   "outputs": [
    {
     "name": "stdout",
     "output_type": "stream",
     "text": [
      "AUC ===> 0.749\n",
      "Opt_threshold ===> 1.000\n",
      "Accuracy ===> 0.959\n",
      "Sensitivity ===> 0.995\n",
      "Specificity ===> 0.503\n",
      "Precision ===> 0.882\n",
      "Fall_out ===> 0.005\n",
      "Miss_rate ===> 0.497\n",
      "Confusion matrix \n",
      " ===>\n",
      " [[5914   31]\n",
      " [ 229  232]]\n"
     ]
    },
    {
     "data": {
      "text/plain": [
       "{'AUC': 0.7490196650788409,\n",
       " 'Accuracy': 0.9594130502653762,\n",
       " 'Confusion_mx': array([[5914,   31],\n",
       "        [ 229,  232]], dtype=int64),\n",
       " 'Fall_out': 0.005214465937762826,\n",
       " 'Miss_rate': 0.4967462039045553,\n",
       " 'Opt_threshold': 1,\n",
       " 'Precision': 0.8821292775665399,\n",
       " 'Sensitivity': 0.9947855340622371,\n",
       " 'Specificity': 0.5032537960954447,\n",
       " 'Y_pred': array([0, 0, 0, ..., 0, 1, 0], dtype=int64),\n",
       " 'Y_test': array([0, 0, 0, ..., 0, 1, 0], dtype=int64)}"
      ]
     },
     "execution_count": 249,
     "metadata": {},
     "output_type": "execute_result"
    }
   ],
   "source": [
    "compute_accuracy_metrics(Y_test=np.argmax(y_test,axis=1), P_pred = LRpreds)"
   ]
  },
  {
   "cell_type": "code",
   "execution_count": 166,
   "metadata": {},
   "outputs": [],
   "source": [
    "def fit_LR(vectorizer=CountVectorizer, min_df = 0, train_size=0.8, penalty = 'l2', solver = 'lbfgs'):\n",
    "    vec=vectorizer(stop_words=stopwords, min_df =min_df)\n",
    "    vectors = vec.fit_transform(train[\"tweet\"])\n",
    "    idx_to_word = np.array(vec.get_feature_names())\n",
    "    X = np.asarray(vectors.todense(), dtype = np.float32)  \n",
    "    y = train['label']\n",
    "    X_train, X_test, y_train,y_test = train_test_split(X, y,train_size = train_size, random_state = 1)\n",
    "    LR = LogisticRegression(penalty = penalty, solver = solver)\n",
    "    LR.fit(X_train,y_train)\n",
    "    LRpreds = LR.predict(X_test)\n",
    "    accuracy = compute_accuracy_metrics(Y_test=y_test, P_pred = LRpreds)\n",
    "    coefs = np.ravel(LR.coef_)\n",
    "    top_ten_thresh = np.sort(coefs, )[-11]\n",
    "    bottom_ten_thresh = np.sort(coefs, )[10]\n",
    "    top_df = pd.DataFrame({'words': idx_to_word[coefs > top_ten_thresh], 'coefs': coefs[coefs > top_ten_thresh]})\n",
    "    top_df = top_df.sort_values(by=['coefs'], ascending = False, ignore_index=True)\n",
    "    bottom_df = pd.DataFrame({'words': idx_to_word[coefs < bottom_ten_thresh], 'coefs': coefs[coefs < bottom_ten_thresh]})\n",
    "    bottom_df = bottom_df.sort_values(by=['coefs'], ascending = True, ignore_index=True)\n",
    "    return {'Accuracy': accuracy.get('Accuracy'), 'top': top_df, 'bottom': bottom_df, 'n_cols': X_train.shape[1]}\n"
   ]
  },
  {
   "cell_type": "code",
   "execution_count": 168,
   "metadata": {},
   "outputs": [
    {
     "name": "stdout",
     "output_type": "stream",
     "text": [
      "AUC ===> 0.712\n",
      "Opt_threshold ===> 1.000\n",
      "Accuracy ===> 0.956\n",
      "Sensitivity ===> 0.994\n",
      "Specificity ===> 0.429\n",
      "Precision ===> 0.840\n",
      "Fall_out ===> 0.006\n",
      "Miss_rate ===> 0.571\n",
      "Confusion matrix \n",
      " ===>\n",
      " [[14804    89]\n",
      " [  621   467]]\n",
      "AUC ===> 0.708\n",
      "Opt_threshold ===> 1.000\n",
      "Accuracy ===> 0.955\n",
      "Sensitivity ===> 0.994\n",
      "Specificity ===> 0.423\n",
      "Precision ===> 0.835\n",
      "Fall_out ===> 0.006\n",
      "Miss_rate ===> 0.577\n",
      "Confusion matrix \n",
      " ===>\n",
      " [[14802    91]\n",
      " [  628   460]]\n"
     ]
    }
   ],
   "source": [
    "accuracies = []\n",
    "for i in range(1,11): \n",
    "    accuracies.append(fit_LR(min_df = i, train_size = 0.5).get('Accuracy'))\n",
    "    sizes.append(i)"
   ]
  },
  {
   "cell_type": "code",
   "execution_count": 170,
   "metadata": {},
   "outputs": [
    {
     "data": {
      "text/plain": [
       "[<matplotlib.lines.Line2D at 0x25b691807c0>]"
      ]
     },
     "execution_count": 170,
     "metadata": {},
     "output_type": "execute_result"
    },
    {
     "data": {
      "image/png": "[encoded data removed]",
      "text/plain": [
       "<Figure size 432x288 with 1 Axes>"
      ]
     },
     "metadata": {
      "needs_background": "light"
     },
     "output_type": "display_data"
    }
   ],
   "source": [
    "plt.plot(range(1,11),accuracies)"
   ]
  },
  {
   "cell_type": "code",
   "execution_count": 141,
   "metadata": {},
   "outputs": [
    {
     "name": "stdout",
     "output_type": "stream",
     "text": [
      "(9588, 41230)\n",
      "(9588, 41230)\n",
      "(9588, 15272)\n",
      "(9588, 9848)\n",
      "(9588, 7540)\n",
      "(9588, 6123)\n",
      "(9588, 5197)\n",
      "(9588, 4537)\n",
      "(9588, 4026)\n",
      "(9588, 3645)\n",
      "(9588, 3356)\n"
     ]
    }
   ],
   "source": [
    "n_columns = []\n",
    "for i in range(1,11):\n",
    "    n_columns.append(fit_LR(min_df = i, train_size = 0.3).get('n_cols'))"
   ]
  },
  {
   "cell_type": "code",
   "execution_count": 144,
   "metadata": {},
   "outputs": [
    {
     "data": {
      "text/plain": [
       "[<matplotlib.lines.Line2D at 0x25b659f32e0>]"
      ]
     },
     "execution_count": 144,
     "metadata": {},
     "output_type": "execute_result"
    },
    {
     "data": {
      "image/png": "[encoded data removed]",
      "text/plain": [
       "<Figure size 432x288 with 1 Axes>"
      ]
     },
     "metadata": {
      "needs_background": "light"
     },
     "output_type": "display_data"
    }
   ],
   "source": [
    "plt.plot(range(1,11),n_columns)"
   ]
  },
  {
   "cell_type": "code",
   "execution_count": null,
   "metadata": {},
   "outputs": [],
   "source": [
    "accuracies = []\n",
    "sizes = []\n",
    "for i in np.arange(0.1,1,0.1):\n",
    "    accuracies.append(fit_LR(min_df = 2, train_size = i))\n",
    "    sizes.append(i)"
   ]
  },
  {
   "cell_type": "code",
   "execution_count": null,
   "metadata": {},
   "outputs": [],
   "source": [
    "plt.plot(sizes, accuracies)"
   ]
  },
  {
   "cell_type": "code",
   "execution_count": null,
   "metadata": {},
   "outputs": [],
   "source": [
    "fit_LR(min_df = 2, train_size = 0.8, vectorizer=TfidfVectorizer)\n",
    "fit_LR(min_df = 2, train_size = 0.8, vectorizer=CountVectorizer)"
   ]
  },
  {
   "cell_type": "code",
   "execution_count": 162,
   "metadata": {},
   "outputs": [
    {
     "name": "stdout",
     "output_type": "stream",
     "text": [
      "AUC ===> 0.745\n",
      "Opt_threshold ===> 1.000\n",
      "Accuracy ===> 0.960\n",
      "Sensitivity ===> 0.993\n",
      "Specificity ===> 0.497\n",
      "Precision ===> 0.846\n",
      "Fall_out ===> 0.007\n",
      "Miss_rate ===> 0.503\n",
      "Confusion matrix \n",
      " ===>\n",
      " [[5921   39]\n",
      " [ 218  215]]\n"
     ]
    }
   ],
   "source": [
    "top_df = fit_LR(min_df = 2, train_size = 0.8, vectorizer=CountVectorizer).get('top')\n",
    "bottom_df = fit_LR(min_df = 2, train_size = 0.8, vectorizer=CountVectorizer).get('bottom')"
   ]
  },
  {
   "cell_type": "code",
   "execution_count": 163,
   "metadata": {},
   "outputs": [
    {
     "data": {
      "text/html": [
       "<div>\n",
       "<style scoped>\n",
       "    .dataframe tbody tr th:only-of-type {\n",
       "        vertical-align: middle;\n",
       "    }\n",
       "\n",
       "    .dataframe tbody tr th {\n",
       "        vertical-align: top;\n",
       "    }\n",
       "\n",
       "    .dataframe thead th {\n",
       "        text-align: right;\n",
       "    }\n",
       "</style>\n",
       "<table border=\"1\" class=\"dataframe\">\n",
       "  <thead>\n",
       "    <tr style=\"text-align: right;\">\n",
       "      <th></th>\n",
       "      <th>words</th>\n",
       "      <th>coefs</th>\n",
       "    </tr>\n",
       "  </thead>\n",
       "  <tbody>\n",
       "    <tr>\n",
       "      <th>0</th>\n",
       "      <td>allahsoil</td>\n",
       "      <td>4.485203</td>\n",
       "    </tr>\n",
       "    <tr>\n",
       "      <th>1</th>\n",
       "      <td>racism</td>\n",
       "      <td>3.130266</td>\n",
       "    </tr>\n",
       "    <tr>\n",
       "      <th>2</th>\n",
       "      <td>bigot</td>\n",
       "      <td>2.908237</td>\n",
       "    </tr>\n",
       "    <tr>\n",
       "      <th>3</th>\n",
       "      <td>white</td>\n",
       "      <td>2.641452</td>\n",
       "    </tr>\n",
       "    <tr>\n",
       "      <th>4</th>\n",
       "      <td>racist</td>\n",
       "      <td>2.620348</td>\n",
       "    </tr>\n",
       "    <tr>\n",
       "      <th>5</th>\n",
       "      <td>blacklivesmatter</td>\n",
       "      <td>2.483757</td>\n",
       "    </tr>\n",
       "    <tr>\n",
       "      <th>6</th>\n",
       "      <td>maga</td>\n",
       "      <td>2.468139</td>\n",
       "    </tr>\n",
       "    <tr>\n",
       "      <th>7</th>\n",
       "      <td>2017</td>\n",
       "      <td>2.331907</td>\n",
       "    </tr>\n",
       "    <tr>\n",
       "      <th>8</th>\n",
       "      <td>latest</td>\n",
       "      <td>2.322576</td>\n",
       "    </tr>\n",
       "    <tr>\n",
       "      <th>9</th>\n",
       "      <td>equality</td>\n",
       "      <td>2.276078</td>\n",
       "    </tr>\n",
       "  </tbody>\n",
       "</table>\n",
       "</div>"
      ],
      "text/plain": [
       "              words     coefs\n",
       "0         allahsoil  4.485203\n",
       "1            racism  3.130266\n",
       "2             bigot  2.908237\n",
       "3             white  2.641452\n",
       "4            racist  2.620348\n",
       "5  blacklivesmatter  2.483757\n",
       "6              maga  2.468139\n",
       "7              2017  2.331907\n",
       "8            latest  2.322576\n",
       "9          equality  2.276078"
      ]
     },
     "execution_count": 163,
     "metadata": {},
     "output_type": "execute_result"
    }
   ],
   "source": [
    "top_df"
   ]
  },
  {
   "cell_type": "code",
   "execution_count": 164,
   "metadata": {},
   "outputs": [
    {
     "data": {
      "text/html": [
       "<div>\n",
       "<style scoped>\n",
       "    .dataframe tbody tr th:only-of-type {\n",
       "        vertical-align: middle;\n",
       "    }\n",
       "\n",
       "    .dataframe tbody tr th {\n",
       "        vertical-align: top;\n",
       "    }\n",
       "\n",
       "    .dataframe thead th {\n",
       "        text-align: right;\n",
       "    }\n",
       "</style>\n",
       "<table border=\"1\" class=\"dataframe\">\n",
       "  <thead>\n",
       "    <tr style=\"text-align: right;\">\n",
       "      <th></th>\n",
       "      <th>words</th>\n",
       "      <th>coefs</th>\n",
       "    </tr>\n",
       "  </thead>\n",
       "  <tbody>\n",
       "    <tr>\n",
       "      <th>0</th>\n",
       "      <td>bihday</td>\n",
       "      <td>-2.213675</td>\n",
       "    </tr>\n",
       "    <tr>\n",
       "      <th>1</th>\n",
       "      <td>orlando</td>\n",
       "      <td>-1.813595</td>\n",
       "    </tr>\n",
       "    <tr>\n",
       "      <th>2</th>\n",
       "      <td>day</td>\n",
       "      <td>-1.806850</td>\n",
       "    </tr>\n",
       "    <tr>\n",
       "      <th>3</th>\n",
       "      <td>smile</td>\n",
       "      <td>-1.701322</td>\n",
       "    </tr>\n",
       "    <tr>\n",
       "      <th>4</th>\n",
       "      <td>hardcore</td>\n",
       "      <td>-1.643043</td>\n",
       "    </tr>\n",
       "    <tr>\n",
       "      <th>5</th>\n",
       "      <td>healthy</td>\n",
       "      <td>-1.599646</td>\n",
       "    </tr>\n",
       "    <tr>\n",
       "      <th>6</th>\n",
       "      <td>tomorrow</td>\n",
       "      <td>-1.598249</td>\n",
       "    </tr>\n",
       "    <tr>\n",
       "      <th>7</th>\n",
       "      <td>friday</td>\n",
       "      <td>-1.553784</td>\n",
       "    </tr>\n",
       "    <tr>\n",
       "      <th>8</th>\n",
       "      <td>life</td>\n",
       "      <td>-1.500524</td>\n",
       "    </tr>\n",
       "    <tr>\n",
       "      <th>9</th>\n",
       "      <td>weekend</td>\n",
       "      <td>-1.433967</td>\n",
       "    </tr>\n",
       "  </tbody>\n",
       "</table>\n",
       "</div>"
      ],
      "text/plain": [
       "      words     coefs\n",
       "0    bihday -2.213675\n",
       "1   orlando -1.813595\n",
       "2       day -1.806850\n",
       "3     smile -1.701322\n",
       "4  hardcore -1.643043\n",
       "5   healthy -1.599646\n",
       "6  tomorrow -1.598249\n",
       "7    friday -1.553784\n",
       "8      life -1.500524\n",
       "9   weekend -1.433967"
      ]
     },
     "execution_count": 164,
     "metadata": {},
     "output_type": "execute_result"
    }
   ],
   "source": [
    "bottom_df"
   ]
  }
 ],
 "metadata": {
  "colab": {
   "collapsed_sections": [],
   "name": "COLAB_M156_FinalProject.ipynb",
   "provenance": [],
   "toc_visible": true
  },
  "kernelspec": {
   "display_name": "Python 3",
   "language": "python",
   "name": "python3"
  },
  "language_info": {
   "codemirror_mode": {
    "name": "ipython",
    "version": 3
   },
   "file_extension": ".py",
   "mimetype": "text/x-python",
   "name": "python",
   "nbconvert_exporter": "python",
   "pygments_lexer": "ipython3",
   "version": "3.8.8"
  }
 },
 "nbformat": 4,
 "nbformat_minor": 1
}
